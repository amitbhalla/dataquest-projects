{
 "cells": [
  {
   "cell_type": "markdown",
   "metadata": {
    "collapsed": true
   },
   "source": [
    "# Hacker News Analysis (Amit)"
   ]
  },
  {
   "cell_type": "markdown",
   "metadata": {},
   "source": [
    "---"
   ]
  },
  {
   "cell_type": "markdown",
   "metadata": {},
   "source": [
    "## Introduction"
   ]
  },
  {
   "cell_type": "markdown",
   "metadata": {},
   "source": [
    "In this project we will be cleaning and analyzing Hacker News data. Hacker News is a site started by the startup incubator Y Combinator, where user-submitted stories (known as \"posts\") are voted and commented upon, similar to reddit. Hacker News is extremely popular in technology and startup circles, and posts that make it to the top of Hacker News' listings can get hundreds of thousands of visitors as a result."
   ]
  },
  {
   "cell_type": "markdown",
   "metadata": {},
   "source": [
    "## Goals"
   ]
  },
  {
   "cell_type": "markdown",
   "metadata": {},
   "source": [
    "We're specifically interested in posts whose titles begin with either `Ask HN` or `Show HN`. Users submit `Ask HN` posts to ask the Hacker News community a specific question. Below are a couple examples:\n",
    "\n",
    "* `Ask HN: How to improve my personal website?`\n",
    "* `Ask HN: Am I the only one outraged by Twitter shutting down share counts?`\n",
    "* `Ask HN: Aby recent changes to CSS that broke mobile?`\n",
    "\n",
    "Likewise, users submit `Show HN` posts to show the Hacker News community a project, product, or just generally something interesting. Below are a couple of examples:\n",
    "\n",
    "* `Show HN: Wio Link  ESP8266 Based Web of Things Hardware Development Platform`\n",
    "* `Show HN: Something pointless I made`\n",
    "* `Show HN: Shanhu.io, a programming playground powered by e8vm`\n",
    "\n",
    "We'll compare these two types of posts to determine the following:\n",
    "\n",
    "* **Do Ask HN or Show HN receive more comments on average?**\n",
    "* **Do posts created at a certain time receive more comments on average?**"
   ]
  },
  {
   "cell_type": "markdown",
   "metadata": {},
   "source": [
    "## About the data"
   ]
  },
  {
   "cell_type": "markdown",
   "metadata": {},
   "source": [
    "* `id`: The unique identifier from Hacker News for the post\n",
    "* `title`: The title of the post\n",
    "* `url`: The URL that the posts links to, if the post has a URL\n",
    "* `num_points`: The number of points the post acquired, calculated as the total number of upvotes minus the total number of downvotes\n",
    "* `num_comments`: The number of comments that were made on the post\n",
    "* `author`: The username of the person who submitted the post\n",
    "* `created_at`: The date and time at which the post was submitted"
   ]
  },
  {
   "cell_type": "markdown",
   "metadata": {},
   "source": [
    "---"
   ]
  },
  {
   "cell_type": "markdown",
   "metadata": {},
   "source": [
    "# Code Execution"
   ]
  },
  {
   "cell_type": "markdown",
   "metadata": {},
   "source": [
    "## Import statements"
   ]
  },
  {
   "cell_type": "code",
   "execution_count": 1,
   "metadata": {},
   "outputs": [],
   "source": [
    "from csv import reader\n",
    "import datetime as dt"
   ]
  },
  {
   "cell_type": "markdown",
   "metadata": {},
   "source": [
    "## Functions"
   ]
  },
  {
   "cell_type": "markdown",
   "metadata": {},
   "source": [
    "Function `csv_to_list` opens a CSV file and returns a list with data. (Optional) include or not include the header row."
   ]
  },
  {
   "cell_type": "code",
   "execution_count": 2,
   "metadata": {},
   "outputs": [],
   "source": [
    "def csv_to_list(file_name, inc_header=True):\n",
    "    open_file = open(file_name)\n",
    "    read_file = reader(open_file)\n",
    "\n",
    "    if inc_header:\n",
    "        retr_data = list(read_file)\n",
    "    else:\n",
    "        retr_data = list(read_file)[1:]\n",
    "\n",
    "    return retr_data\n",
    "    "
   ]
  },
  {
   "cell_type": "markdown",
   "metadata": {},
   "source": [
    "Function `explore_data` takes a dataset `list` as input and displays certain specified rows. (Optional) it can return the length of the full data set. "
   ]
  },
  {
   "cell_type": "code",
   "execution_count": 3,
   "metadata": {},
   "outputs": [],
   "source": [
    "def explore_data(data_set, start_row, end_row, disp_info=False):\n",
    "    \n",
    "    for idx in range(start_row, end_row):\n",
    "        print(data_set[idx])\n",
    "        print('\\n')\n",
    "    \n",
    "    if disp_info:\n",
    "        print(len(data_set), 'row(s) in the data set') "
   ]
  },
  {
   "cell_type": "markdown",
   "metadata": {},
   "source": [
    "Function `create_title_lists` takes the data set and searches for if the `title` in col `1` starts with `title_start`"
   ]
  },
  {
   "cell_type": "code",
   "execution_count": 4,
   "metadata": {},
   "outputs": [],
   "source": [
    "def create_title_lists(data_set, title_start):\n",
    "    retr_list = []\n",
    "    \n",
    "    for row in data_set:\n",
    "        if row[1].lower().startswith(title_start.lower()):\n",
    "            retr_list.append(row)\n",
    "    \n",
    "    return retr_list"
   ]
  },
  {
   "cell_type": "markdown",
   "metadata": {},
   "source": [
    "Function `get_comment_count` takes a dataset and count the comments in `4`th column. (Optional) returns average also."
   ]
  },
  {
   "cell_type": "code",
   "execution_count": 5,
   "metadata": {},
   "outputs": [],
   "source": [
    "def get_comment_count(data_set, get_average=True):\n",
    "    rtrn_count = None\n",
    "    \n",
    "    for row in data_set:\n",
    "        if row[4] != '':\n",
    "            if rtrn_count == None:\n",
    "                rtrn_count = int(row[4])\n",
    "            else:\n",
    "                rtrn_count += int(row[4])\n",
    "        else:\n",
    "            if rtrn_count == None:\n",
    "                rtrn_count = 0\n",
    "\n",
    "    if get_average:\n",
    "        rtrn_average = round(rtrn_count / len(data_set),2)\n",
    "        return rtrn_count, rtrn_average\n",
    "    \n",
    "    return rtrn_count"
   ]
  },
  {
   "cell_type": "markdown",
   "metadata": {},
   "source": [
    "Function `get_posts_hours` returns a sorted frequency of total posts per hour"
   ]
  },
  {
   "cell_type": "code",
   "execution_count": 6,
   "metadata": {},
   "outputs": [],
   "source": [
    "def get_posts_hours(data_set):\n",
    "    retr_list = []\n",
    "    hour_list = []\n",
    "    main_dict = {}\n",
    "    \n",
    "    #Example 11/22/2015 13:43\n",
    "    date_format = '%m/%d/%Y %H:%M'\n",
    "    \n",
    "    for row in data_set:\n",
    "        if row[6] != '':\n",
    "            prase_date = dt.datetime.strptime(row[6], date_format)\n",
    "            created_at = prase_date.hour\n",
    "            # [Hour : Comment Count]\n",
    "            hour_list.append([created_at, 1])\n",
    "        \n",
    "    for hour in hour_list:\n",
    "        if hour[0] not in main_dict:\n",
    "            main_dict[hour[0]] = 1\n",
    "        else:\n",
    "            main_dict[hour[0]] += 1\n",
    "    \n",
    "    retr_list = sort_dict(main_dict)\n",
    "    return retr_list"
   ]
  },
  {
   "cell_type": "markdown",
   "metadata": {},
   "source": [
    "Function `get_comment_hours` returns a sorted frequency of total comments per hour"
   ]
  },
  {
   "cell_type": "code",
   "execution_count": 7,
   "metadata": {},
   "outputs": [],
   "source": [
    "def get_comment_hours(data_set):\n",
    "    retr_list = []\n",
    "    hour_list = []\n",
    "    main_dict = {}\n",
    "    \n",
    "    #Example 11/22/2015 13:43\n",
    "    date_format = '%m/%d/%Y %H:%M'\n",
    "    \n",
    "    for row in data_set:\n",
    "        if row[6] != '':\n",
    "            prase_date = dt.datetime.strptime(row[6], date_format)\n",
    "            created_at = prase_date.hour\n",
    "            # [Hour : Comment Count]\n",
    "            hour_list.append([created_at, int(row[4])])\n",
    "    \n",
    "    for hour in hour_list:\n",
    "        if hour[0] not in main_dict:\n",
    "            main_dict[hour[0]] = hour[1]\n",
    "        else:\n",
    "            main_dict[hour[0]] += hour[1]\n",
    "        \n",
    "    retr_list = sort_dict(main_dict)\n",
    "    return retr_list"
   ]
  },
  {
   "cell_type": "markdown",
   "metadata": {},
   "source": [
    "Function `sort_dict` sorts a dictionary in ascending order and returns a list"
   ]
  },
  {
   "cell_type": "code",
   "execution_count": 8,
   "metadata": {},
   "outputs": [],
   "source": [
    "def sort_dict(obj_dict):\n",
    "    sort_list = []\n",
    "    \n",
    "    for item in obj_dict:\n",
    "        x, y = item, obj_dict[item]\n",
    "        sort_list.append((x, y))\n",
    "        #print(sort_list)\n",
    "    \n",
    "    sort_list.sort(reverse=False)\n",
    "    \n",
    "    return sort_list"
   ]
  },
  {
   "cell_type": "markdown",
   "metadata": {},
   "source": [
    "## Workflow"
   ]
  },
  {
   "cell_type": "markdown",
   "metadata": {},
   "source": [
    "### 1. Open the file and explore the data set"
   ]
  },
  {
   "cell_type": "markdown",
   "metadata": {},
   "source": [
    "Open file, and explore data"
   ]
  },
  {
   "cell_type": "code",
   "execution_count": 9,
   "metadata": {},
   "outputs": [
    {
     "name": "stdout",
     "output_type": "stream",
     "text": [
      "['id', 'title', 'url', 'num_points', 'num_comments', 'author', 'created_at']\n",
      "\n",
      "\n",
      "['12224879', 'Interactive Dynamic Video', 'http://www.interactivedynamicvideo.com/', '386', '52', 'ne0phyte', '8/4/2016 11:52']\n",
      "\n",
      "\n",
      "['10975351', 'How to Use Open Source and Shut the Fuck Up at the Same Time', 'http://hueniverse.com/2016/01/26/how-to-use-open-source-and-shut-the-fuck-up-at-the-same-time/', '39', '10', 'josep2', '1/26/2016 19:30']\n",
      "\n",
      "\n",
      "20101 row(s) in the data set\n"
     ]
    }
   ],
   "source": [
    "file_name = 'hacker_news.csv'\n",
    "\n",
    "hn_data = csv_to_list(file_name, True)\n",
    "explore_data(hn_data, 0, 3, True)"
   ]
  },
  {
   "cell_type": "markdown",
   "metadata": {},
   "source": [
    "---\n",
    "Save header row to `header` and rest back to `hn_data`"
   ]
  },
  {
   "cell_type": "code",
   "execution_count": 10,
   "metadata": {},
   "outputs": [
    {
     "name": "stdout",
     "output_type": "stream",
     "text": [
      "['12224879', 'Interactive Dynamic Video', 'http://www.interactivedynamicvideo.com/', '386', '52', 'ne0phyte', '8/4/2016 11:52']\n",
      "\n",
      "\n",
      "['10975351', 'How to Use Open Source and Shut the Fuck Up at the Same Time', 'http://hueniverse.com/2016/01/26/how-to-use-open-source-and-shut-the-fuck-up-at-the-same-time/', '39', '10', 'josep2', '1/26/2016 19:30']\n",
      "\n",
      "\n",
      "['11964716', \"Florida DJs May Face Felony for April Fools' Water Joke\", 'http://www.thewire.com/entertainment/2013/04/florida-djs-april-fools-water-joke/63798/', '2', '1', 'vezycash', '6/23/2016 22:20']\n",
      "\n",
      "\n",
      "20100 row(s) in the data set\n"
     ]
    }
   ],
   "source": [
    "headers = hn_data[0]\n",
    "hn_data = hn_data[1:]\n",
    "explore_data(hn_data, 0, 3, True)"
   ]
  },
  {
   "cell_type": "markdown",
   "metadata": {},
   "source": [
    "---\n",
    "Now that we've removed the headers from hn, we're ready to filter our data. Since we're only concerned with post titles beginning with `Ask HN` or `Show HN`, we'll create new lists of lists containing just the data for those titles."
   ]
  },
  {
   "cell_type": "markdown",
   "metadata": {},
   "source": [
    "Create new lists\n",
    "1. **Ask Posts**\n",
    "2. Show Posts\n",
    "3. Other Posts"
   ]
  },
  {
   "cell_type": "code",
   "execution_count": 11,
   "metadata": {
    "scrolled": false
   },
   "outputs": [
    {
     "name": "stdout",
     "output_type": "stream",
     "text": [
      "['12296411', 'Ask HN: How to improve my personal website?', '', '2', '6', 'ahmedbaracat', '8/16/2016 9:55']\n",
      "\n",
      "\n",
      "['10610020', 'Ask HN: Am I the only one outraged by Twitter shutting down share counts?', '', '28', '29', 'tkfx', '11/22/2015 13:43']\n",
      "\n",
      "\n",
      "['11610310', 'Ask HN: Aby recent changes to CSS that broke mobile?', '', '1', '1', 'polskibus', '5/2/2016 10:14']\n",
      "\n",
      "\n",
      "1744 row(s) in the data set\n"
     ]
    }
   ],
   "source": [
    "ask_posts = create_title_lists(hn_data, 'Ask HN')\n",
    "explore_data(ask_posts, 0, 3, True)"
   ]
  },
  {
   "cell_type": "markdown",
   "metadata": {},
   "source": [
    "Create new lists\n",
    "1. Ask Posts\n",
    "2. **Show Posts**\n",
    "3. Other Posts"
   ]
  },
  {
   "cell_type": "code",
   "execution_count": 12,
   "metadata": {},
   "outputs": [
    {
     "name": "stdout",
     "output_type": "stream",
     "text": [
      "['10627194', 'Show HN: Wio Link  ESP8266 Based Web of Things Hardware Development Platform', 'https://iot.seeed.cc', '26', '22', 'kfihihc', '11/25/2015 14:03']\n",
      "\n",
      "\n",
      "['10646440', 'Show HN: Something pointless I made', 'http://dn.ht/picklecat/', '747', '102', 'dhotson', '11/29/2015 22:46']\n",
      "\n",
      "\n",
      "['11590768', 'Show HN: Shanhu.io, a programming playground powered by e8vm', 'https://shanhu.io', '1', '1', 'h8liu', '4/28/2016 18:05']\n",
      "\n",
      "\n",
      "1162 row(s) in the data set\n"
     ]
    }
   ],
   "source": [
    "show_posts = create_title_lists(hn_data, 'Show HN')\n",
    "explore_data(show_posts, 0, 3, True)"
   ]
  },
  {
   "cell_type": "markdown",
   "metadata": {},
   "source": [
    "Create new lists\n",
    "1. Ask Posts\n",
    "2. Show Posts\n",
    "3. **Other Posts**"
   ]
  },
  {
   "cell_type": "code",
   "execution_count": 13,
   "metadata": {
    "scrolled": true
   },
   "outputs": [],
   "source": [
    "combined_ahn_shn = ask_posts + show_posts"
   ]
  },
  {
   "cell_type": "code",
   "execution_count": 14,
   "metadata": {
    "scrolled": true
   },
   "outputs": [
    {
     "name": "stdout",
     "output_type": "stream",
     "text": [
      "['12224879', 'Interactive Dynamic Video', 'http://www.interactivedynamicvideo.com/', '386', '52', 'ne0phyte', '8/4/2016 11:52']\n",
      "\n",
      "\n",
      "['10975351', 'How to Use Open Source and Shut the Fuck Up at the Same Time', 'http://hueniverse.com/2016/01/26/how-to-use-open-source-and-shut-the-fuck-up-at-the-same-time/', '39', '10', 'josep2', '1/26/2016 19:30']\n",
      "\n",
      "\n",
      "['11964716', \"Florida DJs May Face Felony for April Fools' Water Joke\", 'http://www.thewire.com/entertainment/2013/04/florida-djs-april-fools-water-joke/63798/', '2', '1', 'vezycash', '6/23/2016 22:20']\n",
      "\n",
      "\n",
      "17194 row(s) in the data set\n"
     ]
    }
   ],
   "source": [
    "other_posts = [post for post in hn_data if post not in combined_ahn_shn]\n",
    "explore_data(other_posts, 0, 3, True)"
   ]
  },
  {
   "cell_type": "code",
   "execution_count": 15,
   "metadata": {},
   "outputs": [
    {
     "name": "stdout",
     "output_type": "stream",
     "text": [
      "Data split went well.\n"
     ]
    }
   ],
   "source": [
    "if (len(show_posts) + len(ask_posts) + len(other_posts)) == len(hn_data):\n",
    "    print('Data split went well.')\n",
    "else:\n",
    "    print('Something didn\\'t work.')"
   ]
  },
  {
   "cell_type": "markdown",
   "metadata": {},
   "source": [
    "---\n",
    "### Next, let's determine if ask posts or show posts receive more comments on average."
   ]
  },
  {
   "cell_type": "code",
   "execution_count": 16,
   "metadata": {
    "scrolled": true
   },
   "outputs": [
    {
     "name": "stdout",
     "output_type": "stream",
     "text": [
      "Total Comments on ask posts are 24483 and average is 14.04 comments per post\n"
     ]
    }
   ],
   "source": [
    "total_ask_comments, avg_ask_comments = get_comment_count(ask_posts, True)\n",
    "print('Total Comments on ask posts are {} and average is {} comments per post'.format(total_ask_comments, avg_ask_comments))"
   ]
  },
  {
   "cell_type": "code",
   "execution_count": 17,
   "metadata": {},
   "outputs": [
    {
     "name": "stdout",
     "output_type": "stream",
     "text": [
      "Total Comments on show posts are 11988 and average is 10.32 comments per post\n"
     ]
    }
   ],
   "source": [
    "total_show_comments, avg_show_comments = get_comment_count(show_posts, True)\n",
    "print('Total Comments on show posts are {} and average is {} comments per post'.format(total_show_comments, avg_show_comments))"
   ]
  },
  {
   "cell_type": "markdown",
   "metadata": {},
   "source": [
    "### Ask posts have more comments at 14.04/post compared to 10.32/post in show posts"
   ]
  },
  {
   "cell_type": "markdown",
   "metadata": {},
   "source": [
    "Since ask posts are more likely to receive comments, we'll focus our remaining analysis just on these posts.\n",
    "\n",
    "Next, we'll determine if ask posts created at a certain time are more likely to attract comments. We'll use the following steps to perform this analysis:\n",
    "\n",
    "1. **Calculate the amount of ask posts created in each hour of the day, along with the number of comments received.**\n",
    "2. Calculate the average number of comments ask posts receive by hour created."
   ]
  },
  {
   "cell_type": "code",
   "execution_count": 20,
   "metadata": {
    "scrolled": true
   },
   "outputs": [
    {
     "name": "stdout",
     "output_type": "stream",
     "text": [
      "[(0, 55), (1, 60), (2, 58), (3, 54), (4, 47), (5, 46), (6, 44), (7, 34), (8, 48), (9, 45), (10, 59), (11, 58), (12, 73), (13, 85), (14, 107), (15, 116), (16, 108), (17, 100), (18, 109), (19, 110), (20, 80), (21, 109), (22, 71), (23, 68)]\n"
     ]
    }
   ],
   "source": [
    "counts_by_hour = get_posts_hours(ask_posts)\n",
    "print(posts_by_hour)"
   ]
  },
  {
   "cell_type": "code",
   "execution_count": 21,
   "metadata": {},
   "outputs": [
    {
     "name": "stdout",
     "output_type": "stream",
     "text": [
      "[(0, 447), (1, 683), (2, 1381), (3, 421), (4, 337), (5, 464), (6, 397), (7, 267), (8, 492), (9, 251), (10, 793), (11, 641), (12, 687), (13, 1253), (14, 1416), (15, 4477), (16, 1814), (17, 1146), (18, 1439), (19, 1188), (20, 1722), (21, 1745), (22, 479), (23, 543)]\n"
     ]
    }
   ],
   "source": [
    "comments_by_hour = get_comment_hours(ask_posts)\n",
    "print(comments_by_hour)"
   ]
  },
  {
   "cell_type": "markdown",
   "metadata": {},
   "source": [
    "1. Calculate the amount of ask posts created in each hour of the day, along with the number of comments received.\n",
    "2. **Calculate the average number of comments ask posts receive by hour created.**"
   ]
  },
  {
   "cell_type": "code",
   "execution_count": 41,
   "metadata": {
    "scrolled": true
   },
   "outputs": [
    {
     "name": "stdout",
     "output_type": "stream",
     "text": [
      "[(8.13, 0), (11.38, 1), (23.81, 2), (7.8, 3), (7.17, 4), (10.09, 5), (9.02, 6), (7.85, 7), (10.25, 8), (5.58, 9), (13.44, 10), (11.05, 11), (9.41, 12), (14.74, 13), (13.23, 14), (38.59, 15), (16.8, 16), (11.46, 17), (13.2, 18), (10.8, 19), (21.52, 20), (16.01, 21), (6.75, 22), (7.99, 23)]\n"
     ]
    }
   ],
   "source": [
    "avg_by_hour = [(round((comments[1] / counts_by_hour[comments_by_hour.index(comments)][1]), 2), counts_by_hour[comments_by_hour.index(comments)][0]) for comments in comments_by_hour]\n",
    "print(avg_by_hour)"
   ]
  },
  {
   "cell_type": "code",
   "execution_count": 42,
   "metadata": {},
   "outputs": [
    {
     "name": "stdout",
     "output_type": "stream",
     "text": [
      "[(38.59, 15), (23.81, 2), (21.52, 20), (16.8, 16), (16.01, 21), (14.74, 13), (13.44, 10), (13.23, 14), (13.2, 18), (11.46, 17), (11.38, 1), (11.05, 11), (10.8, 19), (10.25, 8), (10.09, 5), (9.41, 12), (9.02, 6), (8.13, 0), (7.99, 23), (7.85, 7), (7.8, 3), (7.17, 4), (6.75, 22), (5.58, 9)]\n"
     ]
    }
   ],
   "source": [
    "avg_by_hour.sort(reverse=True)\n",
    "print(avg_by_hour)"
   ]
  },
  {
   "cell_type": "code",
   "execution_count": 46,
   "metadata": {},
   "outputs": [
    {
     "name": "stdout",
     "output_type": "stream",
     "text": [
      "Posting at 15:00 hours with Ask Posts seems to get the best response\n"
     ]
    }
   ],
   "source": [
    "print('Posting at {}:00 hours with Ask Posts seems to get the best response'.format(avg_by_hour[0][1]))"
   ]
  },
  {
   "cell_type": "code",
   "execution_count": 50,
   "metadata": {},
   "outputs": [
    {
     "name": "stdout",
     "output_type": "stream",
     "text": [
      "Top 5 ask hour posts!\n",
      "\n",
      "15:00 hour is number 1 with 38.59 comments/hour.\n",
      "\n",
      "2:00 hour is number 2 with 23.81 comments/hour.\n",
      "\n",
      "20:00 hour is number 3 with 21.52 comments/hour.\n",
      "\n",
      "16:00 hour is number 4 with 16.8 comments/hour.\n",
      "\n",
      "21:00 hour is number 5 with 16.01 comments/hour.\n",
      "\n"
     ]
    }
   ],
   "source": [
    "print('Top 5 ask hour posts!', end='\\n\\n')\n",
    "for x in range(5):\n",
    "    print('{}:00 hour is number {} with {} comments/hour.'.format(avg_by_hour[x][1], x+1, avg_by_hour[x][0]), end='\\n\\n')\n",
    "    \n",
    "    \n",
    "    "
   ]
  },
  {
   "cell_type": "markdown",
   "metadata": {},
   "source": [
    "# End of Analysis"
   ]
  }
 ],
 "metadata": {
  "kernelspec": {
   "display_name": "Python 3",
   "language": "python",
   "name": "python3"
  },
  "language_info": {
   "codemirror_mode": {
    "name": "ipython",
    "version": 3
   },
   "file_extension": ".py",
   "mimetype": "text/x-python",
   "name": "python",
   "nbconvert_exporter": "python",
   "pygments_lexer": "ipython3",
   "version": "3.8.2"
  }
 },
 "nbformat": 4,
 "nbformat_minor": 2
}
