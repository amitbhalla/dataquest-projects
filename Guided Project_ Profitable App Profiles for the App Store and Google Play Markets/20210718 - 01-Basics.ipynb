{
 "cells": [
  {
   "cell_type": "markdown",
   "metadata": {},
   "source": [
    "# App store market analysis (Amit)\n"
   ]
  },
  {
   "cell_type": "markdown",
   "metadata": {},
   "source": [
    "This project performs several analysis on Apple and Google's app stores to understand the market of free apps. It also sizes them to understand which kind of apps make the most sense to invest in."
   ]
  },
  {
   "cell_type": "markdown",
   "metadata": {},
   "source": [
    "## ==== Data ====\n",
    "\n",
    "We work on data provided to us on:\n",
    "1. Apple app store in 'AppleStore.csv'(Source: [Mobile App Store](https://www.kaggle.com/ramamet4/app-store-apple-data-set-10k-apps))\n",
    "2. Google play store in 'googleplaystore.csv' (Source: [Google Play Store Apps](https://www.kaggle.com/lava18/google-play-store-apps))"
   ]
  },
  {
   "cell_type": "markdown",
   "metadata": {},
   "source": [
    "## ==== All import statements ===="
   ]
  },
  {
   "cell_type": "code",
   "execution_count": 1,
   "metadata": {},
   "outputs": [],
   "source": [
    "from csv import reader\n",
    "import copy"
   ]
  },
  {
   "cell_type": "markdown",
   "metadata": {},
   "source": [
    "## ==== All functions ===="
   ]
  },
  {
   "cell_type": "markdown",
   "metadata": {},
   "source": [
    "Function `explore_data` allows the user to explore any specific rows of dataset. (Optional) It also let's the user get the count of rows and columns. There is no return value."
   ]
  },
  {
   "cell_type": "code",
   "execution_count": 2,
   "metadata": {},
   "outputs": [],
   "source": [
    "def explore_data(dataset, start, end, rows_and_columns=False):\n",
    "    dataset_slice = dataset[start:end]\n",
    "    for row in dataset_slice:\n",
    "        print(row)\n",
    "        print('\\n')\n",
    "        \n",
    "    if rows_and_columns:\n",
    "        print('Number of rows:', len(dataset))\n",
    "        print('Number of columns:', len(dataset_slice[0]))"
   ]
  },
  {
   "cell_type": "markdown",
   "metadata": {},
   "source": [
    "Function `open_dataset` allows users to open a dataset and returns the dataset as a **list**. (Optional) Idicate if there is a header. If indicated, the function will not return it. If you want the header indicate `False`. "
   ]
  },
  {
   "cell_type": "code",
   "execution_count": 3,
   "metadata": {},
   "outputs": [],
   "source": [
    "def open_dataset(csv_name, header=False):\n",
    "    open_file = open(csv_name, encoding='utf8')\n",
    "    read_file = reader(open_file)\n",
    "    all_data = list(read_file)\n",
    "    \n",
    "    if header:\n",
    "        all_data = all_data[1:]\n",
    "        \n",
    "    return all_data"
   ]
  },
  {
   "cell_type": "markdown",
   "metadata": {},
   "source": [
    "Function `missing_data_rows` compares length of each row in data with the length of header and if the length is smaller it returns their index in a list. (Optional) You can ask the function to delete these rows from dataset. In this case we also return the new dataset."
   ]
  },
  {
   "cell_type": "code",
   "execution_count": 4,
   "metadata": {},
   "outputs": [],
   "source": [
    "def missing_data_rows(dataset, delete=False):\n",
    "    header = dataset[0]\n",
    "    rows = dataset[1:]\n",
    "    index_list = []\n",
    "    recombined_data = []\n",
    "    \n",
    "    for row in rows:\n",
    "        if len(header) != len(row):\n",
    "            index_list.append(rows.index(row))\n",
    "            if delete:\n",
    "                del rows[rows.index(row)]\n",
    "    if delete:\n",
    "        # Do not forget to recombine header with rows. Header will\n",
    "        # also need to become a list of list, since rows is one\n",
    "        recombined_data = [header] + rows\n",
    "        return index_list, recombined_data\n",
    "    \n",
    "    return index_list"
   ]
  },
  {
   "cell_type": "markdown",
   "metadata": {},
   "source": [
    "Function `duplicate_data` compares column_to_check for duplicates and returns a list of indexes with a dict object as details of it."
   ]
  },
  {
   "cell_type": "code",
   "execution_count": 5,
   "metadata": {},
   "outputs": [],
   "source": [
    "def check_duplicate_data(dataset, column_to_check):\n",
    "    header = dataset[0]\n",
    "    rows = dataset[1:]\n",
    "    col_dict = {}\n",
    "    index_list = []\n",
    "    \n",
    "    # Create a frequency table of items\n",
    "    for row in rows:\n",
    "        if row[column_to_check] not in col_dict:\n",
    "            col_dict[row[column_to_check]] = 1\n",
    "        else:\n",
    "            col_dict[row[column_to_check]] += 1\n",
    "            index_list.append(rows.index(row))\n",
    "\n",
    "    # remove non duplicates from dictionary\n",
    "    # we need to make a copy of col_dict because when we use pop\n",
    "    # while looping it causes an error\n",
    "    # we will pop from return_dict but loop from col\n",
    "    return_dict = copy.deepcopy(col_dict)\n",
    "    for x in col_dict:\n",
    "        if col_dict[x] == 1:\n",
    "            return_dict.pop(x)\n",
    "            \n",
    "    return index_list, return_dict  "
   ]
  },
  {
   "cell_type": "markdown",
   "metadata": {},
   "source": [
    "Function `delete_duplicate_rows` will delete duplicates (If we examine the rows we identified as duplicates, the main difference happens on the fourth column of each row, which corresponds to the number of reviews. The different numbers show that the data was collected at different times. We can use this to build a criterion for keeping rows. We won't remove rows randomly, but rather we'll keep the rows that have the highest number of reviews because the higher the number of reviews, the more reliable the ratings.)"
   ]
  },
  {
   "cell_type": "code",
   "execution_count": 6,
   "metadata": {},
   "outputs": [],
   "source": [
    "def delete_duplicate_rows(dataset, col_to_check, review_col):\n",
    "    new_dataset=[]\n",
    "    header = dataset[0]\n",
    "    rows = dataset[1:]\n",
    "    review_dict = {}\n",
    "    index_list = []\n",
    "    \n",
    "    # Create a frequency table of items\n",
    "    for row in rows:\n",
    "        if row[col_to_check] not in review_dict:\n",
    "            review_dict[row[col_to_check]] = float(row[review_col])\n",
    "        elif row[col_to_check] in review_dict:\n",
    "             if float(review_dict[row[col_to_check]]) < float(row[review_col]):\n",
    "                    review_dict[row[col_to_check]] = float(row[review_col])\n",
    "    \n",
    "    # dump rows into new_dataset\n",
    "    new_dataset = [header]\n",
    "        \n",
    "    for row in rows:        \n",
    "        if row[col_to_check] not in review_dict:\n",
    "            new_dataset.append(row)\n",
    "        else:\n",
    "            # Check if this is the heighest reviews\n",
    "            if float(row[review_col]) == review_dict[row[col_to_check]]:\n",
    "                # since there are duplicate rows of same reviews\n",
    "                # we need to do this once only\n",
    "                # we have to extract names in the list of list\n",
    "                # and check if name is in it\n",
    "                chk_list = []\n",
    "                for item in new_dataset:\n",
    "                    chk_list.append(item[0])\n",
    "                    \n",
    "                # short cut for writing above three lines in one line\n",
    "                # chk_list = [item[0] for item in new_dataset] \n",
    "                \n",
    "                if row[col_to_check] not in chk_list:\n",
    "                    new_dataset.append(row)\n",
    "\n",
    "    return new_dataset"
   ]
  },
  {
   "cell_type": "markdown",
   "metadata": {},
   "source": [
    "Function `check_non_english` returns apps with charachters where `ord()` value is not between `0` and `127`. It expects these to be forigen language apps."
   ]
  },
  {
   "cell_type": "code",
   "execution_count": 7,
   "metadata": {},
   "outputs": [],
   "source": [
    "def check_non_english(dataset, name_column):\n",
    "    header = dataset[0]\n",
    "    rows = dataset[1:]\n",
    "    \n",
    "    non_eng_dict = {}\n",
    "    \n",
    "    for row in rows:\n",
    "        for char in row[name_column]:\n",
    "            if (0 < ord(char) > 127):\n",
    "                if row[name_column] not in non_eng_dict:\n",
    "                    non_eng_dict[row[name_column]] = 1\n",
    "                if row[name_column] in non_eng_dict:\n",
    "                    non_eng_dict[row[name_column]] += 1\n",
    "    \n",
    "    return_dict = copy.deepcopy(non_eng_dict)\n",
    "    \n",
    "    for name in non_eng_dict:\n",
    "        # Since English apps use Emojis etc, we want to save data\n",
    "        # we are deleting apps which have more than 3 chars with\n",
    "        # ord values not between 0 to 127\n",
    "        if non_eng_dict[name] < 4:\n",
    "            return_dict.pop(name)\n",
    "    \n",
    "    return return_dict"
   ]
  },
  {
   "cell_type": "markdown",
   "metadata": {},
   "source": [
    "Function `delete_non_english` deletes non-english apps from the dataset and returns a new dataset"
   ]
  },
  {
   "cell_type": "code",
   "execution_count": 8,
   "metadata": {},
   "outputs": [],
   "source": [
    "def delete_non_english(dataset, name_column):\n",
    "    header = dataset[0]\n",
    "    rows = dataset[1:]\n",
    "    \n",
    "    non_eng_dict = {}\n",
    "    english_duct = {}\n",
    "    \n",
    "    new_dataset = [header]\n",
    "    \n",
    "    for row in rows:\n",
    "        # put in non-english\n",
    "        for char in row[name_column]:\n",
    "            if (0 < ord(char) > 127):\n",
    "                if row[name_column] not in non_eng_dict:\n",
    "                    non_eng_dict[row[name_column]] = 1\n",
    "                if row[name_column] in non_eng_dict:\n",
    "                    non_eng_dict[row[name_column]] += 1\n",
    "        # put in english if frequency < 4\n",
    "        # append if not found\n",
    "        if row[name_column] not in non_eng_dict:\n",
    "            new_dataset.append(row)\n",
    "        elif row[name_column] in non_eng_dict:\n",
    "            if non_eng_dict[row[name_column]] < 4:\n",
    "                new_dataset.append(row)\n",
    "            \n",
    "    return new_dataset"
   ]
  },
  {
   "cell_type": "markdown",
   "metadata": {},
   "source": [
    "Function `check_paid_apps` returns the list of paid apps, which will be deleted from the dataset."
   ]
  },
  {
   "cell_type": "code",
   "execution_count": 9,
   "metadata": {},
   "outputs": [],
   "source": [
    "def check_paid_apps(dataset, name_col, price_col):\n",
    "    header = dataset[0]\n",
    "    rows = dataset[1:]\n",
    "    \n",
    "    paid_apps_dict = {}\n",
    "    \n",
    "    for row in rows:\n",
    "        if price_col == 4:\n",
    "            # treatment of apple (their column doesn't have $ in string)\n",
    "            if float(row[price_col]) != 0.0:\n",
    "                if row[name_col] not in paid_apps_dict:\n",
    "                    paid_apps_dict[row[name_col]] = float(row[price_col])\n",
    "        elif price_col == 7:\n",
    "            # treatment for Google (the price col has $ in the string)\n",
    "            price = float(row[price_col].replace('$',''))\n",
    "            if float(price) > 0.0:\n",
    "                if row[name_col] not in paid_apps_dict:\n",
    "                    paid_apps_dict[row[name_col]] = float(price)\n",
    "            \n",
    "    \n",
    "    return paid_apps_dict"
   ]
  },
  {
   "cell_type": "markdown",
   "metadata": {},
   "source": [
    "Function `delete_paid_apps` deletes paid apps from the dataset"
   ]
  },
  {
   "cell_type": "code",
   "execution_count": 10,
   "metadata": {},
   "outputs": [],
   "source": [
    "def delete_paid_apps(dataset, name_col, price_col):\n",
    "    header = dataset[0]\n",
    "    rows = dataset[1:]\n",
    "    \n",
    "    new_dataset = []\n",
    "    new_rows = []\n",
    "    for row in rows:\n",
    "        if price_col == 4:\n",
    "            # treatment of apple (their column doesn't have $ in string)\n",
    "            if float(row[price_col]) == 0.0 or row[price_col] is None:\n",
    "                new_rows.append(row)\n",
    "                \n",
    "        elif price_col == 7:\n",
    "            # treatment for Google (the price col has $ in the string)\n",
    "            price = float(row[price_col].replace('$',''))\n",
    "            if float(price) == 0.0 or price is None:\n",
    "                new_rows.append(row)\n",
    "\n",
    "    new_dataset = [header] + new_rows \n",
    "    return new_dataset"
   ]
  },
  {
   "cell_type": "markdown",
   "metadata": {},
   "source": [
    "Function `gen_fq_table` generates a dictionary object with % of frequency of that column."
   ]
  },
  {
   "cell_type": "code",
   "execution_count": 11,
   "metadata": {},
   "outputs": [],
   "source": [
    "def gen_fq_table(dataset, column_index):\n",
    "    header = dataset[0]\n",
    "    rows = dataset[1:]\n",
    "    fq_dict = {}\n",
    "    \n",
    "    for row in rows:\n",
    "        if row[column_index] not in fq_dict:\n",
    "            fq_dict[row[column_index]] = 1\n",
    "        else:\n",
    "            fq_dict[row[column_index]] += 1\n",
    "    \n",
    "    for item in fq_dict:\n",
    "        fq_dict[item] = round(((fq_dict[item] / len(rows)) * 100),2) \n",
    "    \n",
    "    sorted_dict = display_table(fq_dict)\n",
    "    \n",
    "    return sorted_dict"
   ]
  },
  {
   "cell_type": "markdown",
   "metadata": {},
   "source": [
    "Function `display_table` sorts a dictionary and returns a tuple. It also flips the keys and values, i.e. Values take first columns and Keys take the second one."
   ]
  },
  {
   "cell_type": "code",
   "execution_count": 12,
   "metadata": {},
   "outputs": [],
   "source": [
    "def display_table(dict_to_sort):\n",
    "    # Optional sort by frequency\n",
    "    table_display = []\n",
    "    for key in dict_to_sort:\n",
    "        key_val_as_tuple = (dict_to_sort[key], key)\n",
    "        table_display.append(key_val_as_tuple)\n",
    "        \n",
    "    sorted_dict = sorted(table_display, reverse=True)   \n",
    "    #sorted_dict = sorted(fq_dict.items(), key=lambda x: x[1], reverse=True)\n",
    "    \n",
    "    return sorted_dict"
   ]
  },
  {
   "cell_type": "markdown",
   "metadata": {},
   "source": [
    "## ==== Execution code ===="
   ]
  },
  {
   "cell_type": "markdown",
   "metadata": {},
   "source": [
    "### 01 -> Testing file open, and exploring the datasets."
   ]
  },
  {
   "cell_type": "code",
   "execution_count": 13,
   "metadata": {
    "scrolled": false
   },
   "outputs": [
    {
     "name": "stdout",
     "output_type": "stream",
     "text": [
      "['id', 'track_name', 'size_bytes', 'currency', 'price', 'rating_count_tot', 'rating_count_ver', 'user_rating', 'user_rating_ver', 'ver', 'cont_rating', 'prime_genre', 'sup_devices.num', 'ipadSc_urls.num', 'lang.num', 'vpp_lic']\n",
      "\n",
      "\n",
      "['284882215', 'Facebook', '389879808', 'USD', '0.0', '2974676', '212', '3.5', '3.5', '95.0', '4+', 'Social Networking', '37', '1', '29', '1']\n",
      "\n",
      "\n",
      "['389801252', 'Instagram', '113954816', 'USD', '0.0', '2161558', '1289', '4.5', '4.0', '10.23', '12+', 'Photo & Video', '37', '0', '29', '1']\n",
      "\n",
      "\n",
      "Number of rows: 7198\n",
      "Number of columns: 16\n"
     ]
    }
   ],
   "source": [
    "# Apple\n",
    "apple_file = 'AppleStore.csv'\n",
    "\n",
    "apple_data = open_dataset(apple_file, False)\n",
    "explore_data(apple_data, 0, 3, True)"
   ]
  },
  {
   "cell_type": "code",
   "execution_count": 14,
   "metadata": {
    "scrolled": false
   },
   "outputs": [
    {
     "name": "stdout",
     "output_type": "stream",
     "text": [
      "['App', 'Category', 'Rating', 'Reviews', 'Size', 'Installs', 'Type', 'Price', 'Content Rating', 'Genres', 'Last Updated', 'Current Ver', 'Android Ver']\n",
      "\n",
      "\n",
      "['Photo Editor & Candy Camera & Grid & ScrapBook', 'ART_AND_DESIGN', '4.1', '159', '19M', '10,000+', 'Free', '0', 'Everyone', 'Art & Design', 'January 7, 2018', '1.0.0', '4.0.3 and up']\n",
      "\n",
      "\n",
      "['Coloring book moana', 'ART_AND_DESIGN', '3.9', '967', '14M', '500,000+', 'Free', '0', 'Everyone', 'Art & Design;Pretend Play', 'January 15, 2018', '2.0.0', '4.0.3 and up']\n",
      "\n",
      "\n",
      "Number of rows: 10842\n",
      "Number of columns: 13\n"
     ]
    }
   ],
   "source": [
    "# Google\n",
    "google_file = 'googleplaystore.csv'\n",
    "\n",
    "google_data = open_dataset(google_file, False)\n",
    "explore_data(google_data, 0, 3, True)"
   ]
  },
  {
   "cell_type": "markdown",
   "metadata": {},
   "source": [
    "### 02 -> Data cleaning"
   ]
  },
  {
   "cell_type": "markdown",
   "metadata": {},
   "source": [
    "1. **Rows with missing entries or errors**\n",
    "2. Remove duplicates\n",
    "3. Remove non-english apps\n",
    "4. Isolate free apps"
   ]
  },
  {
   "cell_type": "code",
   "execution_count": 15,
   "metadata": {},
   "outputs": [
    {
     "data": {
      "text/plain": [
       "[]"
      ]
     },
     "execution_count": 15,
     "metadata": {},
     "output_type": "execute_result"
    }
   ],
   "source": [
    "# fix Apple data\n",
    "apple_error_index = missing_data_rows(apple_data, delete=False)\n",
    "apple_error_index"
   ]
  },
  {
   "cell_type": "code",
   "execution_count": 16,
   "metadata": {},
   "outputs": [],
   "source": [
    "if len(apple_error_index) > 0:\n",
    "    apple_error_index, apple_data = missing_data_rows(apple_data, delete=True)"
   ]
  },
  {
   "cell_type": "code",
   "execution_count": 17,
   "metadata": {},
   "outputs": [
    {
     "data": {
      "text/plain": [
       "[10472]"
      ]
     },
     "execution_count": 17,
     "metadata": {},
     "output_type": "execute_result"
    }
   ],
   "source": [
    "# fix Google data\n",
    "google_error_index = missing_data_rows(google_data, delete=False)\n",
    "google_error_index"
   ]
  },
  {
   "cell_type": "code",
   "execution_count": 18,
   "metadata": {},
   "outputs": [],
   "source": [
    "if len(google_error_index) > 0:\n",
    "    google_error_index, google_data = missing_data_rows(google_data, delete=True)"
   ]
  },
  {
   "cell_type": "code",
   "execution_count": 19,
   "metadata": {},
   "outputs": [
    {
     "name": "stdout",
     "output_type": "stream",
     "text": [
      "Apple Data: 7198\n",
      "Google Data: 10841\n"
     ]
    }
   ],
   "source": [
    "print('Apple Data:', len(apple_data))\n",
    "print('Google Data:', len(google_data))"
   ]
  },
  {
   "cell_type": "markdown",
   "metadata": {},
   "source": [
    "### 02 -> Data cleaning (contd.)"
   ]
  },
  {
   "cell_type": "markdown",
   "metadata": {},
   "source": [
    "1. Rows with missing entries or errors\n",
    "2. **Remove duplicates**\n",
    "3. Remove non-english apps\n",
    "4. Isolate free apps"
   ]
  },
  {
   "cell_type": "code",
   "execution_count": 20,
   "metadata": {},
   "outputs": [],
   "source": [
    "apple_duplicate_index, apple_duplicate_dict = check_duplicate_data (apple_data, 0)"
   ]
  },
  {
   "cell_type": "code",
   "execution_count": 21,
   "metadata": {
    "scrolled": false
   },
   "outputs": [
    {
     "name": "stdout",
     "output_type": "stream",
     "text": [
      "{}\n",
      "\n",
      "\n",
      "\n",
      "0 duplicate(s) found\n"
     ]
    }
   ],
   "source": [
    "print(apple_duplicate_dict)\n",
    "print('\\n\\n')\n",
    "print(len(apple_duplicate_index), 'duplicate(s) found')"
   ]
  },
  {
   "cell_type": "code",
   "execution_count": 22,
   "metadata": {},
   "outputs": [],
   "source": [
    "google_duplicate_index, google_duplicate_dict = check_duplicate_data (google_data, 0)"
   ]
  },
  {
   "cell_type": "code",
   "execution_count": 23,
   "metadata": {},
   "outputs": [
    {
     "name": "stdout",
     "output_type": "stream",
     "text": [
      "798\n",
      "\n",
      "\n",
      "\n",
      "1181 duplicate(s) found\n"
     ]
    }
   ],
   "source": [
    "print(len(google_duplicate_dict))\n",
    "print('\\n\\n')\n",
    "print(len(google_duplicate_index), 'duplicate(s) found')"
   ]
  },
  {
   "cell_type": "markdown",
   "metadata": {},
   "source": [
    "**Start removing duplicates**"
   ]
  },
  {
   "cell_type": "markdown",
   "metadata": {},
   "source": [
    "Apple's duplicates are in `0` and reviews are in `5` column. This is the column we will use to determine which duplicate rows to delete."
   ]
  },
  {
   "cell_type": "code",
   "execution_count": 24,
   "metadata": {},
   "outputs": [],
   "source": [
    "apple_nodups_data = delete_duplicate_rows(apple_data, 0, 5)\n"
   ]
  },
  {
   "cell_type": "code",
   "execution_count": 25,
   "metadata": {
    "scrolled": true
   },
   "outputs": [
    {
     "name": "stdout",
     "output_type": "stream",
     "text": [
      "Original Apple data length: 7198\n",
      "Identified duplicates were: 0\n",
      "New Apple data length: 7198\n"
     ]
    }
   ],
   "source": [
    "print('Original Apple data length:', len(apple_data))\n",
    "print('Identified duplicates were:', len(apple_duplicate_index))\n",
    "print('New Apple data length:', len(apple_nodups_data))"
   ]
  },
  {
   "cell_type": "code",
   "execution_count": 26,
   "metadata": {
    "scrolled": true
   },
   "outputs": [
    {
     "name": "stdout",
     "output_type": "stream",
     "text": [
      "['id', 'track_name', 'size_bytes', 'currency', 'price', 'rating_count_tot', 'rating_count_ver', 'user_rating', 'user_rating_ver', 'ver', 'cont_rating', 'prime_genre', 'sup_devices.num', 'ipadSc_urls.num', 'lang.num', 'vpp_lic']\n",
      "\n",
      "\n",
      "['284882215', 'Facebook', '389879808', 'USD', '0.0', '2974676', '212', '3.5', '3.5', '95.0', '4+', 'Social Networking', '37', '1', '29', '1']\n",
      "\n",
      "\n",
      "['389801252', 'Instagram', '113954816', 'USD', '0.0', '2161558', '1289', '4.5', '4.0', '10.23', '12+', 'Photo & Video', '37', '0', '29', '1']\n",
      "\n",
      "\n",
      "Number of rows: 7198\n",
      "Number of columns: 16\n"
     ]
    }
   ],
   "source": [
    "explore_data(apple_nodups_data, 0, 3, True)"
   ]
  },
  {
   "cell_type": "markdown",
   "metadata": {},
   "source": [
    "Google's duplicates are in `0` and reviews are in `3` column. This is the column we will use to determine which duplicate rows to delete."
   ]
  },
  {
   "cell_type": "code",
   "execution_count": 27,
   "metadata": {
    "scrolled": true
   },
   "outputs": [],
   "source": [
    "google_nodups_data = delete_duplicate_rows(google_data, 0, 3)\n"
   ]
  },
  {
   "cell_type": "code",
   "execution_count": 28,
   "metadata": {
    "scrolled": true
   },
   "outputs": [
    {
     "name": "stdout",
     "output_type": "stream",
     "text": [
      "Original Google data length: 10841\n",
      "Identified duplicates were: 1181\n",
      "New Google data length: 9660\n"
     ]
    }
   ],
   "source": [
    "print('Original Google data length:', len(google_data))\n",
    "print('Identified duplicates were:', len(google_duplicate_index))\n",
    "print('New Google data length:', len(google_nodups_data))"
   ]
  },
  {
   "cell_type": "code",
   "execution_count": 29,
   "metadata": {
    "scrolled": true
   },
   "outputs": [
    {
     "name": "stdout",
     "output_type": "stream",
     "text": [
      "['App', 'Category', 'Rating', 'Reviews', 'Size', 'Installs', 'Type', 'Price', 'Content Rating', 'Genres', 'Last Updated', 'Current Ver', 'Android Ver']\n",
      "\n",
      "\n",
      "['Photo Editor & Candy Camera & Grid & ScrapBook', 'ART_AND_DESIGN', '4.1', '159', '19M', '10,000+', 'Free', '0', 'Everyone', 'Art & Design', 'January 7, 2018', '1.0.0', '4.0.3 and up']\n",
      "\n",
      "\n",
      "['U Launcher Lite – FREE Live Cool Themes, Hide Apps', 'ART_AND_DESIGN', '4.7', '87510', '8.7M', '5,000,000+', 'Free', '0', 'Everyone', 'Art & Design', 'August 1, 2018', '1.2.4', '4.0.3 and up']\n",
      "\n",
      "\n",
      "Number of rows: 9660\n",
      "Number of columns: 13\n"
     ]
    }
   ],
   "source": [
    "explore_data(google_nodups_data, 0, 3, True)"
   ]
  },
  {
   "cell_type": "markdown",
   "metadata": {},
   "source": [
    "### 02 -> Data cleaning (contd.)"
   ]
  },
  {
   "cell_type": "markdown",
   "metadata": {},
   "source": [
    "1. Rows with missing entries or errors\n",
    "2. Remove duplicates\n",
    "3. **Remove non-english apps**\n",
    "4. Isolate free apps"
   ]
  },
  {
   "cell_type": "markdown",
   "metadata": {},
   "source": [
    "**Info:** The numbers corresponding to the characters we commonly use in an English text are all in the range 0 to 127, according to the ASCII (American Standard Code for Information Interchange) system. Based on this number range, we can build a function that detects whether a character belongs to the set of common English characters or not. If the number is equal to or less than 127, then the character belongs to the set of common English characters.\n",
    "\n",
    "If an app name contains a character that is greater than 127, then it probably means that the app has a non-English name."
   ]
  },
  {
   "cell_type": "markdown",
   "metadata": {},
   "source": [
    "Apple app names are in `1` column"
   ]
  },
  {
   "cell_type": "code",
   "execution_count": 30,
   "metadata": {},
   "outputs": [],
   "source": [
    "apple_non_english = check_non_english(apple_nodups_data, 1)"
   ]
  },
  {
   "cell_type": "code",
   "execution_count": 31,
   "metadata": {},
   "outputs": [
    {
     "name": "stdout",
     "output_type": "stream",
     "text": [
      "{'爱奇艺PPS -《欢乐颂2》电视剧热播': 14, '聚力视频HD-人民的名义,跨界歌王全网热播': 18, '优酷视频': 5, '网易新闻 - 精选好内容，算出你的兴趣': 17, '淘宝 - 随时随地，想淘就淘': 12, '搜狐视频HD-欢乐颂2 全网首播': 12, '阴阳师-全区互通现世集结': 12, '百度贴吧-全球最大兴趣交友社区': 15, '百度网盘': 5, '爱奇艺HD -《欢乐颂2》电视剧热播': 14, '乐视视频HD-白鹿原,欢乐颂,奔跑吧全网热播': 18, '万年历-值得信赖的日历黄历查询工具': 17, '新浪新闻-阅读最新时事热门头条资讯视频': 19, '喜马拉雅FM（听书社区）电台有声小说相声英语': 21, '央视影音-海量央视内容高清直播': 15, '腾讯视频HD-楚乔传,明日之子6月全网首播': 17, '手机百度 - 百度一下你就得到': 13, '百度视频HD-高清电视剧、电影在线观看神器': 19, 'MOMO陌陌-开启视频社交,用直播分享生活': 16, 'QQ 浏览器-搜新闻、选小说漫画、看视频': 17, '同花顺-炒股、股票': 9, '聚力视频-蓝光电视剧电影在线热播': 16, '快看漫画': 5, '乐视视频-白鹿原,欢乐颂,奔跑吧全网热播': 18, '酷我音乐HD-无损在线播放': 11, '随手记（专业版）-好用的记账理财工具': 18, 'Dictionary ( قاموس عربي / انجليزي + ودجيت الترجمة)': 29, '滴滴出行': 5, '淘宝HD－Taobao for iPad': 4, '高德地图（精准专业的手机地图）': 16, '百度HD-极速安全浏览器': 10, '美丽说-潮流穿搭快人一步': 12, '百度地图-智能的手机导航，公交地铁出行必备': 21, 'Majiang Mahjong（单机+川麻+二人+武汉+国标）': 13, '土豆视频HD—高清影视综艺视频播放器': 17, '360手机卫士-超安全的来电防骚扰助手': 16, 'QQ浏览器HD-极速搜索浏览器': 11, '搜狗输入法-Sogou Keyboard': 6, '百度网盘 HD': 5, '大众点评-发现品质生活': 11, '讯飞输入法-智能语音输入和表情斗图神器': 19, '美柚 - 女生助手': 7, 'Heroes® of Might & Magic® III – HD Edition': 4, '爱奇艺 - 电视剧电影综艺娱乐视频播放器': 18, '搜狐视频-欢乐颂2 全网首播': 12, '百度地图HD': 5, 'QQ同步助手-新机一键换机必备工具': 15, 'QQ音乐-来这里“发现・音乐”': 13, '腾讯新闻-头条新闻热点资讯掌上阅读软件': 19, '土豆（短视频分享平台）': 12, '风行视频+ HD - 电影电视剧体育视频播放器': 17, '仙劍奇俠傳5 - 劍傲丹楓': 10, 'YY- 小全民手机直播交友软件': 12, '腾讯视频-欢乐颂2全网首播': 12, '中华万年历-2亿用户首选的日历软件': 16, '央视影音HD-海量央视内容高清直播': 15, '蘑菇街-网红直播搭配的购物特卖平台': 17, 'Keep - 移动健身教练 自由运动场': 12, '美团 - 吃喝玩乐全都有': 10, '百度贴吧HD': 5, '腾讯手机管家-拦截骚扰电话的QQ安全助手': 18, 'Color•多彩手帐': 6, '饿了么外卖-大牌美食，折扣热卖': 15, '宝宝树孕育-火爆的备孕怀孕育儿社区': 17, '全民K歌': 4, '懂球帝 - 足球迷必备神器': 11, '今日头条 - 热点新闻资讯、娱乐视频': 16, '天猫-购物': 5, '沪江开心词场-英语、日语、韩语学习助手': 19, '倩女幽魂-周年庆资料片开启新主角剧情': 18, '欢乐斗地主•腾讯': 9, '百度糯米-电影,美食团购': 11, '搜狐新闻—新闻热点资讯掌上阅读软件': 18, '手机京东-首次购买可领取188元优惠券': 16, 'LEGO® Ninjago™: Shadow of Ronin™': 4, 'QQ游戏大厅HD': 5, '赶集网-工作生活啥都有！': 12, '携程旅行-酒店、机票、火车票预订助手': 18, '腾讯微云-安全备份共享文件和照片': 16, 'QQ安全中心': 5, '招商银行': 5, '去哪儿旅行-预订机票酒店火车票特价旅游自由行': 22, '暴风影音-BaoFeng Player': 5, '闲鱼-让你的闲置游起来': 11, '内涵段子 - 精选搞笑图片、视频': 14, 'Elf Pets® Virtual Reindeer – The Elf on the Shelf®': 4, '斗鱼--王者大神在直播': 10, 'VVebo - 微博客户端': 6, '中国建设银行': 7, '中国联通手机营业厅客户端(官方版)': 16, '电信营业厅': 6, '随手记专业版 for  iPad': 7, '美团外卖-甜点生鲜等零食配送，鲜花蛋糕准时必达': 23, '驾考宝典-2017最新考驾照驾校学车驾考通': 17, '欧路英语词典 Eudic 增强版': 10, '腾讯欢乐麻将全集': 9, '宜搜小说-亿万网友共享高品质阅读离线追更': 20, '夢王国と眠れる100人の王子様': 13, '航旅纵横PRO-官方航班动态、手机值机、机票': 19, '鬼畜-一亿人都在用的聊天必备神器!': 16, '中国银行手机银行': 9, 'QQ阅读-拥有海量原著小说的电子书阅读器': 18, '武林群侠传—经典单机武侠RPG': 13, '咕咚-你的跑步骑行运动社区': 13, '中国工商银行': 7, '一骑当千OL-万人国战（Legend Of Warrior）': 11, '百度外卖 -美食订餐品质生活，超市水果安全到家': 22, '腾讯微云HD-安全备份共享文件和照片': 16, '飞常准Pro-全球航班查询机票酒店预订': 16, '车轮查违章-2017全国车辆违章查询助手': 16, '今日头条(专业版) - 推荐热点新闻资讯、娱乐视频': 21, '机票、火车票、汽车票预定助手 for 铁路12306': 17, '招商银行信用卡掌上生活': 12, '百度手机卫士－wifi管家照片管理防骚扰安全助手': 21, '汽车之家-提供新车,二手车报价及资讯': 17, 'クックパッド - No.1料理レシピ検索アプリ': 17, '我想有个家': 6, '易到 - 低价专车,高品质出行': 12, '球球大作战': 6, '仙劍奇俠傳1 DOS懷舊版': 9, '作业帮-小初高学生拍照答疑学习辅导助手': 19, '猫眼电影 - 一网打尽好电影': 12, 'AlloCiné : Cinéma et Séries': 4, '唯品会-欢乐颂2独家电商 同款热卖': 15, '返利-专注网购省钱的APP': 10, 'YY HD-和美女帅哥主播视频聊天的直播软件': 17, '一起作业学生端-中小学霸口袋学习辅导助手': 20, '搜房网房天下-新房二手房租房交易平台': 18, '更加令人感动的养成游戏「昭和杂货店物语２」': 22, '金庸群侠传—全自由单机武侠RPG': 14, '去哪儿旅行HD-总有你要的低价': 13, '安居客-二手房、新房、租房的找房助手': 18, '秒拍-超火爆短视频分享平台': 13, 'WiFi钥匙—万能wifi密码钥匙': 10, '中国移动手机营业厅(中国移动官方)': 16, 'same - 就是聊得来': 6, 'UC浏览器HD': 4, '腾讯新闻HD-最资深的阅读软件': 13, '火车票Pro for 12306': 4, '唯品会 HD 全球精选，正品特卖': 13, '同花顺至尊版': 7, '小咖秀-全民视频才艺直播社区': 14, '当当-正品秒杀，首单立减5元': 13, '1号店-全球超市 轻松到家': 11, '大辞林': 4, 'comico/人気オリジナル漫画が毎日更新！/コミコ': 19, '格斗学院-社团争霸圣装崛起，热血高校一触即发': 22, 'おそ松さんのへそくりウォーズ\\u3000〜ニートの攻防〜': 24, '虫虫大作战-经典休闲蛇蛇': 12, '农行掌上银行': 7, '同程旅游-中国汽车票自助周边游海外跟团订票': 21, '魔窟-无尽的地下城': 9, '無制限で人気音楽聴き放題！ - Music Bank（ミュージックバンク）': 25, '途牛旅游-订机票酒店，查旅行景点门票': 18, 'ナビタイムの乗り換え案内 - 遅延情報やバス時刻表を案内するアプリ': 31, '51信用卡管家': 6, '少年西游记－西游卡牌王者之作': 15, 'Real英会話': 4, '北京浮生记': 6, '聚美优品-新用户专享160元现金券': 14, '诸神战纪IV:战神崛起': 9, '洋码头—正品保证海外买手带你全球购洋货': 20, '开心消消乐®': 7, '苏宁易购-新人专享大礼包': 12, '熊猫直播-王者大神主播带你荣耀开黑': 17, '虎牙直播-热门高清游戏互动直播平台': 17, 'タップル誕生 - 出会いアプリで趣味から恋活・婚活': 23, '浪漫庄园(自由创造你的梦想)': 13, '58同城-招聘找工作兼职租房软件': 14, '京东金融-【618周年庆】新人领千元好礼': 17, '广东移动手机营业厅-话费流量一手掌握，专属优惠定期发放': 27, '幻獣契約クリプトラクト': 12, 'GANMA! - 漫画が制限ナシで読み放題のマンガアプリ': 20, '小猿搜题-中小学拍照搜题作业帮手': 16, '驴妈妈旅游-订景点门票机票火车票特价酒店': 20, '单机群侠传-金庸群侠传口袋版': 14, '淘票票 - 原淘宝电影，选座购票必备': 16, '腾讯体育-NBA全网独播': 9, 'AbemaTV-インターネットテレビ局': 12, 'ダイエットが続く！人気のカロリー・体重管理アプリ 「もぐたん」': 31, 'kurashiru [クラシル] - 料理レシピ動画数No.1': 13, '私のヒモ男～イケメン拾いました～恋愛・放置ゲーム': 25, '高德地图HD': 5, '梦幻西游互通版': 8, '去哪儿攻略—查游记旅游攻略，订机票酒店': 20, '乐视体育—英超欧冠F1高清直播': 14, '史上最强的大脑4-超级王者(时代永恒小强)': 18, '网易考拉海购—新人免费领取1000元优惠券': 18, '她社区-只有女生的社区！': 12, '转转-更专业的二手闲置交易平台': 15, '51信用卡管家Pro': 6, '上海移动掌上营业厅': 10, '全民炸金花-首款含电玩城百家乐的棋牌游戏': 20, '【2017年の運勢決定版】ゲッターズ飯田の占い': 20, '虎牙直播HD-热门高清游戏互动直播平台': 17, '单机三国志2-铜雀台资料片 天天都玩': 16, '洋菓子店ローズ ～ほのぼの再建記～': 17, '12オーディンズ - 王道RPG': 9, 'かなもじ': 5, '达令全球好货－正品免税，带你购全球': 18, '三国杀传奇-神将觉醒': 10, '花椒直播-高清美颜直播互动平台': 15, '全民夺宝-时尚购潮流商品平台': 14, '特种部队-跨服竞技TCG军事策略游戏': 15, '途家-全球公寓民宿预订平台': 13, 'エレメンタル ファンタジー - 高精細３ＤアクションＲＰＧ': 26, '驾校一点通-保过版，2017最新驾考学车宝典': 18, '平安WiFi-手机必备的万能WiFi上网钥匙': 14, '天天快报 - 最热门的新闻资讯软件': 15, '狼人之夜': 5, '家长通-一起作业旗下家长端的同步课堂点读机': 21, '小猿搜题HD-中小学拍照搜题作业帮手': 16, '单机三国志-不抽卡无体力,战个痛快': 16, '蚂蚁聚宝—蚂蚁金服旗下投资理财平台': 18, '家計簿マネーフォワード-自動連携で簡単 人気の家計簿': 25, 'ゆるドラシル -本格派神話RPG-': 12, '书香云集Pro-小说电子书免费看书读书听书追书无广告阅读器': 26, '买火车票Pro': 5, '直播吧(官方版)-体育从这里开始': 14, '永生劫 — 单机回合仙侠RPG': 11, '江湖风云录-超自由武侠剧情角色扮演手游': 19, '工银融e联': 5, 'ひみつの出会い探しはバクアイ-無料の出会いチャットアプリで友達作り': 33, 'pixivコミック - みんなのマンガアプリ': 15, '【真・お絵かきパズル】〇〇投げてみた結果ｗｗ\\u3000完全無料！': 29, '宜人贷借款': 6, '【明星恋爱】偶像之路TIME TO STAR': 11, '실시간 날씨': 6, '零基础学音标': 7, '记账·圈子账本(专业版)—可共享的全能记帐本软件': 23, '宾果消消消 -赵丽颖代言': 11, '戦艦帝国-200艘の実在戦艦を集めろ (2周年記念&世界2000万DL)': 22, 'Jメール 出会える人気の匿名SNS出会い系アプリ': 20, '楽天カード': 6, '蜜芽 - 生娃养娃上蜜芽': 10, '360手机浏览器-安全上网看新闻、安心搜索、极速抢票': 23, '华尔街见闻（专业版）-全球财经新闻精选': 19, 'لغز الماضي - اربع اجزاء': 19, 'スロットマニア・フィーバー～本場ラスベガススロット': 26, '小历 - 通知中心日历': 9, '放置江湖: 大侠的成长之路（高自由度的武侠体验）': 23, \"マクドナルド - McDonald's Japan\": 7, '借贷宝-直投熟人更高明': 11, '大根にしがみつく女子高生': 13, 'Elf Pets® Pup — The Elf on the Shelf®': 4, '熊猫直播HD-最娱乐的直播平台': 13, 'カロリー管理（痩せるアプリ）': 15, 'マンガ図書館Z -人気漫画が読み放題！': 17, '微软识花': 5, 'ホットペッパービューティー/サロン予約': 19, 'ようとん場': 6, '自动证件照 - 智能证件照相机美图美颜编辑,制作学生证件照': 26, '翼支付-只为简单生活': 10, '银联钱包- 银行卡管家，扫码支付享优惠': 18, 'HIGO-全球奢侈品牌和设计师品牌购买平台': 17, 'ヤフオク! 利用者数NO.1のオークション、フリマアプリ': 23, '战神之怒': 5, '宜搜小说-热门网络书籍看书追更必备神器': 19, '征戦エクスカリバー': 10, '【はらぺこパズル】ごはんに恋をした': 18, '棒棒糖-宝宝的世界衣橱': 11, '快读免费小说-最热网络小说追书神器全本下载阅读器': 24, 'ダウト～嘘つきオトコは誰？～': 15, '腾讯WiFi管家-手机安全免费WiFi': 11, '超ヒモ理論 ～働きたくないでござる～': 18, 'flick（フリック）- みんなの顔文字キーボードから名前が変わりました': 30, '日课——给每一位好读诗的人！': 15, '挖财宝理财-预期年化收益高达12%': 14, 'mememo(ミーメモ)ダイエット〜生理日予測まで女性サポート': 24, '企业微信': 5, '全民坦克联盟—坦克帝国官方正版': 16, 'フリル(FRIL) - 満足度No.1 のフリマアプリ': 14, '鏡の中のプリンセス Love Palace': 10, 'DELISH KITCHEN - レシピ動画で料理を簡単に': 13, '中国搜索-国家权威搜索': 11, '新概念英语2015最新版-英美全四册': 14, '楽天市場 for iPad': 5, '优信二手车-二手车买车卖车评估交易平台': 19, 'Eye Training Cocololo-3dステレオグラム視力回復アプリ-': 15, '贝贝-8000万妈妈信赖的母婴正品特卖拼团商城': 19, '本気で英会話！ペラペラ英語\\u3000英単語・リスニング・TOEICの学習にも！': 31, '弹弹堂S- 巴萨传奇助阵 弹弹堂手游官方版': 18, '交通银行信用卡买单吧': 11, '秀色秀场-网红直播 聊天交友': 13, '上司と秘密の2LDK\\u3000Love Happening': 8, '鬼とび': 4, 'ゲーム発展国＋＋': 9, 'mazec - 手書き日本語入力ソフト': 12, '迷你世界-国产精品沙盒联机生存建造游戏': 19, '脱出ゲーム 1K': 6, '【謎解き】罪と罰-ノベルゲーム型 推理アドベンチャー': 25, 'DayDayCook － 日日煮': 5, '平安金管家 — 值得信赖的移动金融生活管家': 20, 'ファンタジードライブ【快進撃3DRPG】': 16, '平安好车主-用车助手,安全管家': 14, 'モン娘は～れむ【モンはれ】': 14, 'ウィズダム英和・和英辞典 2': 13, '百度钱包-金融信贷和理财投资优选': 16, 'もやししゃちょー': 9, '拼多多 - 1亿人都在拼的购物App': 12, '舰娘收藏2-注册就送辽宁号': 12, '【よく当たる】手相鑑定〜選べる鑑定ジャンル(人生運、仕事運、恋愛運)': 33, '俺と鬼嫁の100日戦記': 9, 'ホストのアブナイ世界': 11, '非诚勿扰-中国最大免费婚恋交友平台': 17, '感動アプリ！無料ゲーム Japanese Gacha': 12, 'UDONちゅるん': 5, 'Suicaチャージ': 5, '家园7：雪城增强版': 9, 'ごちうさアラーム～チノ編～': 14, '我的密码-极简账号备忘录，安全记录管家': 19, '大航海世界（风靡日本航海手游《壮绝大航海》正版授权）': 27, '【カノピッピ大作戦】ギャルがオタクに恋をした/脱ギャル系彼女育成ゲーム': 35, '天天麻将-有奖励的麻将玩法全集': 15, '熱血高校！胴上げ部': 10, 'Uber优步中国': 5, '脱出ゲーム 謎解き部屋からの脱出': 16, '10 – 頭を良くするパズル': 11, 'どうぶつしょうぎ(公式)': 11, 'ぼっちでもリア充になれる奇跡のアプリ。〜恋する缶づめ。〜': 29, '美食杰-让吃饭变简单(VIP版)': 11, '脱出ゲーム\\u3000研究所からの脱出': 15, '脱出ゲーム\\u3000Cottage': 7, '【謎解き】自称カノジョからの病みすぎメッセージ': 24, '謎解き ジェスチャーゲーム - 何してる？': 18, '銀魂 公式連載アプリ〜銀魂の漫画が毎週１巻読めるアプリ〜': 28, 'QRコードリーダー for iPhone - 無料で使えるQRコード読み取り用アプリ': 25, 'ぷちドラシル 〜ゆるドラ外伝〜': 15, '激ムズ！ねこ階段': 9, '迷你屠龙传(1.76经典休闲挂机版)': 13, '求生无限 - 无限流生存挑战大冒险': 15, '街机格斗王': 6, '我叫MT3-回合制魔幻世界 大型公会副本开荒': 18, '最高警戒': 5, '不思議雑貨店ローズ ～ほのぼの再建記～': 19, '脱出ゲーム KOTATSU': 6, '好きになったら負け。\\u3000完全無料！女性向けイケメン恋愛ゲーム': 30, '霸王卧龙传': 6, '【推理ゲーム】 YASU-第7捜査課事件ファイル-': 18, '精度93％ 絶望の心理テスト': 12, '脱出ゲーム\\u3000わたしをみつけて\\u3000-おじいさんとわたしの物語-': 28, '激おこ!! はじめしゃちょー\\u3000なんなんですか!?': 20, '新超级群英传OL-单机党必玩的三国群英手游': 19, '中高英文法を10時間で！マジグラ': 15, '当たる占い師【水晶玉子】特別鑑定書≪無料占いあり≫': 26, '脱出ゲーム\\u3000都市伝説〜杉沢村からの脱出〜': 21, '脱出ゲーム - 書道教室 -  \"漢字\"の謎に満ちた部屋からの 脱出': 25, '《女性口コミNo.1》水晶玉子の幸福領域占い': 19, 'ブラックバイトはじめました。２\\u3000～居酒屋編～': 23, '脱出ゲーム\\u3000Night Room': 7, 'ねこみっけ - おもしろい人気無料ゲーム': 18, '激ムズ！ねこじゃんぷ２': 12, '脱出ゲーム - Solid - 無機質な部屋からの 脱出': 17, '脱出ゲーム 古城からの脱出': 13, '病みカワカメラ': 8, '美播 - 玩不尽的真人游戏': 11, '二炮手-同名抗战狙击手游(孙红雷主演)': 17, '陌恋-同城高颜值寂寞美女帅哥激情交友聊天神器！': 23, '脱出ゲーム\\u3000ぼくのおねがいきいて': 17, 'Dark Money-無料のお金稼ぎギャンブルゲーム-': 16, '【ドレ？ドコ？】脱出ゲーム感覚の謎解きパズルゲーム': 26, 'ペットとあそぼ！- 声を選んで写真がしゃべる、しりとりゲームおしゃべりペット！犬・猫好き癒し系アプリ': 49, '烈焰王座HD - 卡牌与挂机结合的养成放置游戏': 19, '擬人缶～俺のペットが少女になった～': 18, '僕の彼女は浮気なんかしない': 14, '大话问仙 - 与众不同的萌派仙侠回合游戏体验(送神器)': 23, '注文の多いブサ猫軒': 10, 'ごちうさアラーム～リゼ編～': 14, 'You hate me? わたしのこと きらい？': 11, 'ゲームセンター倶楽部': 11, '脱出ゲーム\\u3000In My Heart': 7, '蜀山诛魔纪-古装恋爱仙侠动作手游·MMO端游品质': 21, '大挂西游 - 降魔之路官方正版': 13, '脱出ゲーム - KINDERGARTEN - 子供にイタズラされたリビングからの 脱出': 25, 'ピグパーティ - きせかえ・アバターで楽しむトークアプリ': 26, '青空発掘カンパニー': 10, '健康献立レシピ提案 オーガニック “Ohganic\"': 17, 'ミリオン行進曲': 8, 'ナニワ金融道\\u3000全巻無料のマンガアプリ': 19, 'おかんからのメッセ - ほのぼの謎解きゲーム': 20, 'NAVIRO(ナビロー) - カーナビ/バイクナビ/徒歩ナビが使える高性能ナビアプリ': 30, '最長１週間の献立が簡単に作れるme:new（ミーニュー）': 23, '皮皮四川麻将': 7, 'ワンダークラウン': 9, '网商银行': 5, 'サッカーカーニバル': 10, '龙珠直播-高清游戏娱乐直播平台': 15, '性教育そうだったのか！世界一まなべる保健体育クイズ(画像付き)': 30, '乐享动-有运动音乐推荐的计步器': 15, 'らぶいずふぉーえばー #泣けるピアノゲーム': 20, '豪快ショット連発！ストレス発散テニスゲーム「エアK」': 26, 'おじクエ - OJISAN QUEST - タップRPG -': 8, '殺意の国のアリス -狂気に目覚めた童話の主人公たち-': 24, '【脳トレ】ROLL -ころがす、はめる、きえる-': 18, '操作しやすいナンプレ！目に優しい パズルゲーム 800問': 24, 'シロクマ先生のゆるくない英文法': 16, '剑仙传奇·蜀山修仙之独步天下': 15, '無料ゲーム タッチザナンバー（Touch the numbers）計算の脳トレでパズル！': 27, 'ここに墓を建てよう': 10, '天天萌斗—超级萌红将免费领取，上千少年超级英雄形象，让你在多次元大陆享受卡牌萌斗罗乐趣': 44, '麻雀物語３ 役満乱舞の究極大戦': 15, 'ZAKER 专业版': 4, 'NINE 対戦型脳トレ -目指せ賞金王！-': 14, '派派激情版-寂陌陌声人交友神器': 15, 'やる夫のチャリ': 8, 'シルエットクイズ～人気マンガ・映画アニメキャラ・芸能人で暇つぶし脳トレ': 36, '屠龙杀': 4, '人众金服[回馈版]-高收益理财软件': 15, 'クリアしてみろよ？ 神ゲー アクション ゲーム': 21, '懸賞パズルパクロス２': 11, '伙星 - 随手拍出明星一样的MV': 12, 'iSNOB 小众精品爱好者的私藏Top 10': 11, 'マジ死にゲー': 7, 'まんが一本道〆': 8, '创客金融-高收益银行存管投资理财平台': 18, '镜花缘：两世英雄情缘,数年问仙修道': 17, 'ディグラム恋愛診断': 10, '盗墓OL-精绝女王': 7, '恋愛消滅ボタン ~ 無料 泣ける恋愛小説 放置ゲーム ~': 22, '街机游戏厅 - 电玩游戏合集火爆改版': 16, 'ポケット戦国 -戦略と戦術で歴史を作れ！-【本格派 戦国シミュレーション】': 34, '视吧-全民手机直播': 9, '龙之觉醒-热血经典RPG，回味激燃岁月': 16, 'ニュースパス -かんたん操作で必要なニュースがすぐ読めるニュースアプリ': 34, '9回裏だけ甲子園': 8, '捨て猫レスキュー': 9, '战姬物语-亚洲顶级画师操刀,颜值爆表手游': 19, '口袋苍穹-首日送萧炎，重返斗气大陆': 17, '镜花奇缘 - 最新诛仙类卡牌传奇手游游戏': 18, '妙资理财（九周年版)-高收益理财投资平台': 19, '君の目的はボクを殺すこと。': 14, '召喚AKUMA/悪魔合体召喚～育成シミュレーションRPGゲーム': 23, '都市异能小说-全本经典有声小说听书阅读神器': 21, 'ALOE -ダイエット・ヨガ・エクササイズ…健康美を追求する女性の人気無料ニュースアプリ': 39, 'ポケ電バッテリー for ポケモンGO': 13, 'はじめん\\u3000～はじめとつくる動画生活～': 19, 'DARUMA -目玉を転がして入れてください-': 15, 'お弁当をつくろう！ママごっこ－お仕事体験知育アプリ': 26, '南国物語': 5, 'TOEIC®TEST実力判定『アプトレ』': 12, 'お前は俺の女だろーが【胸キュン恋愛、リア充ストーリー！？】': 30, '猎魔传奇-塔塔&推塔挂机私服手游': 15, 'ブラックバイトはじめました。俺の嫁に捧げるストーリー【放置】': 31, 'GeniusTest！天才てすと': 7, '牛タン牛タン牛タンタン': 12, '炎上なう -つぶやきSNS風シミュレーションゲーム-': 21, 'Test your color IQ！カラーIQ診断テスト２': 11, '欢乐颂合集—刘涛、蒋欣等主演电视剧同名原著': 22, '传说一刀 - 一刀一级PK爆屠龙': 12, '面倒だがトリあえずキーボード ～ さわりたくなるキーボード': 28, 'アキラメロン【メロンを受け止める、チョイムズゲー】': 26, '面白ニュースを超快適に読める!!まとめのまとめMM': 22, '真モグモグ風林火山2': 10, '妙资理财-福利版（年化14.8%注册送1万体验金）': 19, '诺诺镑客—让财富升值': 11, 'これやったことない人いる？': 14, '鴨川等間隔の法則': 9, 'PP基金-随时提现的投资理财平台': 14, '多纳餐厅2': 5, '一言-记录字句，发现共鸣': 12, '坦克新纪元——经典红警狂热回归': 16, '全民暴力摩托-暴力摩托3d免费真实赛车小游戏': 20, '女の子のための女子トレンドまとめアプリ-ウーマガジン-': 26, '空格－更优秀的个人技能交易平台': 16, 'マッチングならSecret- 友達・恋人探しSNS': 15, '極限ドリブル～神の子 edition～': 12, '教えて!goo': 4, '暴打三国志-经典RPG角色扮演动作卡牌策略手游': 20, 'ゲームプレイで賞金ゲット！ポットハンター': 21, 'Fit 私人健身教练-超有效的健康运动减肥软件': 19, 'シンデレラブレイド2': 10, 'ピンポンカーブ  君の反射神経Lvはいくつ？  #天才求ム': 23, 'オオカミ姫 [ みんなで協力！ターン制ギルドバトルRPG ]': 23, 'Spot the Difference!診断テスト': 6, '年賀状2018｜おしゃれなスマホで写真年賀状2018': 19, '求恋爱 专业版-高端恋爱相亲婚恋交友神器,同城寂寞单身男女聊天约会找对象平台': 36, '口袋全明星': 6, 'Are you a psychopath? 怖い心理テスト': 8, '桃太郎の\\u3000はなし\\u3000は終わっていない #泣ける昔話ノベルゲーム': 29, '多盈理财-正规手机投资金融理财产品': 17, '勇士与魔龙': 6, '诸神战纪竞技场：超神大冒险(无尽关 排行榜 动作类横版过关游戏)': 29, '金陵十三钗－王丽坤代言,伴你穿越红楼今梦': 20, 'おチャベリ-ビデオ通話でマッチングアプリ': 20, '少年勇者团 (Combo Warrior)-日系Q萌即时战斗消除RPG手游': 17, '公牛炒股-证券开户交易软件': 13, '流しそうめんエクストリーム': 14, '商品バーコードで賞味期限を通知 Limiter2 (リミッター)': 21, '【放置ゲー】壁ドンしたら人生変わった ～グリモアのキャラ達に壁ドン！？～': 36, 'トクバイ - チラシアプリ／スーパーの特売情報で節約 -': 24, '戦え！プリンセスドール': 12, '無料アプリ暇つぶしゲーム【BOKEMON】〜トボケモンスターを進化させるで〜': 32, 'MINE［マイン］ファッション/コーディネート動画アプリ': 24, 'Casino Girl-お金稼ぎ美少女育成ゲーム-': 13, '航海帝国HD 唯一正版授权 传承经典 统御大航海强者时代': 24, '「おつぼね」“あるある”エンターテイメントストーリー：OTUBO（お局）': 32, '花粉儿-女性、母婴闲置交易平台': 15, 'the SOUL of SEVENS【ソウル オブ セブンス】': 12, 'グルータ / 最新ニュースまとめをグループチャットで！(Grouta)': 25, 'SmartForm - 見積書・納品書・請求書・領収書作成ソフトの新定番！': 26, 'ブリ猫': 4, '今日、彼女が死んだ': 10, 'ひとりぼっち惑星': 9, '黄金日-贵金属理财投资黄金白银': 15, 'トリセツメーカー\\u3000トリセツ診断': 16, '奇跡のメガネ\\u3000-恋愛シミュレーションゲーム': 21, '片手キーボードPRO': 8, 'オーブGETマルチ掲示板！ for モンスト': 15, 'なぞって冒険！きゅるるんくまのパズルリンク': 22, 'スタンバイ 仕事もバイトも暮らしにあった選び方': 23, '女の子の憧れが全てつまったTOKYOリアルコーデアプリ - TOPLOG': 23, 'キスまでにしたい10のこと ~ 無料 胸きゅん恋愛小説 放置げーむ ~': 27, '闇金クリッカー': 8, '小牛在线-理财投资神器': 11, '脳トレクロスワード -解けばIQがあがる!?無料パズルゲーム-': 25, '英雄Q传-穿越回合制卡牌手游，梦幻般的剧情，开启3D热血传奇人生': 29, '脱出ゲーム 体育館からの脱出【学校脱出シリーズ5弾】': 25, '全民德州扑克-天天尽享拉斯维加斯之夜': 18, '培训题库': 5, '网娱大师-网吧娱乐大师': 11, '帝国征服者-王者联盟列国纷争': 14, '大江戸ぶらり': 7, '多重人格彼女〜僕の彼女は世界で一番可愛くて、そして狂っている〜': 32, '果冻星连萌-全球极具诱惑益智游戏,好玩的闯关游戏,2016最新休闲益智游戏': 31, '微火车票-查机票订酒店春运特价随行': 17, '霸王英雄传（吕布一统天下，演义三国群英杰传奇）': 24, 'お小遣いアプリ。ポイントをレシートで貯めよう\\u3000／\\u3000レシポ！': 30, '车轮车友会—汇集养车、洗车、代驾、汽车头条、汽车用品的车友聊天分享之家': 36, '脱出ゲーム\\u3000大正ロマン\\u3000女記者脱出譚': 19, '奇幻射击2': 5, 'LOCARI(ロカリ)-オトナ女子向けライフスタイル情報アプリ': 23, 'クリアした奴マジ天才': 11, '暇つぶしに人気  脳トレ パズルゲーム\\u3000- LINK': 18, '暇なら話そう！誰でも話せて友達も作れる「KoeTomo」': 22, 'ニュース速報と災害地震速報が届くライフライン NewsDigest（ニュースダイジェスト）': 35, '出会い無料のチャット掲示板 LINK': 14, '日曜劇難99.9': 5, 'ホラースポット-ghost spot-意味が分かると怖いマップ': 20, '好车无忧二手车—二手车买卖实体店': 17, '萌店-朋友圈的美味生活': 11, 'デジラアプリ - データ容量のやりくりに': 18, 'FRESH! - ログイン不要・高画質で生放送が見放題': 19, '融360-贷款、信用卡、信用报告': 13, '舞妓ドリル': 6, '作业通-中小学搜题搜作文必备神器': 16, '青藍高校リア充部': 9, '坂本ですが？秘技…フリータイムキラー': 19, '梦幻轩辕': 5, '万年历-日历农历黄历天气': 12, '妙资理财-探索版（安全稳健高收益理财神器  ）': 21, '豪快ショット連発！爽快卓球ゲーム「サァァァ！」': 24, '铁血武林-武侠回合制策略手游': 14, '出会い応援チャットアプリLIKE YOU': 13, 'Black Hole -世の中で最も困難な物理げーむ ぱずる-': 18, '【業界初成長マップ搭載！ねこ育成マト当てパズルRPG】たまねこウォーズ': 33, \"Fragment's Note Memories -Fragment's Note公式資料集アプリ-\": 9, '無料ゲーム HANABI ON LINE 花火（ハナビ）パズル': 16, 'BiBi娱乐社区 - 好玩的游戏都在这里！': 15, '平安好医生-要健康上平安好医生': 15, 'のび毛': 4, 'PP基金理财-灵活存取的高收益金融理财平台': 19, '2代目 Nソウル みそぽん': 10, 'ひとたがやし': 7, '东西战神': 5, '懸賞ソリティア-ギフト券/ギフトコードGETでお小遣いが稼げる定番ソリティアクロンダイク': 40, 'ビッグバン チャット-友達作り ひま友チャット': 21, '信用钱包官方版-用手机号就能贷款': 16, '新大主宰-2016卡牌手游巨作！': 12, 'パチスロ バイオハザード6': 12, '抢火车票 for 12306火车票官网': 10, '爆笑アプリ！人気無料ゲーム kimazui gacha': 14, '戦国乙女〜剣戟に舞う白き剣聖〜西国参戦編': 21, 'トリセツメーカー２\\u3000トリセツ診断': 17, 'まぐろ職人（通）': 9, '途牛旅游PRO-订机票酒店，查旅行景点门票': 18, '目の錯覚で性格診断': 10, '僕の彼女が誘拐された。': 12, 'まぐろ投げ！': 7, 'Love Bank-お金ゲーム/恋愛ゲーム/イケメンゲーム/育成ゲーム/タップゲーム/賭けゲーム': 34, 'ピタゴラパブロフ': 9, 'ダニエル！！今はフリーキック中よ！': 18, '女子力たったの５、ゴミずら◇恋愛xイケメン育成+放置げー！無料の育成・恋愛・放置ゲーム～': 43, '大圣捉妖记': 6, '大头儿子天天乐跑-和孩子一起玩的游戏！': 19, '脱出ゲーム 学校の食堂からの脱出': 16, '渡劫-多武器战斗': 8, 'MapFan(マップファン) – 渋滞情報/オービス/オフライン対応の本格カーナビ': 30, 'ハニーズアプリ': 8, '如意夺宝': 5, '謎解き母からのメモ': 10, 'Creema（クリーマ）- ハンドメイドマーケットプレイス': 22, '【実況】今からカレシを葬る #衝撃の実況動画ノベルゲーム': 27, 'モンスト マルチ掲示板 運極 ＆ ガチャ予報 & 攻略情報 for モンスターストライク': 33, '400ステージに挑戦！ばあジャンプ': 15, '果罐Pro-通知中心快捷安全启动插件': 15, 'シュッと描いてポンッ!（シュポン）物理パズル脳トレ': 25, 'HONNE -本音が言える匿名つぶやき&チャットアプリ': 20, 'セブン‐イレブンアプリ': 12, '脳トレ爽快パズル 激ムズ！和のひとふで書き Line': 21, 'わかる！算数 小学４年【下】 for iPad': 14, 'わかる！算数 小学４年【上】 for iPad': 14, 'バーチャル高校野球': 10, '爆速！マルチ募集掲示板 for モンスト': 16, '大富豪 Online': 4, 'ぱちモンパズル〜簡単無料パズルRPGゲーム': 19, '艶が～るプレミアム 女性向け恋愛ゲーム！乙女げーむ': 25, 'Wi-Fiミレル': 4, '超特訓！トミックゲーム！！': 14, 'SAMURAI SCHEMA -幕末維新戦記- サムライスキーマ 本格派育成放置ゲーム': 25, '花火撮影 notepad Lite': 5, 'NOW直播—腾讯旗下全民直播平台': 14, 'ATOK -日本語入力キーボード': 11, '全国一斉性格テストDX': 10, '盗墓之王-寻龙秘事': 9, 'ニート勇者３ -闇の側の者たち- 無料ロールプレイングゲームRPG': 27, 'もこうもこもこ': 8, '美柚经期助手(专业版)-月经·生理期预测，还能备孕育儿': 25, '愛しのショコラティエ いけめん恋愛ゲーム・乙女げーむ女性向け人気': 32, '斗斗大冒险之我爱斗斗堂-官方正版4v4竞技抛物线手游': 23, '式姫４コマ 其之四': 9, 'テレビ視聴': 6, 'もじさがし': 6, '彩库宝典-【官方版】': 10, '口袋电玩-经典街机游戏真人秀版•玩转全民疯狂欢乐火拼炸诈扎金花送斗牛牛麻将VIP': 37, '币优铺': 4, '任务客': 4, 'e袋洗-新用户领20元优惠券，20分钟上门取送': 18, '脱出ゲーム 気まぐれカフェの謎解きタイム': 20, 'ぷかぷか': 5, '最後の英単語学習！マジタン': 14, '星になったカイロくん': 11, 'Love Bank -お金ゲーム/恋愛ゲーム/美少女ゲーム/育成ゲーム/タップゲーム/賭けゲーム': 33, '【完全無料】ソク出会える！ひみつフレ探し掲示板': 24, '闪瘦-健康减肥瘦身': 9, 'SKK アクション ブロック崩し': 12, 'Ticket Camp - フリマよりも安心で簡単なチケットアプリ': 20, '无双小师妹-登录送橙将': 11, '冒険ディグディグ（ドット絵ｘ放置ｘ冒険RPG）': 21, '成金電鉄-超ハマる放置系ゲーム': 15, '歌手発掘 動画投稿アプリ  カラオケ！sing!  App Star': 17, '世界邦行程大师-出国自由行定制专家': 17, '妙健康-健康自测管家': 10, '大空ヘクタール農園': 10, 'FUNDO［ファンドゥ］- 話題のネタを毎日更新！無料ニュースメディア': 29, 'JR東日本アプリ': 7, '咪咕视频-电视剧综艺直播': 12, '多融理财(Pro版)-12%高收益理财投资平台': 15, 'Horror Story 2016\\u3000こわい話': 6, '美男美女診断': 7, '青藍高校ヒモ部': 8, '陌爱神器-不闲聊！陌生人快速约见面平台': 19, '激ムズ！和のひとふで書き！online': 14, 'それゆけ！ヤンキッキー': 12, '陌爱-最in全民交友神器！同城寂陌陌生帅哥美女视频聊天约会平台': 29, '开心扫雷-根本停不下来的创新玩法': 16, '高清影视-大片免费天天看': 12, 'そら案内': 5, 'ダイエット女子が痩せた魔法のアプリ-食事・運動・美容＠DIET': 27, 'ゴミカレ!!': 5, '輪ゴムでシュート！ - 無料で遊べるミニゲーム': 21, 'レアジョブ瞬間中学英単語 | リスニングやTOEICの基礎学力にも': 26, '電車パズル ツメツメ - 通勤時間にピッタリ! 脳トレパズル': 25, 'カテエネ×Shufoo！': 7, '妖怪别跑': 5, 'ゴールできたら神！！2': 11, '艺龙旅行Pro-酒店预订专家': 11, '魔女の泉': 5, 'スカッと！脳トレ！ピッといん〜頭がよくなるブロックパズルゲーム〜': 33, '大学生のための時間割': 11, 'パチスロ モンスターハンター 月下雷鳴': 18, 'オービス警報 - オービス/速度取締り&渋滞': 18, '【完全無料】おとな専用！出会い掲示板': 19, 'モンスターマスターX【オンライン対戦型RPG（ロールプレイング・ゲーム）】': 34, 'G1牧場ステークス': 8, 'minimo（ミニモ）/サロン予約': 11, 'スーパーストリートファイターIV パチスロエディション': 25, 'PIXUSかんたん年賀状': 8, 'BLEACH 公式連載アプリ〜BLEACHの漫画が毎週１巻読めるアプリ〜': 24, '謎解き[緋色探偵社と100の推理]メッセージアプリ風ノベルゲーム': 28, '【謎解き推理】意味が分かると怖い話-この怖い話を謎解き、怪談を読み解けるか…': 38, 'フラッシュワード〜光速瞬間記憶脳トレクイズ〜': 23, '合戦!!にんじゃ村': 8, 'プログレッシブ ロシア語辞典': 14, '[GP]SLOT魔法少女まどかマギカ(パチスロゲーム)': 18, 'にゃんちゅう': 7, 'スナイパイ72': 6, '戦国乙女〜剣戟に舞う白き剣聖〜': 16, 'RAMP-光を灯す孤独な物語- #無料アクションゲーム': 20, '[GP]ハナハナホウオウ-30(パチスロゲーム)': 16, '広告ブロッカー（ウェブ画面上の広告をブロックする最強アプリ)': 30, '下ヨシ子の「２０１６年\\u3000あなたの流生命」': 21, 'You勇者 -HIKAKINとSEIKIN(ヒカキンとセイキン)と無料ロールプレイング': 24, 'ViRATES[バイレーツ]-面白ネタまとめの決定版！': 18, '逆战仙魔 大圣萌仙全民跨服千人即时PK': 17, '魔灵觉醒（王者归来）- 3D新职业魔剑士降临': 19, 'Test your color IQ！カラーIQ診断テスト': 10, 'お解きなさい！': 8, 'スマイルパーク 〜らくらく放置系遊園地ゲーム〜': 23, '戦国乙女2～深淵に輝く気高き将星～': 17, '筆姫 - オシャレなグリーティングカード SNS投稿 自宅印刷もOK': 25, '恋愛タップコミュニケーションゲーム 週刊マイメイド': 25, '東京時層地図 for iPad': 7, 'ゲッターズ飯田の占い': 11, 'Ｘ:15秒の人気 アクション ゲーム': 14, '誰にもバレない！[秘密のアルバム]\\u3000無料で写真をロック！': 27, 'まるみえ！性教育ふしぎ発見-クイズで学ぶ保健体育': 24, '頭の回転をはやくする！脳トレ！Blackhole': 16, '心霊たんち機 Plus': 7, '心がラクになる後ろ向き名言100選': 16, 'スタバで呪文': 7, '意味が分かると怖い話-この意味怖を謎解きできるか…【謎解き意味怖】': 33, 'シカクイズ -暇つぶしマンガアニメ映画クイズ-暇つぶしに最適': 28, '赤ペン 提出カメラ': 9, '極寒スライダー': 8, '【脱出ゲーム】絶対に最後までプレイしないで 〜謎解き＆ブロックパズル〜': 35, 'クリスマスミッケ/脱出ゲーム感覚の絵探しパズルゲーム': 26, '激ムズ！和のひとふで書き！ 〜頭をつかう脳トレパズルゲーム〜': 30, 'ゲオ\\u3000クーポンが貰える！ゲーム予約もできる！': 23, '飞凡--智慧新生活': 8, 'PROF - 共通点で楽しむSNS': 8, '觉醒吧数码兽-被选召的孩子  超人气动漫  回合制卡牌策略养成': 27, '小学館 オックスフォード 英語コロケーション辞典': 23, 'スーパーブラックジャック2': 13, '海鮮!!すし街道': 7, '丸亀製麺': 5, 'ＣＲスーパー海物語ＩＮ沖縄４': 15, '热血超人-二次元卡牌游戏': 12, '脱出ゲーム\\u3000海底神殿からの脱出': 16, '你我贷理财-P2P理财管家': 10, 'パチスロ ガールズ＆パンツァー': 15, '全民打金币——爽快的正版放置手游': 17, '森林舞会-3d画面刺激的娱乐城游戏': 15, '你我贷理财-基金理财工具': 12, '謎トレ 謎解き脳トレーニング': 14, '钱妈妈理财-国企投资有保障的金融理财产品！': 21, '大人がハマる脳トレ！ぷるるん～頭が良くなる一筆書きパズル～': 30, 'QRコードリーダー for iPhone': 8, '肌年齢診断': 6, 'ｗｗｗ': 4, '自らデッドボール': 9, '洋葱圈—正经人的不正经聊天工具': 16, '飞刀传奇-动作武侠热血江湖即时PK传奇（登录爆金装）': 24, 'パチスロ デビル メイ クライ クロス': 16, 'ガールズちゃんねる - 女子のニュースとガールズトーク': 25, '英熟語ターゲット1000（4訂版）': 13, '【マイナビバイト大学生版】大学生のバイト探し・アルバイト求人': 31, '兜町アナリストがお伝えする「兜予報」（無料）': 23, 'ドリブルの達人': 8, '剑客情缘-高爆率高掉落天天疯玩': 15, '【放置】勇者改名 ～「ふざけた名前つけやがって！」': 25, '現金製造ロボ -毎日コツコツ3万円稼ぐ-': 17, '出会い系無料で遊べるsnsアプリ内緒チャットトーク': 23, '鬼吹灯昆仑神宫 - 年兽袭来': 12, 'スッキリ謎解きゲーム！！': 13, 'えほう - 最強の恵方コンパス': 13, 'Clash of Richers 3 （城市富翁3）': 7, '借金勇者~そして完済へ…': 12, 'BLOCK(ブロック) -ぼくの箱庭【3D】-': 12, '素飛び': 4, '问仙奇遇-新玩法新套装嗨到爆': 14, '心の美男美女診断': 9, '動画英文法2700': 6, 'TAP BRAIN - 1日5分の計算で頭が良くなるゲーム': 16, '地元の掲示板「ジモティー」地元でカンタン！フリマよりもお得！': 31, 'モンスト覇者の塔マルチ掲示板 for モンスターストライク': 25, 'ケンタッキーフライドチキン\\u3000公式アプリ': 20, '君にはクリアできませんよ': 13, 'おわかりいただけただろうか心霊写真で最恐ホラー体験': 26, 'こっち見んなwww': 7, 'ねこあわせ。': 7, '烈焰王座-称霸魔法帝国的策略游戏': 16, '激突!!10円玉ドッカンバトル -最強AIに勝てる？-': 19, '脱出ゲーム 学校の七不思議 -恐怖からの脱出-': 20, 'Round1 お得なクーポン毎週配信！': 13, '金钱谷软件-活期手机金融投资理财平台!': 18, 'プチ・ロワイヤル仏和辞典（第4版）・和仏辞典（第3版）': 26, '出会い秘密チャット - 相席 出会い系チャット': 20, 'CROSS -よけてすすむ爽快アクション-': 14, '秘密の関係はじめました メッセージ風恋愛ゲーム': 23, '死亡フラグがたちました！！【ノベルゲーム型あるある謎解きアドベンチャー】': 37, '零钱夺宝pro-新手99元红包助你1元购': 14, 'ハマる脳とれ ぱずる!!PITTARI～子供も楽しめる脳とれ ぱずるげーむ～': 28, '飛べないロボはただの... ～無料アクションRPGゲーム～': 23, 'ピンポンファイター - 卓球王にオレはなるっ！！': 22, '一起捕鱼 - 欢乐街机电玩城': 12, '机で卓球': 5, '開園ピクセル牧場': 9, '斗地主·大全-2017年最受欢迎的精品棋牌游戏合集': 21, 'サクサクチェッカー 最適化  -  iChecker': 13, 'ママはストーカー': 9, 'Übungen für einen starken Rücken – GEO WISSEN GESUNDHEIT': 5, '易经全集-[有声读物]': 9, 'バーチャル恵方巻【節分・恵方コンパス・方位】': 23, 'My Diary - 你的名字非官方': 8, 'タップモンスター◆タップだけの簡単本格RPG/タプモン': 24, 'Brain Block -脳トレ分解パズル-': 9, '脳トレ！パターンキューブ': 13, 'ぼくのボッタクリBAR2 -全国制覇篇-': 14, 'プリンセスクローゼット 女性向け恋愛ゲーム！乙女げーむ': 27, '恋愛ゴシップ 女性向け恋愛ゲーム！乙女げーむ': 22, '尚品网 - 全球精品高端时尚购物网站': 16, 'ロボはつらいよ。～フルボッコタワー～アクション育成強化ゲーム！': 32, 'デビルサバイバー２ 最後の７日間': 16, '大人の出会いチャット  - 出会い系 アプリ': 18, '星之轨迹-好玩的手游角色扮演网游新游戏': 19, '食べないと死ぬ 3': 8, 'Boooom!! -たった1発で爆破できますか？-': 14, '激ムズ！お前、脱出できんの？～反射神経アクションゲーム～': 29, '意味が分かると怖い話【意味怖】-この怖い話の意味が分かるか…': 30, 'おかず甲子園': 7, '絶対に笑える話\\u3000腹筋崩壊の笑える話': 18, '時計仕掛けの彼女 /明日なんて来なきゃいいのにね': 23, 'マンガモンスター \\u3000無料マンガ/無料本/人気マンガ': 23, '妹型杀器': 5, '武神战纪OL-热血三国志国战手游': 14, '激ムズ！にゃんコプター': 12, '謎解きあの人からメール': 12, '东方财富网领先版-财经资讯&股票开户': 17, '暗黑屠魔者2（唉哟-还不错哦）': 14, 'エジコイ！〜エジプト神と恋しよっ〜': 18, '剑雨奇缘-万人同屏PK,唯美风仙侠': 14, 'PINGPONG（ピンポン）- 君の反射神経Lvはいくつ？': 18, '椅子ドンVR~一ノ宮英介 編~': 11, 'マンガきゅんと‐漫画が全話読み放題の少女まんがアプリ': 27, 'ダイエットやメイク、ネイルのコスメ情報 - シェリル': 24, '国金宝理财-15%年化收益的金融投资赚钱软件': 19, '女性向けまとめ読みアプリ - pool（プール）-': 18, 'イケメン革命◆アリスと恋の魔法 恋愛ゲーム': 21, 'ライブチャット、ビデオチャット通話が楽しめる！ ライブでゴーゴー': 32, '百盈足球-专业足篮比分赛事预测': 15, 'ねこめし屋 -マンガも読めるネコゲーム料理店経営の無料育成シュミレーション-': 36, 'Please,Dad. I wanna live.\\u3000おとうさん、おねがい。わたし生きたいよ。': 22, 'ひとほろぼし': 7, 'ST channel ［エスティーチャンネル］- 雑誌『セブンティーン』公式アプリ': 29, 'ごちうさアラーム～シャロ編～': 15, '战歌联萌-新英雄登场 惊喜嘉年华': 15, 'テニスクラブ物語': 9, '不良西游-神魔悟空大战篇': 12, 'ScaryStory in Japan 怖い話し無料': 7, '-The 穴通し3D- 君の記憶力x反射神経を問う! ～Mr.CURVEからの挑戦状 ～': 24, '【殺人現場へようこそ】推理サスペンス劇場/謎解き大人の脳トレゲーム': 33, '鳥として生きた男\\u3000その壮絶な人生': 17, 'キクタン 【Advanced】 6000 ～聞いて覚える英単語～(アルク)': 21, '全民夺宝(官方)': 7, '大盛グルメ食堂': 8, 'MineSweeper\\u3000マインスイーパ無料': 11, '秒速で1億円 貢ぐ男\\u3000～美女キャラ集結！from ギャングロード JOKER～': 27, '学年ビリのギャルが今さら受験してみた': 19, '吕布帮帮忙-三国策略卡牌，指间微操轻松畅玩': 21, 'キクタンTOEIC(R) Test Score 600 ～聞いて覚える英単語～(アルク)': 19, '通信量チェッカー': 9, '脱出ゲーム\\u3000カリスマブラザーズのワクワク女子寮脱出大作戦': 29, '剑倚手游': 5, '電球でテニスしてみた-無料で遊べるミニゲーム': 22, '箱庭シティ鉄道': 8, '平安证券': 5, '謎解き窓ガラスの跡': 10, 'モンスト全国マルチ掲示板 for モンスターストライク！〜タスカンと運極が作れるアプリ〜': 40, '恋する幽霊-カレシ、死んでます。-': 16, '人気の動画まとめてみた。\"for YouTube\"': 13, 'キクタン  【Basic】  4000 ～聞いて覚える英単語～(アルク)': 21, '謎解き': 4, 'キクタン 【Super】 12000 ～聞いて覚える英単語～(アルク)': 21, '香哈菜谱-最专业的家常菜谱大全 无广告版': 19, '五目並べ - オンライン対戦搭載！': 15, '王权之战-帝国时代皇室争霸！': 14, 'アニメスタジオ物語': 10, '[GP]パチスロ デビル メイ クライ クロス(パチスロゲーム)': 23, '冒険ダンジョン村': 9, 'ほぼ無理ゲー': 7, 'CUBE 360°\\u3000～想像力×知能×反射神経～': 16, '勘違い探し（俺のこと・・・）': 15, '凤凰新闻(专业版)-有料的军事新闻、娱乐短视频': 21, 'スシロー': 5, '大人のためのかわいいお買い物アプリSUCRESIA(シュクレシア）': 25, '机甲无双－燃即正义 殿堂级战斗手游': 17, '完全犯罪クラブ': 8, 'こち亀 公式連載アプリ〜こち亀の漫画が読めるアプリ〜': 26, '投资乐VIP-白银黄金贵金属理财投资': 15, '脱出ゲーム KA-MA-KU-RA': 6, '恵方コンパス！【恵方巻を食べる方角がすぐ探せる！】': 26, 'ヨドバシ': 5, 'オービスガイド - 新型オービス&ネズミ捕り&検問': 21, '万年历-农历黄历日历天气': 12, '777游戏厅-2017超人气掌上游戏厅': 12, '脱出ゲーム Toilet': 6, '【負けるが勝ち？】少数派に入れば勝利の7Beget': 20, '脱出ゲーム 心霊学校からの脱出': 15, 'ごちうさアラーム\\u3000～ココア編～': 16, '彼女の涙が僕を人間にした': 13, '壊して！無限ドリルランド': 13, \"Anitore EX ～Let's train together！～\": 4, '脱出ゲーム Oden': 6, '[GP]アナザーゴッドハーデス-奪われたZEUSver.-(パチスロゲーム)': 23, 'おやじが跳ぶ': 7, 'ナイトメアハーレム 女性向け恋愛ゲーム！乙女げーむ': 25, 'キンニクエスト 筋肉と筋肉と筋肉と呪われし筋肉': 23, 'モンストマルチ掲示板 〜 The BEST 〜 for モンスターストライク': 23, '战车世纪·经典FC重装机兵归来': 14, '四角い頭を丸くする2': 10, 'Yahoo!防災速報 - 地震や豪雨など災害情報をいち早く通知': 23, '英単語ターゲット1900（5訂版）': 13, '下ヨシ子の「２０１７年\\u3000あなたの流生命」': 21, '性格美男美女診断２': 10, 'Think in Japanese (Original name:ひとりごと英語)': 8, '【ひっぱりパズル】ズキュ〜〜〜〜ン！': 19, '完全心理プロファイルX': 11, '秒で100億円': 5, '恵方コンパス.': 7, '古墓仙缘-古装恋爱修仙手游': 13, '番茄电玩城': 6, '大人の脳トレ！ぴたぽん #頭が良くなる #快感ハメコミパズル': 27, '笑ったら負け': 7, '「宅建士」過去問題《受験用》': 15, '物理パズル:flower（フラワー）': 12, '俺が浮気した時の話、聞く？ 男女の修羅場の話まとめ': 25, '轩辕剑叁外传之天之痕-正版经典仙侠授权': 19, 'ジーユー': 5, '主播炸金花': 6, '謝罪会見': 5, '早くトイレに行きたい': 11, '僕の魔球打てるの？': 10, 'アウト～まさか浮気してないよね？～【恋愛不倫探しゲーム】': 29, '애드픽 - 인플루언서가 되어 의미있는 수익을 올리세요!': 23, '[GP]パチスロ ヱヴァンゲリヲン〜決意の刻〜(パチスロゲーム)': 26, 'メンタルリープのアプリ：ワンダーウィーク（旧：ワンダーウィークス）': 34, 'がんばれルルロロ！かさねてブロック': 18, 'なっとう-人気の納豆育成ゲーム-': 15, '全国マルチ掲示板 for モンスト！〜タスカンと運極ができるアプリ〜': 30, '一筆書きゲーム！無料パズルで脳トレしよう！ by だーぱん': 26, 'センバツLIVE!2017／第89回選抜高校野球大会公式アプリ': 21, '新・血液型テスト': 9, 'ジョナサンアプリ\\u3000お得なクーポンが使える便利なアプリ': 27, 'パチスロ黄門ちゃま 喝': 11, '罪と罰2 -犯人は誰だ!?- 謎解き推理ミステリーサスペンス': 24, 'AKUMA大戦 -悪魔を合体召喚して魔王を育成する放置ゲーム-': 24, '心动K歌恋爱季-让我们一起唱歌听歌恋爱吧': 19, 'さすゆう -さすがは勇者様です-無料放置系お手軽RPG!!': 22, '30秒マン-これクリアできるやついる？-': 17, '开挂江湖-Q版武侠挂机': 10, '犯人は僕です。－謎解き×探索ノベルゲーム－': 22, 'js体育资讯': 5, '每日红包': 5, '激Jパチスロ 2027': 6, 'ビルホッピング': 8, '犯人は僕です。～露天風呂編～': 15, '紫马财行理财精英版—安全可靠的投资理财平台': 22, 'SPI言語 【Study Pro】': 5, 'みんなの性格検定': 9, 'テトリマン': 6, 'サクッとスッキリ！ラインナンバー！': 18, '僕の妹が死んだ。': 9, 'ゲスの極み!パリピを探せ!!笑える・ハマる間違い探しゲーム（意外と難問）': 34, '封神榜（洪荒西游英杰传奇）': 14, 'ピッタリあわせて！脳トレcube': 13, 'キモゲーいや、きも毛ー': 12, '出会うカメ': 6, 'アイドルの姫\\u3000-わたしの青春マテリアル-': 19, 'ゲーム攻略「SGGP」掲示板、SNSな友達出会い': 18, '意味が分かると怖い話-この怖い話の意味分かる？【意味怖】': 28, 'TOEIC®テストリスニング360問': 11, '诛妖奇遇-3D仙侠恋爱网游年度巨献(浪漫回合)': 19, '泰坦来袭-热血英雄燃爆部落争霸之战': 17, '蒼の彼方のフォーリズム‐ETERNAL SKY-': 13, '江湖侠客录－武侠迷必玩单机手游': 16, '巨商传奇': 5, 'ナビタイム ドライブサポーター - NAVITIMEのカーナビアプリ': 23, '琅琊天下 - 原著改编单机武侠角色扮演RPG': 17, 'FixYou-無料でチャットトークができるSNSマッチングアプリ': 23, '花しらべ 花認識/花検索': 11, '挂机三国-最强挂机游戏': 11, '修仙幻想-经典萌系回合': 11, '逍遥修仙-掌上360度自由视角经典仙侠动作游戏': 20, '天神决-创新仙侠手游': 10, '修仙侠侣-正统中国风仙侠新作': 14, '胜者为王-多人同时在线PK传奇类手机网游！': 19, 'ネイティブ1000人と作った英会話～日常英会話編～': 22, '懸賞ソリティア-懸賞応募でギフト券が稼げるソリティア！-無料懸賞ゲーム': 34, '别动我学姐-校园格斗巅峰之作': 14, 'マイにゃんカフェ': 9, 'うねうね糸': 6, 'リア充撲滅RUN': 6, '仙侠剑客—大型3D精品ARPG动作神作': 14, '競馬予想 アプリ！馬券予想で収支アップ！競馬 jra 攻略！': 25, 'どうして私じゃダメなの？': 13, '出会い系アプリ i-Mail（アイメール）': 15, 'コンテンツブロッカー280 / 最高の広告ブロック 280blocker': 20, 'オトナの教科書〜学校じゃ教わらない裏教育クイズ(画像付き)〜': 29, 'ねこげーむ~ねこ騎士ポチ~簡単で人気の猫ゲーム~基本無料': 26, '大人には解けない問題': 11, '妖萌战姬HD - 日系二次元萌娘卡牌手游': 16, 'TOEIC®テスト文法640問1': 8, '僕の彼女が成仏するまで': 12, '霸王卧龙传奇（全新转职系统，60种职业供你选择）': 23, '謎解き赤い封筒': 8, 'GETだぜ！じゃねーよｗ for ポケモン': 14, '同城爱约会-单身男女约会神器': 14, '謎解き2016': 4, '最佳足球经理(非彩票)': 10, '誰ガ為ノ世界~悲しみと始まりのユグドラシル~': 21, 'へびでか〜へび刑事純情物語〜【放置ゲーム】': 22, '东方头条（探索版）订阅分享感兴趣的新闻和搞笑视频': 25, '脳トレ物理パズル【キタコレ！】～IQの限界に挑めるパズルゲーム～ktkr': 31, '金のフレーズ 〜「新TOEIC®TEST 出る単特急 金のフレーズ」収録 〜': 26, '山手線走ってみた。': 10, '无敌战舰-经典策略海战巅峰对决': 15, '和我信': 4, 'ジェスチャー当て': 9, 'スピードOnline トランプゲーム': 12, 'まっぷるリンク - 旅行ガイドを丸ごとアプリで持ち歩き': 25, 'SPI非言語 【Study Pro】': 6, 'こだわりラーメン館': 10, '【意味笑】意味が分かると面白い話-謎解き2ch系推理ゲーム': 26, '疯狂百宝箱': 6, '針の穴': 4, 'RPG 偽りの物語 / ドット絵ロールプレイングゲーム': 21, '国美在线 – 新人免费领200元优惠券': 15, '鬼畜三国-红将觉醒': 9, '食べないと死ぬ2': 8, '单读-我们的黄金时代': 10, '脱出ゲーム\\u3000ピラミッドからの脱出': 17, '無料で音楽や写真・カメラの裏技アプリ for iPhone7': 19, '自転車ナビ by NAVITIME(ナビタイム) - 自転車のナビができるアプリ': 24, '謎解きロッカーの忘れ物': 12, '大人の納車ゲーム-四角いアタマを丸くする脳トレパズル': 26, 'ねことダンボール': 9, '２ちゃんねる for iPhone': 7, '喔豆-发现世间美味': 9, '梦幻仙途-经典之余又大搞趣味创新（回合制）': 21, '借金あるからギャンブルしてくる': 16, 'ファッション通販 ZOZOTOWN': 9, 'マッチング チャット - マッチング&恋人探しチャット': 23, '理财咖(管家版)-金融投资理财产品多样的手机理财工具!': 24, '弑仙问情': 5, '口袋理财（标准版）-上市公司报喜鸟投资': 19, '友達 恋人探し であい ちゃっと sns -ギャルとも': 19, '【難問謎解き】ねこ神様はクイズ好き？': 19, '【悲報】鬼ヶ島終了のお知らせ\\u3000-ゾンビ桃太郎が3Dすぎて鬼やばいwww-': 30, '中学英文法総復習 パターンで覚える 瞬間英文法': 22, 'Brain15 − 脳トレ 無料パズル −': 11, '【謎解き】ヤミすぎ彼女からのメッセージ': 20, 'みんなのお弁当 by クックパッド ~お弁当をレシピ付きで記録・共有~': 29}\n",
      "\n",
      "\n",
      "\n",
      "1042 Suspected non-english app(s) found\n"
     ]
    }
   ],
   "source": [
    "print(apple_non_english)\n",
    "print('\\n\\n')\n",
    "print(len(apple_non_english), 'Suspected non-english app(s) found')"
   ]
  },
  {
   "cell_type": "markdown",
   "metadata": {},
   "source": [
    "Google app names are in `0` column"
   ]
  },
  {
   "cell_type": "code",
   "execution_count": 32,
   "metadata": {},
   "outputs": [],
   "source": [
    "google_non_english = check_non_english(google_nodups_data, 0)"
   ]
  },
  {
   "cell_type": "code",
   "execution_count": 33,
   "metadata": {},
   "outputs": [
    {
     "name": "stdout",
     "output_type": "stream",
     "text": [
      "{'Truyện Vui Tý Quậy': 4, 'Flame - درب عقلك يوميا': 13, 'At home - rental · real estate · room finding application such as apartment · apartment': 4, '乐屋网: Buying a house, selling a house, renting a house': 4, 'သိင်္ Astrology - Min Thein Kha BayDin': 6, 'РИА Новости': 11, '乗換NAVITIME\\u3000Timetable & Route Search in Japan Tokyo': 4, '► MultiCraft ― Free Miner! 👍': 4, 'صور حرف H': 7, 'L.POINT - 엘포인트 [ 포인트, 멤버십, 적립, 사용, 모바일 카드, 쿠폰, 롯데]': 24, 'M3-X5-X6-M-İ3-İ8 RACİNG 2018': 4, 'RMEduS - 음성인식을 활용한 R 프로그래밍 실습 시스템': 19, 'AJ렌터카 법인 카셰어링': 10, 'Al Quran Free - القرآن (Islam)': 7, '中国語 AQリスニング': 9, 'Neuvaines et prières au Coeur Sacré de Jésus': 4, '日本AV历史': 5, 'Ay Yıldız Duvar Kağıtları': 6, 'বাংলা টিভি প্রো BD Bangla TV': 14, 'Cъновник BG': 8, 'CSCS BG (в български)': 11, '뽕티비 - 개인방송, 인터넷방송, BJ방송': 15, 'BL 女性向け恋愛ゲーム◆俺プリクロス': 17, 'SecondSecret ‐「恋を読む」BLノベルゲーム‐': 15, 'BL 女性向け恋愛ゲーム◆ごくメン': 15, 'あなカレ【BL】無料ゲーム': 12, '감성학원 BL 첫사랑': 8, 'BQ-መጽሐፍ ቅዱሳዊ ጥያቄዎች': 14, 'BS Calendar / Patro / पात्रो': 7, 'Vip视频免费看-BT磁力搜索': 10, 'Билеты ПДД CD 2019 PRO': 10, 'РееI Smart Remote MP3 CD Player': 4, 'Offline Jízdní řády CG Transit': 5, 'Bonjour 2017 Abidjan CI ❤❤❤❤❤': 6, 'CK 初一 十五': 5, '📏 Smart Ruler ↔️ cm/inch measuring for homework!': 4, 'الفاتحون Conquerors': 9, 'Hlášenírozhlasu.cz': 4, 'Modlitební knížka CZ': 4, 'DG ग्राम / Digital Gram Panchayat': 6, \"Lep's World 3 🍀🍀🍀\": 4, 'DM הפקות': 6, 'DW فارسی By dw-arab.com': 6, 'Météo Algérie DZ': 4, 'لعبة تقدر تربح DZ': 13, 'বাংলাflix': 6, 'RPG ブレイジング ソウルズ アクセレイト': 17, '英漢字典 EC Dictionary': 5, 'ECナビ×シュフー': 8, 'أحداث وحقائق | خبر عاجل في اخبار العالم': 32, 'EG SIM CARD (EGSIMCARD, 이지심카드)': 6, 'パーリーゲイツ公式通販｜EJ STYLE（イージェイスタイル）': 24, 'FAHREDDİN er-RÂZİ TEFSİRİ': 6, 'Égalité et Réconciliation': 4, \"I'm Rich/Eu sou Rico/أنا غني/我很有錢\": 11, 'AÖF Ev İdaresi 1. Sınıf': 5, 'Ey Sey Storytime រឿងនិទានតាឥសី': 14, '哈哈姆特不EY': 6, 'CNY Slots : Gong Xi Fa Cai 发财机': 4, 'My AEK - Official ΑΕΚ FC app': 4, 'Sona - Nær við allastaðni': 4, 'FP Разбитый дисплей': 16}\n",
      "\n",
      "\n",
      "\n",
      "62 Suspected non-english app(s) found\n"
     ]
    }
   ],
   "source": [
    "print(google_non_english)\n",
    "print('\\n\\n')\n",
    "print(len(google_non_english), 'Suspected non-english app(s) found')"
   ]
  },
  {
   "cell_type": "markdown",
   "metadata": {},
   "source": [
    "**Start removing non-english apps**"
   ]
  },
  {
   "cell_type": "code",
   "execution_count": 34,
   "metadata": {},
   "outputs": [],
   "source": [
    "apple_english_nodupes = delete_non_english(apple_nodups_data, 1)"
   ]
  },
  {
   "cell_type": "code",
   "execution_count": 35,
   "metadata": {
    "scrolled": true
   },
   "outputs": [
    {
     "name": "stdout",
     "output_type": "stream",
     "text": [
      "Original Apple data length: 7198\n",
      "Identified non-english were: 1042\n",
      "New Apple data length: 6156\n"
     ]
    }
   ],
   "source": [
    "print('Original Apple data length:', len(apple_nodups_data))\n",
    "print('Identified non-english were:', len(apple_non_english))\n",
    "print('New Apple data length:', len(apple_english_nodupes))"
   ]
  },
  {
   "cell_type": "code",
   "execution_count": 36,
   "metadata": {},
   "outputs": [
    {
     "name": "stdout",
     "output_type": "stream",
     "text": [
      "['id', 'track_name', 'size_bytes', 'currency', 'price', 'rating_count_tot', 'rating_count_ver', 'user_rating', 'user_rating_ver', 'ver', 'cont_rating', 'prime_genre', 'sup_devices.num', 'ipadSc_urls.num', 'lang.num', 'vpp_lic']\n",
      "\n",
      "\n",
      "['284882215', 'Facebook', '389879808', 'USD', '0.0', '2974676', '212', '3.5', '3.5', '95.0', '4+', 'Social Networking', '37', '1', '29', '1']\n",
      "\n",
      "\n",
      "['389801252', 'Instagram', '113954816', 'USD', '0.0', '2161558', '1289', '4.5', '4.0', '10.23', '12+', 'Photo & Video', '37', '0', '29', '1']\n",
      "\n",
      "\n",
      "Number of rows: 6156\n",
      "Number of columns: 16\n"
     ]
    }
   ],
   "source": [
    "explore_data(apple_english_nodupes, 0, 3, True)"
   ]
  },
  {
   "cell_type": "code",
   "execution_count": 37,
   "metadata": {},
   "outputs": [],
   "source": [
    "google_english_nodupes = delete_non_english(google_nodups_data, 0)"
   ]
  },
  {
   "cell_type": "code",
   "execution_count": 38,
   "metadata": {},
   "outputs": [
    {
     "name": "stdout",
     "output_type": "stream",
     "text": [
      "Original Google data length: 9660\n",
      "Identified non-english were: 62\n",
      "New Google data length: 9598\n"
     ]
    }
   ],
   "source": [
    "print('Original Google data length:', len(google_nodups_data))\n",
    "print('Identified non-english were:', len(google_non_english))\n",
    "print('New Google data length:', len(google_english_nodupes))"
   ]
  },
  {
   "cell_type": "code",
   "execution_count": 39,
   "metadata": {
    "scrolled": true
   },
   "outputs": [
    {
     "name": "stdout",
     "output_type": "stream",
     "text": [
      "['App', 'Category', 'Rating', 'Reviews', 'Size', 'Installs', 'Type', 'Price', 'Content Rating', 'Genres', 'Last Updated', 'Current Ver', 'Android Ver']\n",
      "\n",
      "\n",
      "['Photo Editor & Candy Camera & Grid & ScrapBook', 'ART_AND_DESIGN', '4.1', '159', '19M', '10,000+', 'Free', '0', 'Everyone', 'Art & Design', 'January 7, 2018', '1.0.0', '4.0.3 and up']\n",
      "\n",
      "\n",
      "['U Launcher Lite – FREE Live Cool Themes, Hide Apps', 'ART_AND_DESIGN', '4.7', '87510', '8.7M', '5,000,000+', 'Free', '0', 'Everyone', 'Art & Design', 'August 1, 2018', '1.2.4', '4.0.3 and up']\n",
      "\n",
      "\n",
      "Number of rows: 9598\n",
      "Number of columns: 13\n"
     ]
    }
   ],
   "source": [
    "explore_data(google_english_nodupes, 0, 3, True)"
   ]
  },
  {
   "cell_type": "markdown",
   "metadata": {},
   "source": [
    "### 02 -> Data cleaning (contd.)"
   ]
  },
  {
   "cell_type": "markdown",
   "metadata": {},
   "source": [
    "1. Rows with missing entries or errors\n",
    "2. Remove duplicates\n",
    "3. Remove non-english apps\n",
    "4. **Isolate free apps**"
   ]
  },
  {
   "cell_type": "markdown",
   "metadata": {},
   "source": [
    "Apple has name in `1` price in `4` column"
   ]
  },
  {
   "cell_type": "code",
   "execution_count": 40,
   "metadata": {},
   "outputs": [],
   "source": [
    "apple_paid_apps = check_paid_apps(apple_english_nodupes, 1, 4)"
   ]
  },
  {
   "cell_type": "code",
   "execution_count": 41,
   "metadata": {},
   "outputs": [
    {
     "name": "stdout",
     "output_type": "stream",
     "text": [
      "{'Fruit Ninja Classic': 1.99, 'Clear Vision (17+)': 0.99, 'Minecraft: Pocket Edition': 6.99, 'Plants vs. Zombies': 0.99, 'Doodle Jump': 0.99, 'Draw Something': 2.99, 'Infinity Blade': 0.99, 'Geometry Dash': 1.99, 'Tiny Wings': 0.99, 'Traffic Rush': 0.99, 'Pocket God': 0.99, 'Plants vs. Zombies HD': 0.99, 'Infinity Blade II': 0.99, 'The Room': 0.99, 'Plague Inc.': 0.99, \"Where's My Water?\": 1.99, 'Call of Duty: Black Ops Zombies': 6.99, 'Sunday Lawn': 0.99, 'SCRABBLE Premium': 7.99, 'Flick Home Run !': 0.99, 'Terraria': 4.99, 'Scribblenauts Remix': 0.99, 'Zombieville USA 2': 0.99, 'Trivia Crack (No Ads)': 2.99, 'Solitaire by MobilityWare': 4.99, 'TuneIn Radio Pro - MLB Audiobooks Podcasts Music': 9.99, 'Call of Duty: Zombies': 4.99, 'Cut the Rope: Experiments': 0.99, 'Phase 10 Pro - Play Your Friends!': 1.99, 'Videoshop - Video Editor': 1.99, 'The Sims 3': 6.99, 'HB2 PLUS': 0.99, 'StickWars': 0.99, 'BATTLE BEARS: Zombies!': 0.99, 'Slayin': 0.99, 'Ski Safari': 0.99, 'Lane Splitter': 0.99, 'Bloons TD 5': 2.99, 'Fieldrunners': 2.99, 'Super Stickman Golf': 2.99, 'Cat Physics': 1.99, 'SCRABBLE Premium for iPad': 9.99, 'Camera Plus: For Macro Photos & Remote Photography': 0.99, 'Infinity Blade III': 0.99, 'Flick Kick Field Goal': 1.99, 'The Room Two': 1.99, 'Hotel Dash Deluxe': 0.99, 'Cartoon Wars': 0.99, 'Doodle God™': 1.99, 'Touchgrind': 4.99, 'Gravity Guy': 0.99, 'Multiplayer for Minecraft PE': 2.99, \"Sally's Spa\": 2.99, 'Tabs & Chords by Ultimate Guitar - learn and play': 2.99, 'Goat Simulator': 4.99, 'iSlash': 0.99, 'White Noise': 0.99, 'Zombieville USA': 0.99, 'I Am T-Pain 2.0': 2.99, 'Grand Theft Auto: San Andreas': 6.99, 'Camera+': 1.99, 'Scanner Pro - PDF document scanner app with OCR': 3.99, 'Crash Bandicoot Nitro Kart 3D': 2.99, \"Lep's World Plus - super best platformer games\": 0.99, 'Legendary Wars': 0.99, 'Color Splash': 0.99, 'A Dark Room': 0.99, 'Splashtop Personal - Remote Desktop': 4.99, 'Rat On A Skateboard': 1.99, 'Weather Live - Weather Forecast, Radar and Alerts': 4.99, 'Yoga Studio': 4.99, 'TurboScan™ Pro - document & receipt scanner: scan multiple pages and photos to PDF': 4.99, 'Bloons TD 5 HD': 2.99, 'NOAA Radar Pro – Weather Alerts & Forecast': 3.99, 'Temple Run: Brave': 1.99, \"Five Nights at Freddy's\": 2.99, 'Bike Race Pro - Top Motorcycle Racing Game': 0.99, 'Trenches': 0.99, 'Grand Theft Auto III': 4.99, 'MONOPOLY Game': 0.99, 'Eden - World Builder': 0.99, 'Akinator the Genie': 1.99, 'Rayman Jungle Run': 2.99, 'Living Earth - Clock & Weather': 2.99, 'Monument Valley': 3.99, 'Real Steel': 0.99, '5-0 Radio Pro Police Scanner (Extra Feeds)': 3.99, 'Faded - Photo Editor': 1.99, \"Where's My Perry?\": 2.99, 'Osmos for iPad': 4.99, 'The Room Three': 4.99, 'Crush the Castle': 0.99, 'Modern Combat 3: Fallen Nation': 6.99, 'Toca Hair Salon 2': 2.99, 'Moto X Mayhem': 0.99, 'Offroad Legends': 0.99, 'Robot Unicorn Attack': 0.99, 'Sky Guide: View Stars Night or Day': 2.99, 'iFart - The Original Fart Sounds App': 1.99, 'NBA JAM by EA SPORTS™': 4.99, 'Line Rider iRide™': 1.99, 'Peggle Classic': 0.99, 'Lifeline...': 1.99, 'BADLAND': 2.99, 'PAC-MAN Premium': 3.99, 'Photon Flash Player for iPad - Flash Video & Games plus Private Web Browser': 4.99, 'Dice With Buddies: Fun New Social Dice Game': 2.99, 'PicLab Studio - Creative Editing & Graphic Design': 2.99, 'Blek': 2.99, 'Grand Theft Auto: Vice City': 4.99, 'Survivalcraft': 3.99, 'Sonic The Hedgehog': 2.99, 'Rat On A Scooter XL': 0.99, 'Fish Tycoon': 0.99, 'Virtual Families': 1.99, 'Sky Gamblers: Storm Raiders': 4.99, 'SpongeBob Moves In': 2.99, 'Threes!': 2.99, 'Sudoku⁺': 2.99, 'Carnivores: Dinosaur Hunter Pro': 2.99, 'Reckless Getaway': 0.99, \"Five Nights at Freddy's 2\": 2.99, 'The Amazing Spider-Man': 6.99, 'World Cup Table Tennis™': 0.99, 'Runtastic PRO Running, Jogging and Fitness Tracker': 4.99, 'Notability': 9.99, 'Beat the Boss 2 (17+)': 0.99, 'I Dig It': 0.99, 'Harry Potter: Spells': 0.99, 'Wedding Dash Deluxe': 0.99, 'Map My Run+ - GPS Running & Workout Tracker': 2.99, 'Printer Pro - Print photos, pdf and emails': 6.99, 'Deemo': 1.99, 'NOAA Hi-Def Radar Pro -  Storm Warnings, Hurricane Tracker & Weather Forecast': 1.99, 'Block Fortress': 1.99, 'Teenage Mutant Ninja Turtles: Rooftop Run': 3.99, 'PDF Expert 6: Read, annotate & edit PDF documents': 9.99, 'MyNetDiary PRO - Calorie Counter and Food Diary': 3.99, 'Catan': 1.99, 'Grand Theft Auto: Chinatown Wars': 4.99, 'Sleep Pillow Sounds: white noise, rain, ocean, fan': 2.99, 'STREET FIGHTER IV': 4.99, 'LIMBO': 4.99, 'MotionX GPS': 1.99, 'Temple Run: Oz': 1.99, 'BATTLE BEARS -1': 0.99, 'Gangstar Rio: City of Saints': 6.99, 'Osmos': 2.99, 'Age of Zombies™': 0.99, 'Backbreaker 2: Vengeance': 0.99, 'iTranslate Voice - Speak & Translate in Real Time': 6.99, 'Duet Game': 2.99, 'Hatchi - A retro virtual pet': 0.99, 'Tank Hero': 0.99, 'Scanner911 Pro': 3.99, 'Bastion': 4.99, 'Fieldrunners 2': 2.99, 'The Sims 3 Ambitions': 4.99, 'Afterlight': 0.99, 'MyRadar Pro NOAA Weather Radar, Forecasts & Storms': 1.99, 'Ugly Meter™': 0.99, 'N.O.V.A. 3 - Near Orbit Vanguard Alliance': 6.99, 'Period Tracker Deluxe': 1.99, 'Carnivores: Ice Age Pro': 2.99, 'Card Wars - Adventure Time Card Game': 3.99, 'Cartoon Wars 2: Heroes': 0.99, 'Modern Combat 4: Zero Hour': 6.99, 'Stack the States®': 2.99, 'Catapult King': 0.99, \"Let's create! Pottery HD\": 4.99, 'Seeds Pro For Minecraft - Server, Skins, Community': 1.99, 'Airport Scanner': 1.99, 'Scan - QR Code and Barcode Reader': 1.99, 'Hipstamatic': 2.99, 'Cut the Rope 2': 1.99, 'Doodle Army': 0.99, 'Game Dev Story': 4.99, 'LiveCollage Pro-Photo Collage Maker&Photo Editor': 1.99, 'Tiny Wings HD': 2.99, 'Bike Baron': 1.99, 'Optical Inquisitor 17+': 0.99, 'Calendars 5 - Daily Planner and Task Manager': 6.99, 'Backflip Madness': 0.99, 'Word Chums': 3.99, 'Dictionary.com Dictionary & Thesaurus Premium': 3.99, ':) Sudoku +': 2.99, 'Kingdom Rush Frontiers HD': 2.99, 'CARROT To-Do - Talking Task List': 2.99, 'Ice Rage': 1.99, 'Bridge Constructor': 1.99, 'iAnnotate PDF': 9.99, 'Spider Solitaire by MobilityWare': 4.99, 'True Skate': 1.99, 'Fish Out Of Water!': 0.99, 'Carcassonne': 9.99, 'PewDiePie: Legend of the Brofist': 4.99, 'Photo Lab PRO HD: frames for pictures, face sketch': 4.99, 'Super Hexagon': 2.99, 'Pudding Monsters': 0.99, 'Chess Pro - with coach': 9.99, 'Cover Orange 2: Journey': 0.99, 'Endless Alphabet': 8.99, 'Sprinkle: Water splashing fire fighting fun!': 1.99, 'Clear Vision 2': 0.99, 'LEGO Harry Potter: Years 1-4': 4.99, '360 Panorama': 1.99, 'Fitness Buddy+ Gym Workout Exercise, Home Trainer': 2.99, 'Catan HD': 1.99, '5K Runner: 0 to 5K Run Trainer. Couch potato to 5K': 4.99, 'Skip-Bo™ Pro - The Classic Family Card Game': 1.99, 'Instant Heart Rate+: Heart Rate & Pulse Monitor': 4.99, 'Attack the Light - Steven Universe Light RPG': 2.99, 'Map My Ride+ - GPS Cycling & Route Tracker': 2.99, 'Big Button Box - funny sounds, sound effects buttons, pro fx soundboard, fun games board, scary music, annoying fart noises, jokes, super cool dj effect, cat, dog & animal fx': 0.99, 'Dark Sky Weather': 3.99, 'Flick Golf!': 0.99, 'Home Design 3D GOLD': 9.99, 'The Impossible Game': 0.99, \"Five Nights at Freddy's 3\": 2.99, 'Worms 2: Armageddon': 4.99, 'All-in-1 Logic GameBox': 0.99, 'Red Ball 4': 0.99, 'Dude Perfect': 0.99, 'Drop Flip': 1.99, 'The Sims 3 World Adventures': 2.99, 'STREET FIGHTER IV VOLT': 4.99, 'Word Swag - Cool fonts & typography generator': 4.99, 'Parking Mania': 0.99, 'Toca Hair Salon': 2.99, 'Heads Up!': 0.99, 'Snail Bob': 0.99, 'Sonic the Hedgehog 2': 2.99, 'Mad Skills Motocross': 0.99, 'Muffin Knight': 0.99, 'Monkey Preschool Lunchbox': 1.99, 'Dragon Island Blue': 0.99, 'Call of Duty®: Strike Team': 6.99, 'Ridiculous Fishing - A Tale of Redemption': 2.99, 'My Talking Pet': 1.99, 'Font Candy+ Typography - Editor Add Text To Photos': 2.99, 'Cut the Rope: Time Travel': 0.99, 'SimplePhysics': 1.99, 'Ringtone Designer Pro - Create Unlimited Ringtones, Text Tones, Email Alerts, and More!': 0.99, 'Star Walk - Find Stars And Planets in Sky Above': 4.99, 'The Amazing Spider-Man 2': 6.99, 'Star Wars®: Knights of the Old Republic™': 9.99, 'Sushi Cat': 0.99, 'iScanner - PDF Document Scanner App': 4.99, 'Hitman GO': 4.99, 'Sonic Jump™': 2.99, 'This American Life': 2.99, 'Junk Jack Retro': 2.99, 'Doodle Jump HD': 2.99, 'Granny Smith': 1.99, 'ArtStudio for iPad - Draw Sketch and Paint': 4.99, 'TETRIS®': 1.99, 'Hitman Sniper': 0.99, \"Lep's World 2 Plus - super best platformer games\": 0.99, 'Shazam Encore': 2.99, 'Bloons TD 4': 2.99, 'Shanghai Mahjong': 0.99, 'IMPOSSIBLE ROAD': 2.99, 'MONOPOLY for iPad': 4.99, 'Chess Pro with Coach - Learn,Play & Online Friends': 9.99, 'Unblock Me': 0.99, 'Daily Classifieds for iPhone': 0.99, 'Skins Pro Creator for Minecraft': 1.99, 'Bloons TD': 2.99, 'Cytus': 1.99, 'Machinarium': 4.99, 'Ms. PAC-MAN': 3.99, 'Dreamdays: Count Down to the Days that Matter': 0.99, 'Digits, the calculator for humans': 3.99, \"Alto's Adventure\": 4.99, 'Super Sharp': 1.99, 'LEGO Batman: DC Super Heroes': 4.99, 'The Price is Right™ Decades': 0.99, 'Facetune': 3.99, 'Midway Arcade': 0.99, 'Shades: A Simple Puzzle Game': 1.99, 'Diptic': 2.99, 'Full Fitness : Exercise Workout Trainer': 2.99, 'Puffin Browser Pro': 3.99, 'Noteshelf': 9.99, 'Clear – Tasks, Reminders & To-Do Lists': 4.99, 'Week Calendar': 1.99, 'WolframAlpha': 2.99, '10 Pin Shuffle Pro Bowling': 3.99, 'Need for Speed™ Most Wanted': 4.99, 'e-Sword HD: Bible Study Made Easy': 4.99, 'iStudiez Pro – Homework, Schedule, Grades': 2.99, 'Flick Champions HD': 1.99, 'Swype': 0.99, 'Emoji - inTextMoji Pro ;)': 0.99, 'Infinite Flight - Flight Simulator': 4.99, 'République': 1.99, 'PDF Reader Pro Edition - Annotate,edit & sign PDFs': 9.99, 'GoodNotes 4 - Notes & PDF': 7.99, 'Multiplayer Terraria edition': 3.99, 'Earn to Die': 0.99, 'Junk Jack': 4.99, 'Battleheart': 2.99, 'Spider:  The Secret of Bryce Manor': 1.99, \"Leo's Fortune\": 4.99, 'Deus Ex: The Fall': 4.99, 'Tobuscus Adventures: Wizards': 4.99, 'Step Out Of Bed! Smart alarm clock to get awake early with a tricky and awakening steps counter - Best alarm app to wake up on time with alarmy music ringtone': 1.99, 'Calculator Pro for iPad - Scientific Calculator': 2.99, 'Death Worm': 0.99, 'Star Walk HD - Night Sky Map': 4.99, 'Lara Croft GO': 4.99, 'Pimp Your Screen - Custom Themes & Wallpapers': 1.99, 'A Charlie Brown Christmas + iMessage Sticker Pack!': 5.99, 'Kingdom Rush Frontiers': 1.99, 'F-Sim Space Shuttle': 4.99, 'Day One Journal': 4.99, 'PicFrame': 0.99, 'FreeCell': 4.99, 'Notepad+: Take Notes, Annotate and Write on PDF': 14.99, 'Pocket God: Journey To Uranus': 1.99, 'InstaLogo Logo Creator - Graphic design maker': 2.99, 'Notes Plus': 9.99, 'Kingdom Rush Origins HD': 4.99, 'Duet Display': 9.99, 'Shadowmatic': 3.99, 'Procreate – Sketch, paint, create.': 5.99, 'Lumino City': 4.99, '2XL Supercross': 4.99, 'FINAL FANTASY': 7.99, 'Resident Evil 4: PLATINUM': 4.99, 'Home Design 3D - 3D Printing Edition': 6.99, 'Plug for Minecraft PE': 2.99, 'World Of Navy Ships': 1.99, 'Call of Duty: Zombies HD': 4.99, 'Cake Doodle': 0.99, 'hocus.': 0.99, 'WORMS': 1.99, 'Tiny Scanner+ - PDF scanner to scan document, receipt & fax': 4.99, 'Sonic The Hedgehog 4™ Episode II': 2.99, 'RGB Express - Mini Truck Puzzle': 1.99, 'Rowmote: Remote Control for Mac': 0.99, 'Breach & Clear': 3.99, 'Dragon Hills': 1.99, 'CamScanner +| PDF Document Scanner and OCR': 0.99, 'Five Nights at Freddys 4': 2.99, 'Pocket Tanks Deluxe': 4.99, 'LEGO Harry Potter: Years 5-7': 4.99, 'Civilization Revolution 2': 9.99, 'Fantastical 2 for iPhone - Calendar and Reminders': 4.99, '▻Sudoku +': 4.99, 'Superbrothers: Sword & Sworcery EP': 3.99, 'Hunter Island: Monsters & Dragons': 0.99, 'Windy ~ Sleep Relax Meditate & white noise sounds': 1.99, 'Slender Rising': 2.99, 'FINAL FANTASY TACTICS: THE WAR OF THE LIONS': 13.99, 'iHandy Translator Pro': 2.99, 'ProCam 4 - Manual Camera + RAW': 4.99, 'Radiation Island': 2.99, 'Pako - Car Chase Simulator': 1.99, 'Toca Builders': 2.99, 'SkyView® - Explore the Universe': 1.99, 'Rayman Fiesta Run': 2.99, 'Need for Speed™ Hot Pursuit': 4.99, 'Jelly Defense': 2.99, 'AVP: Evolution': 2.99, 'Warhammer Quest': 2.99, 'Awesome Calendar - Personal Planner': 9.99, 'NBA JAM by EA SPORTS™ for iPad': 4.99, 'Dictionary.com Premium Dictionary & Thesaurus for iPad': 4.99, 'Enlight': 3.99, 'MASH': 1.99, 'CARROT Weather - Talking Forecast Robot': 3.99, 'Ticket to Ride': 2.99, 'Surgeon Simulator': 4.99, 'Rocket Video for Google Cast and Chromecast to TV': 1.99, 'Tap the Frog': 1.99, 'Tempo - Metronome with Setlists': 2.99, 'GoodReader - PDF Reader, Annotator and File Manager': 4.99, 'Sonic The Hedgehog 4™ Episode I': 2.99, 'PhotoToaster - Photo Editor, Filters, Effects and Borders': 2.99, \"The Bard's Tale\": 2.99, 'iTheme - Themes for iPhone and iPad': 1.99, 'iTrackBites Plus - Smart Weight Loss Tracker & Points Calculator for Diet Nutrition Watchers': 3.99, 'Lock Photos & Video.s Vault - Passcode Protect Your Secret Photo Album & Secure Private Picture.s Folders': 2.99, 'Deliveries: a package tracker': 4.99, \"Lep's World 3 Plus - the super best platformer games\": 0.99, 'Photon Flash Player for iPhone - Flash Video & Games plus Private Web Browser': 3.99, 'World of Goo': 4.99, 'F18 Carrier Landing': 5.99, 'Chameleon Run': 1.99, 'FINAL FANTASY IV': 14.99, 'Moji Maker™': 1.99, 'Canabalt': 2.99, 'SHADOWGUN': 4.99, 'djay 2': 4.99, 'Smilebox Moments - Collages, Stickers, Filters, Frames & Animations': 0.99, \"Ricky Carmichael's Motocross Matchup Pro\": 0.99, 'Animation Creator HD': 3.99, 'Pocket Yoga': 2.99, 'R.B.I. Baseball 14': 4.99, 'Vector for iPhone': 0.99, 'Worms3': 4.99, 'Dungeon Raid': 0.99, 'Math Bingo': 2.99, 'Neuroshima Hex': 4.99, 'PhotoSync – transfer and backup photos & videos': 2.99, 'Speak & Translate － Live Voice and Text Translator': 19.99, \"Jake's Never Land Pirate School\": 0.99, 'Oceanhorn ™': 7.99, 'Lifeline: Whiteout': 1.99, 'Cut the Rope: Time Travel HD': 0.99, 'BillMinder - Bill Reminder and Organizer': 1.99, 'National Geographic World Atlas': 1.99, 'A Beautiful Mess': 0.99, 'Best Skins Creator Pro - for Minecraft PE & PC': 1.99, '7 Minute Workout Challenge': 2.99, 'Rebuild': 2.99, 'Slingo Supreme HD': 0.99, 'Jet Car Stunts': 1.99, 'Mini Metro': 4.99, 'KIMOJI': 2.99, 'Toca Tailor': 2.99, 'FACEinHOLE®': 0.99, 'Minecraft: Skin Studio': 3.99, 'Little Nugget® - capture pregnancy & baby pics': 2.99, 'Exploding Kittens® - The Official Game': 1.99, 'DOOM Classic': 4.99, 'Hurricane Tracker': 2.99, 'Dictator: Revolt': 0.99, 'Peggle Classic HD': 0.99, 'forScore': 9.99, 'Kingdom Rush Origins': 2.99, 'Riptide GP': 0.99, 'Machine World': 1.99, 'UPAD 3': 5.99, 'Quick Scan Pro - Barcode Scanner. Deal Finder. Money Saver.': 0.99, 'FTL: Faster Than Light': 9.99, \"Dr. Panda's Restaurant 2\": 2.99, 'Couch to 5K® - Running App and Training Coach': 2.99, 'Runtastic Road Bike GPS Cycling Route Tracker PRO': 4.99, 'J23 - Jordan Release Dates and History': 1.99, 'Photogene ⁴': 2.99, 'Star Walk 2 Night Sky Map: Watch Stars and Planets': 2.99, 'Joe Danger': 1.99, 'Progress to 100': 0.99, \"Don't Starve: Pocket Edition\": 4.99, 'Pinball Arcade Plus': 0.99, 'Zip—Zap': 1.99, 'ComicBook!': 0.99, 'Ski Safari: Adventure Time - Stunt Skiing Endless Runner with Finn and BMO': 0.99, 'Toca Kitchen': 2.99, 'Talking Carl': 0.99, 'Air Video HD - Now with multitasking and PiP support!': 5.99, 'Juxtaposer': 2.99, 'Toca Life: City': 2.99, 'Dark Echo': 1.99, 'God of Light': 1.99, \"Rubik's® Cube\": 1.99, 'EPOCH.2': 0.99, 'My PlayHome': 3.99, \"Assassin's Creed Identity\": 4.99, 'Space Marshals': 3.99, 'Baby Connect (Activity Log)': 4.99, 'Star Command': 2.99, 'TETRIS® for iPad': 2.99, 'RadarScope': 9.99, 'Runtastic Push Ups PRO: Workouts, Trainer, Counter': 1.99, 'Drift Mania Championship': 0.99, 'djay 2 for iPhone': 1.99, 'Peekaboo Barn': 1.99, \"Organ Trail: Director's Cut\": 2.99, 'ReindeerCam': 1.99, 'Battleheart Legacy': 4.99, 'Bodyweight Training: You Are Your Own Gym': 4.99, 'Deluxe Moon Pro - Moon Phases Calendar': 2.99, 'Riptide GP2': 1.99, 'Stack the Countries®': 2.99, 'HotSchedules': 2.99, 'Blocky Roads': 0.99, 'NOAA Weather Radio': 3.99, 'Cleartune - Chromatic Tuner': 3.99, 'FileBrowser - Access files on remote computers': 5.99, 'Cut the Rope: Magic': 0.99, 'Knots 3D': 1.99, 'Slingshot Racing': 0.99, 'Toca Life: Town': 2.99, 'Touchgrind BMX': 4.99, 'ScanBizCards Business Card Reader': 0.99, 'Minigore 2: Zombies': 1.99, 'VLC Streamer': 2.99, 'Battle Supremacy': 4.99, 'Toca Band': 2.99, 'MEGA MAN X': 4.99, 'Neo Monsters': 0.99, 'Mutant Fridge Mayhem - Gumball': 2.99, 'Earn to Die 2': 1.99, 'Infectonator': 0.99, 'Crash Bandicoot Nitro Kart 2': 2.99, 'Toca House': 2.99, 'HomeBudget with Sync': 4.99, '8mm Vintage Camera': 1.99, 'Goat Simulator GoatZ': 4.99, 'Star Wars™ Pinball 5': 1.99, 'Reigns': 2.99, 'FINAL FANTASY VI': 14.99, 'Sprinkle Islands': 1.99, 'Rhonna Designs': 1.99, 'Superimpose': 1.99, 'iSafe Pro': 0.99, 'TapeACall Pro - Call Recorder For Phone Calls': 9.99, 'Low Carb Diet Tracker PRO by Carb Manager': 2.99, 'OPlayer HD - video player, classic media streaming': 4.99, 'iQuran': 1.99, 'CamCard - Business card scanner & reader': 0.99, 'Warhammer 40,000: Deathwatch - Tyranid Invasion': 1.99, 'Brain Wave ™ - 32 Advanced Binaural Brainwave Entrainment Programs with iTunes Music and Relaxing Ambience': 4.99, 'INKS.': 1.99, 'XCOM®: Enemy Within': 9.99, \"Where's My Mickey?\": 1.99, 'Merriam-Webster Dictionary & Thesaurus': 4.99, 'Network Analyzer - wifi scanner, speed test, tools': 3.99, 'Love You To Bits': 3.99, 'Colossatron: Massive World Threat': 0.99, 'Touchgrind Skate 2': 4.99, 'Text 2 Group Pro - Quickly send SMS messages': 2.99, 'Hurricane Tracker For iPad': 2.99, 'METAL SLUG 3': 2.99, 'LiveATC Air Radio': 3.99, 'Stray Dog Simulator': 0.99, 'SimplePlanes': 4.99, 'The World Ends with You: Solo Remix': 17.99, 'FINAL FANTASY II': 7.99, 'Essential Anatomy 5': 19.99, 'Ultimate Wolf Simulator': 0.99, 'The Christmas List': 1.99, 'Multiplayer Servers for Minecraft PE & PC w Mods': 1.99, 'Lili™': 0.99, \"Coach's Eye - Video Analysis\": 4.99, 'Farming Simulator 16': 4.99, 'Infect Them All 2 : Zombies': 0.99, 'Ultimate Food Value Diary - Diet & Weight Tracker': 3.99, 'My Virtual Girlfriend - Deluxe Dating Sim': 0.99, 'Video Merger Pro Combine Multiple Videos to Video': 0.99, 'AirCoaster - Roller Coaster Builder': 0.99, 'Scanner App by Photomyne: Scan & Auto-Crop Photos': 1.99, 'First Words Animals': 1.99, 'The Trace: Murder Mystery Game - Analyze evidence and solve the criminal case': 3.99, 'Red Onion - Tor-powered web browser for anonymous browsing and darknet': 1.99, \"Tozzle - Toddler's favorite puzzle\": 2.99, 'Give It Up!': 0.99, 'Nom Nom Paleo': 5.99, 'Due — Reminders, Countdown Timers': 4.99, 'Dude Perfect HD': 1.99, \"Kitty Powers' Matchmaker\": 2.99, 'TeachMe: Kindergarten': 1.99, 'Mad Skills BMX': 0.99, \"Papa's Freezeria HD\": 2.99, 'This War of Mine': 14.99, 'Storm Shield': 2.99, 'Flick Champions Winter Sports': 0.99, 'Secret Calculator Pro - Hide photos & videos': 1.99, 'Teeny Titans - Teen Titans Go! Figure Battles': 3.99, 'Bloons TD 4 HD': 2.99, 'Meditation Studio – Guided Meditations and Courses': 3.99, 'Fisheye Lens - Retro Style Fisheye Camera': 1.99, 'Construction Simulator 2014': 0.99, 'Color Splash for iPad': 1.99, 'iCab Mobile (Web Browser)': 1.99, 'Conservative Talk Radio': 2.99, '1 Second Everyday: Video Diary': 4.99, 'Gaia GPS Classic': 19.99, 'Mods for Pc & Addons for Minecraft Pocket Edition': 1.99, 'Simply Being - Guided Meditation for Relaxation and Presence': 1.99, 'NBA 2K17': 7.99, 'Motorsport Manager': 1.99, 'Pocketbooth - the photo booth in your pocket': 0.99, 'Glow Puzzle': 1.99, 'Icycle: On Thin Ice': 2.99, 'My Macros+ Diet, Weight and Calorie Tracker': 2.99, 'ProTracker Plus Weight, Calorie & Exercise Tracker': 2.99, 'rop': 0.99, 'Slow Shutter Cam': 1.99, 'iSwap Faces': 1.99, 'iCalendar': 2.99, 'Marvel Pinball': 0.99, 'The Game of Life': 2.99, 'NOAA Weather Alerts - Severe Weather Push Notifications & Warnings': 3.99, 'Tom Loves Angela for iPad': 2.99, 'Streaks': 3.99, 'Goat Simulator MMO Simulator': 4.99, 'Domino Drop': 1.99, 'PodCruncher podcast app - Player and manager for podcasts': 2.99, 'Trial Xtreme 2': 2.99, 'Files HD Pro - File Manager & Web Browser': 4.99, 'Trenches II': 0.99, 'Badoo Premium - Meet new people. Extra features.': 2.99, 'Trainz Driver - train driving game and realistic railroad simulator': 2.99, 'Tweetbot 4 for Twitter': 9.99, 'Max Payne Mobile': 2.99, 'MONSTER HUNTER FREEDOM UNITE for iOS': 14.99, 'Emoji Keyboard for Me - Keyboard Themes & Emojis': 2.99, 'File Manager Pro App': 4.99, 'e-Sword LT: Bible Study on the Go': 1.99, 'Fieldrunners for iPad': 3.99, 'Little Inferno HD': 4.99, 'Flick Home Run ! HD': 0.99, 'Le Havre (The Harbor)': 4.99, 'Weaphones WW2: Firearms Simulator': 2.99, 'Pursuit of Light': 0.99, 'Bloons Super Monkey': 0.99, 'Hurricane Pro': 2.99, 'Waking Mars': 4.99, 'Block Earth': 4.99, 'Lapse It Pro • Time Lapse & Stop Motion Camera • Professional HD': 2.99, 'My Om Nom': 4.99, 'The Incident': 0.99, 'MuvaMoji by Amber Rose': 1.99, 'Wayward Souls': 6.99, 'LEGO® The Lord of the Rings™': 4.99, 'Sporcle': 2.99, 'Skater - Skate Legendary Spots, Perfect Board Feel': 4.99, 'DEVICE 6': 3.99, 'Earn to Die HD': 2.99, 'Heroes and Castles 2': 1.99, 'VLC Remote': 4.99, 'LEDit – The LED Banner App': 1.99, 'Find my Fitbit - Finder app for lost fitbits': 5.99, 'Shoot The Zombirds': 0.99, 'Face Swap Live': 1.99, 'iWatermark - Watermark 1 or Batch of Photos. Watermarking with Text, Logo, & Graphics Overlays.': 1.99, 'The Secret of Grisly Manor': 0.99, 'FINAL FANTASY TACTICS: THE WAR OF THE LIONS for iPad': 15.99, 'AVPlayerHD': 2.99, 'Goblin Sword': 1.99, 'Scanner For Me - PDF Scan with OCR for Documents': 4.99, 'GeoBee Challenge HD by National Geographic': 1.99, 'Year Walk': 3.99, 'Colorburn - 1000 filters camera for photo & video': 0.99, 'Gin Rummy Pro': 1.99, 'The Human Body by Tinybop': 3.99, 'Elmo Calls': 1.99, 'Pocket Casts': 3.99, 'Out There: Ω Edition': 3.99, 'Stray Cat Simulator': 0.99, 'Block Fortress: War': 1.99, 'Elmo Loves ABCs for iPad': 4.99, \"My Baby's Beat - Prenatal Listener\": 4.99, 'A Noble Circle': 0.99, 'Calculator HD': 1.99, 'Weblock - AdBlock for apps and websites': 1.99, 'WaterMinder®': 2.99, 'Baby Pics - pregnancy & baby milestone photos': 2.99, 'Forest: Stay focused, be present': 1.99, 'Toca Kitchen 2': 2.99, 'Cloud Baby Monitor ~ Video, Audio, Unlimited Range': 3.99, 'iFiles': 0.99, 'The 7 Second Challenge': 1.99, 'Waterlogue': 3.99, 'Drawing Pad': 1.99, 'PetWorld 3D: My Animal Rescue Premium': 5.99, 'WWE 2K': 7.99, 'Wireless Transfer App:Sync backup photo and video': 2.99, 'Graphic - illustration and design': 8.99, 'FINAL FANTASY V': 14.99, 'ULTIMATE Lucky Block Mod for Minecraft PC Edition Plus MC Pocket Guide': 1.99, 'The Moron Test 2': 0.99, 'RollerCoaster Tycoon® Classic': 5.99, 'LEGO® Marvel Super Heroes: Universe in Peril': 4.99, 'MarineTraffic - Ship Tracking': 4.99, \"Reiner Knizia's Tigris & Euphrates\": 4.99, 'Topia World Builder': 1.99, 'D&D Lords of Waterdeep': 6.99, 'Redline Rush': 0.99, 'Tayasui Sketches Pro': 4.99, 'Visage Lab PRO HD: perfect makeup plus face editor': 4.99, 'AudioNote - Notepad and Voice Recorder': 9.99, 'Paprika Recipe Manager': 4.99, 'Video Saver & Uploader-Save & Upload your Photo&Movie': 0.99, 'Octodad: Dadliest Catch': 4.99, 'The Survivor: Rusty Forest': 0.99, 'Toca Life: School': 2.99, '80 Days': 4.99, 'Toca Life: Vacation': 2.99, 'Stylebook': 3.99, 'Planes Live - Flight Status Tracker and Radar': 6.99, 'Crashlands': 4.99, 'Facetune for iPad': 5.99, 'Vocabulary.com': 2.99, 'Goat Simulator Waste of Space': 4.99, 'Move to measure - Flying Ruler': 1.99, 'My Measures PRO': 7.99, 'Table Tennis Touch': 2.99, 'Haunt the House: Terrortown': 1.99, 'Royal Trouble: Hidden Adventures HD (Full)': 6.99, 'Thunderspace 5k ~ Focus, Sleep, Relax, Meditate in a thunderstorm with rain and nature sounds': 2.99, 'Toca Lab: Elements': 2.99, 'Jesus Calling Devotional by Sarah Young': 9.99, 'Fitness Point Pro': 4.99, 'Downwell': 2.99, 'Tentacles: Enter the Dolphin': 2.99, 'Lifeline: Silent Night': 1.99, 'GO Gear - Live Maps for Pokémon GO': 3.99, 'Implosion - Never Lose Hope': 9.99, 'Broken Age ™': 4.99, 'Alarm Clock for Me - Sleep Timer & Event Countdown': 3.99, 'Bridge Constructor Playground': 1.99, 'rymdkapsel': 3.99, \"Sid Meier's Pirates!\": 2.99, 'Sago Mini Forest Flyer': 2.99, 'Bowmasters (Ad Free) - Top Multiplayer Bowman Game': 3.99, 'Toca Store': 2.99, \"Papa's Burgeria\": 2.99, '2XL Supercross HD': 4.99, '12 Steps AA Companion - Alcoholics Anonymous': 2.99, 'My PlayHome Stores': 2.99, 'Severed': 2.99, 'OnSong': 24.99, 'Puzzle Quest 2': 2.99, 'Airmail - Your Mail With You': 4.99, 'WeatherPro': 1.99, 'Space Agency': 1.99, 'Mods for Minecraft PC & Addons for Minecraft PE': 1.99, 'The Calculator': 2.99, 'Mimpi Dreams': 0.99, 'Math Fact Master: Addition, Subtraction, Multiplication, and Division': 0.99, 'Kiwake Alarm Clock - Take back your mornings': 2.99, 'ProCamera.': 4.99, 'Pacific Rim': 0.99, 'Runtastic Mountain Bike Ride & Route Tracker PRO': 4.99, 'R.B.I. Baseball 15': 4.99, 'Small World 2': 1.99, 'Blendamaze': 2.99, 'FINAL FANTASY Ⅸ': 20.99, 'Caveman Feast - 250 Paleo Recipes': 2.99, 'Five Minute Journal': 4.99, 'Draw Rider Plus': 1.99, 'Intro Designer for iMovie and Youtube': 2.99, 'Jurassic Park: The Game 1 HD': 2.99, 'Cute CUT Pro - Full Featured Video Editor': 5.99, 'FiLMiC Pro': 14.99, 'Weaphones: Firearms Simulator Volume 1': 2.99, 'AdBlock': 1.99, 'RoomScan Pro - The app that draws floor plans by itself': 4.99, \"Devil's Attorney\": 2.99, 'Card Crawl': 2.99, 'Grand Theft Auto: Liberty City Stories': 6.99, 'DOOM II RPG': 0.99, \"Baldur's Gate: Enhanced Edition\": 9.99, 'Pumped BMX 2': 2.99, 'Astropad Standard': 29.99, 'Plane Finder - Flight Tracker': 3.99, 'SimpleRockets': 2.99, 'Polar Plunge ™': 0.99, 'FINAL FANTASY VII': 15.99, 'Sunday Lawn Seasons': 0.99, 'The 7th Guest': 4.99, 'Tank Hero: Laser Wars': 0.99, 'Flight!': 0.99, 'Draw a Stickman: EPIC 2': 1.99, 'Phone Drive - File Manager, Browser & Explorer': 1.99, 'SuperCam_Pro': 1.99, 'Toca Train': 2.99, 'Pixomatic - layer based photo editor': 4.99, 'I am Bread': 4.99, 'The Lost City': 1.99, 'Agent A: A puzzle in disguise': 2.99, 'iReal Pro - Music Book & Play Along': 12.99, 'Deus Ex GO - Puzzle Challenge': 4.99, 'Bean Dreams': 0.99, 'FINAL FANTASY III': 14.99, 'Scan & Translate - image Scanner and Translator': 2.99, 'Brushstroke': 3.99, 'iRagdoll - Ragdoll Physics': 0.99, 'Union - Combine, Blend, and Edit Photos': 1.99, 'Lifeline 2': 1.99, 'Desert Golfing': 1.99, 'Weather Radio by WDT': 4.99, 'Scribblenauts Unlimited': 4.99, 'Titan Quest': 7.99, 'Little Writer - The Tracing App for Kids': 0.99, 'Voice Dream Reader': 14.99, 'Daily Teachings': 4.99, 'Virtua Tennis Challenge': 4.99, 'Glitché': 0.99, 'Kinectimals': 2.99, 'Camera360 Concept - HelloCamera': 0.99, 'RollerCoaster Tycoon® 3': 4.99, 'Bully: Anniversary Edition': 6.99, 'Venture Kid': 0.99, 'To-Fu Fury': 0.99, 'My Movies Pro - Movie & TV Collection Library': 7.99, 'Human Anatomy Atlas – 3D Anatomical Model of the Human Body': 24.99, 'KORG Gadget': 39.99, 'MindNode – Delightful Mind Mapping': 9.99, 'Motion Math: Hungry Fish': 2.99, 'PDF Converter - Convert Documents, Photos to PDF': 4.99, 'Packing Pro': 2.99, 'Vector HD': 0.99, 'Doc McStuffins:  Time For Your Check Up!': 3.99, 'My PlayHome School': 2.99, 'Banner Saga': 9.99, 'Stock Market HD: Real Time Stocks Tracker + Forex': 2.99, 'Pandemic: The Board Game': 2.99, 'Duck Life': 0.99, 'Page: English Grammar & Spell Checker + Translator': 3.99, 'Transistor': 4.99, 'Fontmania - Add Artworks & Text to Your Photos!': 4.99, 'Tiny Guardians': 3.99, 'Super Arc Light': 1.99, 'Mindfulness Daily': 1.99, 'Toca Cars': 2.99, 'Guild of Dungeoneering': 5.99, 'Guess The Person? HD': 0.99, 'Thomas Was Alone': 4.99, 'TonalEnergy Chromatic Tuner and Metronome': 3.99, 'iMaps+ for Google Maps ™ and Street View ™ : Transit and Offline Contacts': 2.99, 'AG Drive': 3.99, 'Guitar Pro': 6.99, 'Bubble Guppies: Animal School Day HD': 4.99, 'Mathmateer®': 1.99, 'Growing Pug': 0.99, 'Clay Hunt': 0.99, 'Yoga.com: 300 Poses & Video Classes': 3.99, 'Fit Men Cook - Healthy Recipes': 3.99, 'Runtastic Squats PRO – Workouts, Trainer & Counter': 1.99, 'PicTapGo': 1.99, 'Eagle Simulator': 0.99, 'Pumped: BMX': 1.99, 'Barefoot World Atlas': 4.99, 'Halo: Spartan Strike': 2.99, 'Voice Translate Pro': 3.99, 'CHOMP by Christoph Niemann': 1.99, 'Family Feud™ HD': 6.99, 'Real Pool 3D': 1.99, 'WiFi Map Pro - Scan & Get Passwords for free Wi-Fi': 4.99, 'TextGrabber – image to text: OCR & translate photo': 4.99, 'Tom Loves Angela': 0.99, 'Minesweeper Classic': 0.99, 'Calculator ∞': 2.99, 'World of Dragons: Dragon Simulator': 0.99, 'Can Knockdown 3': 1.99, 'CUBE SNAP': 0.99, 'Louvre HD': 1.99, 'ZENFORMS: Protectors': 1.99, 'Geometry Wars 3: Dimensions Evolved': 9.99, 'Math Ninja HD': 1.99, 'StarMap 3D+: Night Sky, Astronomy, Star View Guide': 3.99, 'PCalc - The Best Calculator': 9.99, \"Reiner Knizia's Ra\": 3.99, 'Ultimate Fox Simulator': 0.99, 'Offroad Legends 2': 0.99, 'Agricola': 6.99, 'First Words Deluxe': 4.99, 'World Conqueror 3': 0.99, 'Roadside America': 2.99, 'Monkey Math School Sunshine': 1.99, 'Castle Raid': 0.99, 'Timepage – Calendar by Moleskine': 4.99, 'ProTube for YouTube': 3.99, 'Super Why! Power to Read': 3.99, 'Ultimate Dinosaur Simulator': 0.99, 'Sunny ~ Calm wave & ocean sounds to Sleep Relax Meditate on the beach with rain and sea birds': 1.99, 'twofold inc.': 3.99, 'Bumpy Road': 2.99, 'Dominos Pro': 1.99, 'Octagon - A Minimal Arcade Game with Maximum Challenge': 1.99, 'R.B.I. Baseball 16': 4.99, 'Piloteer': 2.99, 'UFO on Tape': 0.99, 'Warbits': 4.99, 'Dirt Trackin': 2.99, \"Neon Drive - '80s style arcade game\": 3.99, 'ArtRage': 4.99, 'Minecraft: Papercraft Studio': 2.99, 'Thermo-Hygrometer (Barometer, Feels Like, THI)': 1.99, 'Fax from iPhone - send fax app': 3.99, 'ToonCamera': 1.99, 'Sumotori Dreams': 0.99, 'Stock Market Pro: Stock Trading, Charts & Alerts': 5.99, 'aerofly FS - Flight Simulator': 3.99, 'movieStudio-Video Editor&Slideshow Maker(pro)': 2.99, 'AO Creator - Creator for Pokémon': 6.99, 'Live Wallpapers for Me - Animated HD Backgrounds': 1.99, 'Wildlife Simulator: Wolf': 0.99, 'Pixelmator': 4.99, 'Kiwanuka': 0.99, 'Themify - Full HD Themes for iPhone with Live Wallpapers, Backgrounds and Keyboards.': 3.99, 'Pixel Cup Soccer 16': 2.99, 'First Strike 1.3': 3.99, 'FileExplorer Pro - File Manager for Computer, NAS': 4.99, 'Good Morning Alarm Clock - Sleep Cycle Tracker': 3.99, 'Sky Gamblers Air Supremacy': 2.99, 'Toca Robot Lab': 2.99, 'Dungeon Village': 4.99, 'Catholic Bible': 1.99, 'Secret of Mana': 7.99, 'Cooking Academy 2: World Cuisine (Full)': 2.99, 'Farming USA': 1.99, 'AutoSleep. Auto Sleep Tracker for Watch': 2.99, 'Shadow Bug': 3.99, 'Xenowerk': 0.99, 'Cheetah Simulator': 0.99, 'FRAMED': 3.99, 'Papers, Please': 7.99, 'The Ensign': 0.99, 'All-in Fitness: 1200 Exercises, Workouts, Calorie Counter, BMI calculator by Sport.com': 2.99, 'Alarmy Pro (Sleep If U Can) - Alarm Clock': 1.99, 'Wild Horse Simulator': 0.99, 'Botanicula': 4.99, '\"HOOK\"': 0.99, 'Ultimate Horse Simulator': 0.99, 'Santa Call & Tracker - North Pole Command Center': 3.99, 'Batman - The Telltale Series': 4.99, 'Nightgate': 4.99, 'Sniper Shooter Pro by Fun Games For Free': 0.99, 'Dr. Panda Mailman': 3.99, 'Dungelot: Shattered Lands': 3.99, 'Cinamatic': 2.99, 'Daniel Tiger’s Neighborhood: Play at Home with Daniel': 2.99, 'Notion': 14.99, 'NAVIGON Europe': 74.99, 'Forbidden Island': 4.99, 'Halo: Spartan Assault': 2.99, 'Ski Safari 2': 0.99, 'Multiplayer for Minecraft PE Server Pocket Edition': 1.99, 'Noodles!': 1.99, 'Genius Scan+ - PDF Scanner': 7.99, 'Justmoji': 1.99, 'The Greedy Cave': 0.99, 'Frozen: Storybook Deluxe - Now with Frozen Fever!': 4.99, 'Galaxy Trucker': 4.99, 'Fantastical 2 for iPad - Calendar and Reminders': 9.99, 'BADLAND 2': 3.99, 'OfficeSuite Pro (Mobile Office)': 14.99, 'Classic Explain Everything™': 7.99, 'Toca Hair Salon Me': 2.99, 'Draw a Stickman: EPIC HD': 2.99, 'ProShot - RAW, DSLR Controls & Video': 3.99, 'StephMoji by Steph Curry': 1.99, 'Easy Lock Pro - Lock Screen Wallpaper': 2.99, \"Papa's Freezeria To Go!\": 0.99, 'Musicloud Pro - MP3 and FLAC Music Player for Cloud Platforms.': 2.99, 'Dust: An Elysian Tail': 5.99, 'King of Dragon Pass': 9.99, 'Consultant Aide': 7.99, 'Real Fishing 3D': 1.99, 'Drum Beats+ (Rhythm Metronome, Loops & Grooves Machine)': 3.99, 'Phrase Party!': 1.99, 'Able Black': 1.99, 'Truck Simulator PRO 2016': 3.99, 'SamCard Pro-card reader&business card scanner&ocr': 5.99, 'BabyScope - Prenatal Listener': 4.99, 'Hundreds': 2.99, 'Localscope - Find places and people around you': 2.99, 'Oldify - Old Face Photo Booth App': 0.99, 'HappyCow Vegan / Vegetarian Restaurant Guide': 3.99, 'Aerofly FS 2 Flight Simulator': 2.99, 'Blower': 0.99, 'Sync Solver for Fitbit': 2.99, 'Snake Simulator': 0.99, 'PROmoji': 1.99, 'FINAL FANTASY III for iPad': 16.99, 'LUCKY BLOCK MOD FOR MINECRAFT PC - POCKET GUIDE EDITION': 1.99, 'Do Not Press The Red Button HD': 1.99, 'AVPlayer': 2.99, 'Castle of Illusion Starring Mickey Mouse': 4.99, 'Stone Age: The Board Game': 6.99, \"Patrick Kane's MVP Hockey\": 3.99, 'Adventure Time Game Wizard - Draw Your Own Adventure Time Games': 4.99, 'Toca Nature': 2.99, 'Jurassic Life: Tyrannosaurus Rex Dinosaur Simulator': 0.99, 'Perchang': 1.99, 'Snow Leopard Simulator': 0.99, 'Jumping Horses Champions': 0.99, 'Paprika Recipe Manager for iPhone': 4.99, 'Rules!': 2.99, 'Slice Fractions': 3.99, 'AJ Jump: Animal Jam Kangaroos!': 1.99, 'Ski Tracks': 0.99, 'Infect Them All : Vampires': 0.99, 'Scotland Yard': 3.99, 'har•mo•ny 3': 2.99, 'MacID': 3.99, 'Mutant Mudds': 4.99, 'FL Studio Mobile': 13.99, 'Videon - Video Camera and Editor with Zoom, Pause, Effects, Filters': 4.99, 'Trick Shot': 1.99, 'Focus To-Do: The Best Focus Timer for Work & Study': 0.99, 'Nintype': 4.99, 'Big Day - Event Countdown': 0.99, 'Abby Lee Dance Secrets': 4.99, 'Ultimate Dragon Simulator': 0.99, 'Pacific Fleet': 5.99, 'Last Voyage': 1.99, 'Daily Audio Bible App': 0.99, 'Flowing ~ Meditation & Mindfulness': 1.99, 'HeartWatch. Heart & Activity Monitor for Watch': 2.99, 'TouchOSC': 4.99, 'Dolphin Zero Incognito Browser -Mini Web Explorer': 2.99, 'Proloquo2Go - Symbol-based AAC': 249.99, 'VPN Proxy Master Pro': 5.99, 'Plug Pocketmine for Minecraft PE': 2.99, 'gFlashPro - Flashcards & Tests': 3.99, 'Maps Pro For Minecraft PE': 2.99, \"iDoceo - teacher's assistant gradebook and planner\": 11.99, 'Oh She Glows - Healthy Plant-Based Recipes': 1.99, 'Ultimate Lion Simulator': 0.99, 'TeachMe: 1st Grade': 1.99, 'LEGO® Batman: Beyond Gotham': 4.99, 'Forks Over Knives - Healthy Recipes & Easy Meals': 4.99, 'TRANSPORT MODS for MINECRAFT Pc EDITION': 1.99, 'Money Pro - Personal Finance, Budget, Bills': 2.99, 'Mods for Minecraft PC & Servers for Minecraft PE': 1.99, 'AnkiMobile Flashcards': 24.99, 'Pocket Earth PRO Offline Maps & Travel Guides': 4.99, 'Jumpy Horse Show Jumping': 2.99, 'Repost It! for Instagram Pro - Video Photo Whiz': 2.99, 'NOAA Snow Forecast - Accurate Winter Weather, Chance of Snowfall & Snowday Prediction': 1.99, \"Mickey Mouse Clubhouse: Mickey's Wildlife Count Along\": 2.99, 'Stratego® Single Player': 2.99, 'Pennies – Budget and Expense Tracker': 3.99, 'QWOP for iOS': 0.99, 'Block Story Premium': 2.99, 'Wheel of Fortune PUZZLE POP': 0.99, 'Toca Life: Stable': 2.99, 'Icebreaker: A Viking Voyage': 0.99, 'WeatherPro for iPad': 2.99, 'Doom and Destiny': 2.99, 'Death Run : Mini Game With Worldwide Multiplayer': 0.99, 'The Walking Dead: A New Frontier': 4.99, 'Prune': 3.99, 'Mystery Case Files: 13th Skull HD - A Hidden Object Adventure (Full)': 6.99, 'Cape Creator for Minecraft': 1.99, \"Til Morning's Light\": 3.99, 'The Secret To Money': 4.99, 'The Mesh': 1.99, 'Tiny Planet Photos and Video': 0.99, \"Oddworld: Stranger's Wrath\": 2.99, 'Potty Time with Elmo': 2.99, 'realMyst': 6.99, 'Tengami': 3.99, 'Furdemption - A Quest For Wings': 2.99, 'Tomb Raider I': 0.99, 'TeamSpeak 3': 4.99, 'Dr. Panda Home': 2.99, 'Sago Mini Ocean Swimmer': 2.99, 'My PlayHome Hospital': 2.99, 'Lost Echo': 2.99, 'Themeable': 1.99, \"THE KING OF FIGHTERS '97\": 2.99, 'Forgotten Memories: Alternate Realities': 5.99, 'Project Life': 2.99, 'iSleep Easy - Meditations for Restful Sleep': 3.99, \"The Photographer's Ephemeris\": 8.99, 'Sorcery!': 4.99, 'Baby Monitor 3G': 3.99, 'Tayasui Color, a relaxing coloring book for adults': 2.99, 'Dungeons & Such Treasures,Collectibles and Dragons': 2.99, 'Scrivener': 19.99, 'The Complete Adventures of Pan (Books 1-7)': 27.99, 'CatPaint': 0.99, '_PRISM': 2.99, 'Extreme Landings Pro': 29.99, 'Beat Stomper': 1.99, 'CCW – Concealed Carry 50 State Guide': 1.99, 'Toca Life: Farm': 2.99, 'Warmlight - Manual Camera & Photo Editor': 4.99, 'Be Focused Pro - Focus timer & Goal Tracker': 1.99, 'Camera+ for iPad': 4.99, \"It's The Great Pumpkin, Charlie Brown\": 5.99, 'TexMoji': 1.99, 'CHAOS RINGS Ⅲ': 19.99, 'Double Dog - Dare for money if you have the nerve': 4.99, 'Wa Kingyo - Goldfish Pond': 0.99, 'Tikal': 2.99, 'Roofbot: Puzzler On The Roof': 2.99, 'Moodnotes - Thought Journal / Mood Diary': 3.99, 'Ship Finder': 4.99, 'Pocket Academy': 4.99, \"Don't Touch This - Secret Data Vault\": 6.99, 'VHS Camcorder': 2.99, 'Pocket Anatomy - Interactive 3D Human Anatomy and Physiology.': 13.99, 'The Fourth Dimension': 2.99, 'Machines at War 3 RTS': 6.99, 'Cloud Video Player Pro - Play Videos from Cloud': 2.99, 'LEGO® Jurassic World™': 4.99, 'Race The Sun': 4.99, 'Bloons Supermonkey 2': 0.99, 'Rabbids Big Bang': 0.99, 'Hero Emblems': 3.99, 'Perfect Video - Video Editor & Movie Maker (Pro)': 3.99, 'TouchRetouch': 1.99, '\"klocki\"': 0.99, 'NOAA World Radar – Rain, Hurricanes & Weather': 2.99, 'Bio Inc. Platinum - Biomedical Plague': 2.99, 'Autumn Dynasty Warlords': 6.99, 'Instant Fitness : 600+ exercises, 100+ workouts, home, exercise workout trainer, 7 minute workout, on-the-go personal mobile fitness trainer by Fitness Buddy and Instant Heart Rate': 9.99, 'Visual Anatomy': 2.99, \"Papa's Burgeria To Go!\": 0.99, 'Eyes - the horror game': 0.99, 'Lines the Game': 2.99, 'Tenuto': 3.99, 'Loopy HD': 3.99, 'Farming PRO 2015': 1.99, 'Screens - Remote Desktop, VNC, Screen Sharing': 19.99, 'Pull My Tongue': 0.99, 'Word²': 1.99, 'iDarkroom': 0.99, 'Hot Springs Story': 4.99, 'HoPiKo': 1.99, 'Hyperburner': 2.99, 'iA Writer': 3.99, 'PDF Markup Ultimate - Annotate PDFs and Web Pages': 9.99, 'DEATHSMILES': 9.99, 'METAL SLUG 1': 2.99, 'Tsuro - The Game of the Path': 2.99, 'SplitMoji': 0.99, 'Stop Motion Studio Pro': 4.99, 'City Maps for Minecraft PE - Best Maps for Minecraft Pocket Edition (MCPE)': 1.99, 'Dr. Panda Bus Driver': 2.99, 'Cesium Music Player': 1.99, 'Toca Mini': 2.99, 'SmartGo Player': 2.99, 'Clip Video Download Pro.': 6.99, 'IQ Test - Pro Edition': 2.99, 'Multiplayer for Minecraft PE (Minecraft Online)': 0.99, 'DirectVR Remote for DirecTV': 0.99, 'True Red Eye Remover HD-Face Recovery': 0.99, 'Dr. Panda Beauty Salon': 2.99, 'Units Plus Converter - Convert Any Unit & Currency': 3.99, 'Space Marshals 2': 4.99, 'OBD Fusion - OBD2 vehicle scan tool & diagnostics': 9.99, 'PAC-MAN Championship Edition DX': 4.99, 'Transport Tycoon': 6.99, 'Door Kickers': 4.99, 'The Survival Games 2 : Mini Game With Worldwide Multiplayer': 0.99, 'Around The World in 80 Days - Hidden Object Games': 1.99, 'WordFoto': 1.99, 'Smart Baby Touch HD - Amazing sounds in toddler flashcards of animals, vehicles, musical instruments and much more': 2.99, 'Breathing Zone: Guided Breathing for Mindfulness': 3.99, 'Talisman': 1.99, 'Lost Within': 3.99, 'Beat the Boss 3 (17+)': 0.99, 'Sentinels of the Multiverse': 6.99, 'Colin McRae Rally': 2.99, 'Fox Simulator': 1.99, 'Shadow Blade': 1.99, 'buddhify - modern mindfulness for busy lives': 4.99, 'Virtual Villagers 4: The Tree of Life': 0.99, 'Voice Translator with Offline Dictionary Pro': 13.99, 'Ulysses': 24.99, 'Human Resource Machine': 4.99, 'VOX: FLAC Music Player with MP3 & Equalizer': 3.99, \"Don't Starve: Shipwrecked\": 4.99, 'MetaMoJi Note - note taking and PDF annotation app': 7.99, 'djay Pro': 19.99, 'PAW Patrol Rescue Run HD': 6.99, 'Decide Now!': 0.99, 'The LEGO® Movie Video Game': 4.99, 'Falcon Simulator': 0.99, 'Followers + EA - Analytics for Instagram': 0.99, 'XtraMath': 4.99, 'Weaphones: Firearms Simulator Volume 2': 2.99, 'SpongeBob: Sponge on the Run': 3.99, 'Punch Club': 4.99, 'Jurassic GO - Dinosaur Snap Adventures': 3.99, 'Sago Mini Pet Cafe': 2.99, 'Panther Simulator': 0.99, 'Cooking Academy (Full)': 1.99, 'Stay In The Line Pro': 0.99, 'Incredibox': 3.99, 'Letter Quiz - alphabet tracing for kids': 1.99, 'WorldCraft : 3D Build & Craft': 0.99, 'MTN': 0.99, 'ALONE...': 0.99, 'LetterSchool - learn to write letters and numbers': 4.99, 'Brothers: A Tale of Two Sons': 2.99, 'Mr. Robot:1.51exfiltrati0n.ipa': 2.99, 'Power Hover': 3.99, \"Dr. Panda & Toto's Treehouse\": 3.99, 'iMaschine 2': 9.99, 'Castle Raid 2': 2.99, 'Legend of Grimrock': 4.99, 'ThemeKit': 1.99, 'Mickey Mouse Clubhouse - Color & Play': 2.99, 'Youtubers Life - Gaming Channel': 8.99, 'VEHICLES & WEAPONS MODS for Minecraft Pc Guide': 1.99, 'Last Horizon': 2.99, 'Jurassic Life: Velociraptor Dinosaur Simulator': 0.99, 'TMNT: Brothers Unite': 2.99, 'Sleep Pulse 2 Motion - The Sleep Tracker for Watch': 3.99, 'Pumped BMX 3': 3.99, 'Rummikub®': 2.99, 'Eggggg - The Platform Puker': 2.99, \"Dr. Panda's Ice Cream Truck\": 1.99, 'Splendor™': 2.99, 'Hoopa City': 2.99, 'You Must Build A Boat': 2.99, 'Raiden Legacy': 4.99, 'VivaVideo PRO Best Video Editor & Movie Maker HD': 2.99, 'Baby Rattle with Child Lock': 1.99, 'Neon Chrome': 9.99, 'Detective Grimoire': 1.99, 'The Font Game': 1.99, 'Pan Book 1: The Fearless Beribolt': 5.99, 'College Lacrosse 2014': 3.99, 'Toca Boo': 2.99, 'Solitairica': 3.99, 'Tasty Planet': 2.99, 'Train Driver Journey 4 - Introduction to Steam': 0.99, 'Micromedex Drug Reference Essentials': 2.99, 'Sometimes You Die': 1.99, 'Double Dragon Trilogy': 2.99, 'MailShot Pro- Group Email Done Right!': 3.99, 'Pimp Your Sound': 1.99, 'The Inner World': 2.99, 'Unblue': 2.99, 'Evoland': 4.99, 'VERSUS: The Lost Ones': 3.99, 'Blokus™ – Attack, Block & Defend!': 1.99, 'METAL SLUG 2': 2.99, 'Samorost 3': 4.99, 'DRAGON QUEST': 2.99, 'Remove Caption for Snapchat* Screenshots': 3.99, 'Little Inferno': 2.99, 'Griffin Simulator': 0.99, 'Burrito Bison': 0.99, 'Book Creator for iPad': 4.99, 'DINOSAUR MOD FOR MINECRAFT PC EDITION - MODS POCKET GUIDE': 1.99, 'Draw a Stickman: EPIC': 1.99, 'Riptide GP: Renegade': 2.99, 'Space Age: A Cosmic Adventure': 1.99, 'CollageKing pro - 2 in one (Two applications in one) create Photo and Video collage frame for instagram, vine': 1.99, 'SFind Premium Search for Spotify, YouTube & iTunes': 2.99, 'ProPresenter Remote': 4.99, 'Skullduggery!': 2.99, 'Blackbar': 2.99, 'Sago Mini Monsters': 2.99, 'Costume Quest': 2.99, 'Never Alone: Ki Edition': 4.99, \"Papa's Wingeria HD\": 2.99, 'ConjuVerb - Spanish Verb Conjugation Helper': 0.99, 'Muscle Premium - Human Anatomy, Kinesiology, Bones': 19.99, 'Snowball Fight : Mini Game With Worldwide Multiplayer': 0.99, 'MuseScore Songbook - Sheet Music': 1.99, 'Dr. Panda Daycare': 2.99, \"THE KING OF FIGHTERS '98\": 2.99, 'LEGO® Friends': 4.99, 'Blackthorn Castle': 2.99, 'Orca Simulator': 0.99, 'Fingle': 1.99, 'The Guides': 2.99, 'The Wonder Weeks': 1.99, 'Toca Blocks': 2.99, 'Pan Book 2: Chasing the Keeper': 5.99, 'League of Stickmen VIP Edition': 1.99, 'Safari Simulator: Lion': 1.99, 'Dolphin Simulator': 0.99, 'IntroMate - Intro Maker for iMovie': 2.99, 'Handwriting Without Tears: Wet-Dry-Try for Capitals, Numbers & Lowercase': 4.99, 'iOvilus': 1.99, 'Sword Of Xolan': 0.99, 'Worms™ 4': 4.99, 'Evil Minds: Dirty Charades!': 0.99, 'ALON Dictaphone - Voice Recorder': 4.99, \"Please, Don't Touch Anything\": 4.99, 'Lucky Cactus': 9.99, 'iZip Pro - Zip Unzip Unrar Tool': 5.99, 'iFaces - Custom Themes and Faces for Apple Watch': 1.99, 'MaxCurve - Photo editor for pro photography': 3.99, 'Battlevoid: Harbinger': 0.99, \"Baldur's Gate II:EE\": 9.99, 'ROME: Total War': 9.99, 'Dr. Panda Hospital': 2.99, 'Dr. Panda’s Swimming Pool': 1.99, \"Dr. Panda's Restaurant\": 1.99, 'Wildlife Simulator: Shark': 1.99, 'Filterra – Photo Editor': 3.99, 'Toca Pet Doctor': 2.99, 'Athletics: Summer Sports (Full Version)': 0.99, 'Fitness and Bodybuilding by VGFIT': 0.99, '12 Minute Athlete HIIT Workouts': 2.99, '80s Arcade Nes Games : Best Retro Collection': 1.99, 'Swapperoo': 1.99, 'Ambition: Strategy War Game': 3.99, 'iMacro - Diet, Weight and Food Score Tracker': 4.99, 'Tone Sphere': 1.99, \"Papa's Cupcakeria HD\": 2.99, 'Abby Monkey® Basic Skills: Preschool and Kindergarten Kids Educational Early Learning Adventure Games.▫ TeachMe Counting, Colors, Alphabet, Math, Numbers, Shapes Sorting, Patterns, Puzzles, Learn to Read Letters for Toddler Children': 2.99, 'Pocket League Story': 4.99, \"Monty Python's The Ministry of Silly Walks\": 1.99, 'Star Knight': 0.99, 'iAnnotate 4 - read, markup and share PDFs and more': 9.99, 'Hurricane HD': 3.99, 'FOTONICA': 2.99, \"Dr. Panda's Airport\": 2.99, 'Deck Pass Plus': 1.99, 'Writing Wizard - Kids Learn to Write Letters, Alphabet & Words': 3.99, 'Home - A Unique Horror Adventure': 2.99, 'Shift Worker': 1.99, 'Mutant Creatures Mod for Minecraft PC Edition - Pocket Mods Guide': 1.99, '60 Seconds! Atomic Adventure': 3.99, 'Patchwork The Game': 2.99, 'Cycloramic for iPhone SE/5/5S': 1.99, 'Cortex Camera': 2.99, 'Her Story': 2.99, 'Pro HDR X': 1.99, 'Ultimate Savanna Simulator': 0.99, 'Dude, your car!': 0.99, 'Sago Mini Road Trip': 2.99, 'F1 2016': 4.99, 'Boating USA': 9.99, 'Dr. Panda Supermarket': 2.99, 'Jurassic Park: The Game 2 HD': 2.99, 'Wind Meter': 0.99, 'Archangel Michael Guidance - Doreen Virtue': 3.99, 'KORG iM1': 29.99, 'Procreate Pocket': 2.99, 'Popplet': 4.99, 'LOOPIMAL by YATATOY': 3.99, 'Devious Dungeon 2': 2.99, 'Just Press Record': 4.99, 'Wildlife Simulator: Crocodile': 1.99, 'Athletics 2: Summer Sports': 1.99, 'Rainy Mood - Rain Sounds for Sleep & Study': 2.99, 'Fighter Verses - memorize bible verses': 2.99, 'Tomb Raider II': 0.99, 'Authentic Weather': 1.99, 'CloudPets Gold': 4.99, 'Hyena Simulator': 0.99, 'AnyFont': 1.99, 'Sabertooth Tiger Simulator': 0.99, 'Second Grade Learning Games': 2.99, 'Unfilth Your Habitat': 0.99, 'Stick Texting Emoji Emoticons Killer': 1.99, 'CamCard HD -business card scanner & reader': 7.99, 'Moorhuhn Deluxe - Crazy Chicken': 0.99, 'DRAGON MODS MINE EDITION FOR MINECRAFT GAME PC': 0.99, 'Alice Trapped in Wonderland': 0.99, 'Solar Walk ™ 2 - Space Missions & Solar System': 2.99, 'Video Calls with Santa': 2.99, 'Toca Hair Salon 3': 2.99, 'Magellan': 2.99, 'Disney Karaoke: Frozen': 6.99, 'Ringtones for iPhone Unlimited.': 2.99, 'Creatures Mod for Minecraft PC Game Edition - Mods Pocket Guide': 1.99, 'Premium Music Search': 4.99, 'Green Kitchen – healthy vegetarian recipes': 3.99, 'GraphNCalc83': 6.99, 'Virtual Villagers 5: New Believers': 0.99, 'Sputnik Eyes': 1.99, 'ComicGlass [ComicReader]': 2.99, 'Animation & Drawing by Do Ink': 4.99, 'Battle Supremacy: Evolution': 4.99, 'Ski Jumping Pro': 0.99, 'Sorcery! 2': 4.99, 'voi': 0.99, 'Photo and Video Transfer over wifi app': 2.99, 'Clone Magic': 1.99, 'Patterning : Drum Machine': 9.99, 'RUNNING for weight loss PRO: workout & meal plans': 1.99, 'The Walking Dead: Michonne - A Telltale Miniseries': 4.99, '7 Minute Workout Pro': 0.99, '\"Burn your fat with me!!\"': 1.99, 'KEVMOJI by Kevin Hart': 1.99, 'SMART Notebook for iPad': 5.99, 'Beat da Beat': 0.99, 'Sneaky Sneaky': 2.99, 'Harvest - Select the Best Produce': 1.99, 'Reckless Racing 3': 2.99, 'Burger Shop': 0.99, 'Model 15': 29.99, 'Frax HD - The First Realtime Immersive Fractals': 1.99, 'Cubasis 2 - Mobile Music Creation System': 49.99, 'Feed Me Oil 2': 0.99, 'PARKOUR MAPS FOR MINECRAFT PC EDITION - DOWNLOAD BEST POCKET MAPS FOR MINECRAFT': 1.99, 'Tiny Rogue': 2.99, 'DiveChamp': 0.99, 'Morning — Weather, To-Do, News, and more': 0.99, 'Articulation Station Pro': 59.99, 'Polar Bear Simulator': 0.99, 'FURNITURE MOD FOR MINECRAFT EDITION PC GAME - POCKET GUIDE': 1.99, 'Survivalcraft 2': 3.99, 'Fantasy Football Manager - FFM for FPL': 0.99, 'Road Not Taken': 4.99, 'Mancala Pro': 1.99, 'Blyss': 0.99, 'CRAZY CRAFT MOD EDITION FOR MINECRAFT PC GAME MODE': 0.99, 'iThoughts (mindmap)': 11.99, 'Quit Pro': 0.99, 'Rule with an Iron Fish: A Pirate Fishing RPG': 2.99, 'Live Cams - HD': 4.99, 'LVL': 1.99, 'Export Messages - Save Print Backup Recover Text SMS iMessages': 4.99, 'MLB Manager 2016': 4.99, 'Positivity with Andrew Johnson': 2.99, 'Leap of Fate': 3.99, 'Maps 3D PRO - GPS for Bike, Hike, Ski & Outdoor': 4.99, 'A Brief History of the World': 3.99, 'Hidden World': 1.99, 'Baseball Highlights 2045': 3.99, 'Vampify - Turn yourself into a Vampire': 0.99, 'Shopkins: Shoppie Dash!': 3.99, 'SteamWorld Heist': 9.99, 'Hard Time VIP (Prison Sim)': 4.99, 'ZOOKEEPER\\u3000DX': 0.99, 'Cafeteria Nipponica': 4.99, 'The World Factbook for iPad': 1.99, 'My Little Pony - A Canterlot Wedding': 2.99, 'Carmen Sandiego Returns-A Global Spy Game for Kids': 3.99, 'Castles of Mad King Ludwig': 6.99, 'Lucky Block Mod Survival Game PE - Pocket Edition': 0.99, 'Atlantic Fleet': 9.99, 'Linia': 1.99, 'A Good Snowman Is Hard To Build': 4.99, 'Krome Studio Service Plus': 1.99, 'Farming USA 2': 2.99, '3D GUNS MOD FOR MINECRAFT PC EDITION - GUN MODS POCKET GUIDE': 1.99, 'Dungeon Warfare': 3.99, 'myFitnessSync for Fitbit - Fitbit to Apple Health': 4.99, 'Tasty Planet: Back for Seconds': 2.99, 'Cachly - Simple and powerful Geocaching for iPhone': 4.99, 'Owl Simulator': 0.99, 'Rivals for Catan': 0.99, 'LUMINES PUZZLE & MUSIC': 2.99, 'Bridge Constructor Medieval': 1.99, 'Infinite Tanks': 4.99, 'Alter Ego': 4.99, 'The Lost Ship': 0.99, 'SkyDroid - Golf GPS': 1.99, 'The Fast Metabolism Diet– customized meal planning': 2.99, 'AZZL': 2.99, 'Ember': 9.99, 'Galaxy Trucker Pocket': 4.99, 'The Martian: Official Game': 0.99, \"Christmas Stories: Nutcracker Collector's Edition HD (Full)\": 6.99, '7 Minute Workout Challenge HD for iPad': 2.99, 'Sweet Shop': 0.99, 'Green Screen by Do Ink': 2.99, 'Star Chart Infinite': 4.99, 'Ultimate Shark Simulator': 0.99, 'Caterzillar': 2.99, 'Jurassic Park: The Game 4 HD': 2.99, 'League of Light: Silent Mountain - A Hidden Object Mystery (Full)': 6.99, 'YeahKeys - Customize your keyboard': 2.99, 'Day of the Tentacle Remastered': 4.99, 'King Tongue': 1.99, '[the Sequence]': 0.99, 'Ultimate Bird Simulator': 0.99, 'New Emoji - Extra Emoji Stickers': 1.99, 'SnowCast - See how much snowfall you could get': 2.99, 'The Lost Heir: The Fall of Daria': 2.99, 'Buddy & Me': 1.99, 'Blaze and the Monster Machines - Racing Game HD': 6.99, 'Block Party : Mini Game With Worldwide Multiplayer': 0.99, 'Handy Art Reference Tool': 1.99, 'Instaflash Pro': 4.99, 'Planimeter - Measure Land Area and Distance on a Map': 7.99, 'Dr. Seuss Camera - The Cat in the Hat Edition': 0.99, 'Hydra - Amazing Photography': 4.99, 'ownCloud': 0.99, 'Haunted Manor 2 - The Horror behind the Mystery - FULL (Christmas Edition)': 2.99, 'Dreampath - The Two Kingdoms HD - A Magical Hidden Object Game (Full)': 6.99, 'VinoCell: manage your wine cellar like a pro': 8.99, 'Crypt of the NecroDancer Pocket Edition': 4.99, 'Galactic Nemesis': 0.99, 'The EO Bar': 6.99, 'miCal - the missing calendar with reminders': 1.99, 'Frax - The First Realtime Immersive Fractals': 0.99, 'Dirt Racing Mobile 3D': 3.99, 'BeetMoji': 1.99, 'FabFocus - portraits with depth and bokeh': 3.99, 'News Pro - Breitbart Edition': 0.99, 'Take Off - The Flight Simulator': 0.99, 'HARVEST MOON: Seeds Of Memories': 9.99, \"Questerium: Sinister Trinity, Collector's Edition HD (Full)\": 6.99, 'STREET FIGHTER II COLLECTION': 3.99, 'Oh...Sir! The Insult Simulator': 1.99, 'DreamZ - Lucid Dreaming. Control your dreams!': 3.99, 'EvoCreo - A Monster Capture RPG': 0.99, 'Super Why! ABC Adventures': 3.99, 'SEC Football Schedules, Scores & Radio': 1.99, 'Rhonna Collage': 1.99, 'Flirty Emoji Pro with Stickers Pack for Texting': 1.99, 'Rebuild 3: Gangs of Deadsville': 4.99, 'Guitar Suite - Metronome, Tuner, and Chords Library for Guitar, Bass, Ukulele': 2.99, 'Plug & Play': 2.99, 'Math Evolve: A Fun Math Game For Kids': 1.99, 'Alarm Clock Sleep Sounds Pro: Guided Meditation for Relaxation Cycle, Hypnosis and insomnia': 6.99, 'Grim Fandango Remastered': 4.99, 'Rusty Lake Hotel': 1.99, 'Written Legends: Nightmare at Sea HD (Full)': 4.99, 'Animately - Live Wallpapers': 1.99, 'Train Drive ATS': 3.99, 'SKRWT': 1.99, 'Slow Shutter!': 1.99, 'AirAttack 2': 0.99, 'Air Display 3': 9.99, 'THE KING OF FIGHTERS-i 2012': 2.99, 'Build Your Palace': 0.99, 'The Impossible Quiz! for iPad': 1.99, 'BlackOut: Bring the color back in the sky': 2.99, 'Heroki': 4.99, 'My Uncrowded': 0.99, 'MacMoji ™  by Conor McGregor': 1.99, 'Presidential Election & Electoral College Maps': 2.99, 'Color Keyboard Maker - Custom Themes & Emoji': 1.99, 'Little Builders - Trucks, Cranes & Digger for Kids': 1.99, 'LiveTunes - Live Concert Music Player': 0.99, 'ChyMoji by Blac Chyna': 1.99, 'enzo!': 1.99, 'PolyFrame - All In One Collage Maker': 1.99, 'myCardLists Christmas Card Address Label Printing': 1.99, 'Dr. Panda Handyman': 2.99, 'SUBURBIA City Building Board Game': 4.99, 'Fonta': 0.99, 'Smart Watch Notice': 4.99, 'Addon Creator Studio for Minecraft PE': 1.99, 'Craft The World - Pocket Edition': 4.99, 'Cronometer': 2.99, 'Bluebeam Revu': 9.99, 'Electric RC Sim': 2.99, 'Partia': 3.99, 'Pulling USA': 1.99, 'Super Slowmo Shooter': 0.99, 'Holiday Greetings - 3D Animations, Emoji, Emoticons, Sounds & Videos for Special Occasions': 0.99, 'Spy Calc - Hide pictures, videos, documents': 1.99, 'Green Eggs and Ham - Read & Learn - Dr. Seuss': 3.99, 'Lifeline: Flatline': 1.99, 'VPN Pro | Lifetime Proxy & Best VPN by Betternet': 49.99, 'Never Hillary Clinton': 0.99, 'Jade Empire™: Special Edition': 9.99, 'Bokeh Lens': 0.99, 'Wolf Craft': 0.99, 'BUBBLE BOBBLE DOUBLE': 4.99, \"SpongeBob's Game Frenzy\": 2.99, 'ULTRA4 Offroad Racing': 1.99, 'Scanner911 HD Police Radio Pro': 3.99, 'iLearn: US States': 1.99, 'Math Duel - Two Player Split Screen Mathematical Game for Kids and Adults Training - Addition, Subtraction, Multiplication and Division!': 2.99, 'Relight - Better Photos': 4.99, 'Collageable PRO - Photo Collage': 1.99, 'Lily - Playful Music Creation': 1.99, 'KORG Module': 39.99, 'CARS MOD FOR MINECRAFT PC EDITION - POCKET MINE GUIDE': 1.99, \"Oddworld: Munch's Oddysee\": 2.99, 'Star Horizon': 3.99, 'Phonics Island • Early Reading, Spelling & Tracing Montessori Preschool and Kindergarten Kids Learning Adventure Games by Abby Monkey® Alphabet and Letter Sounds Reader': 2.99, \"Broken Sword 5 - the Serpent's Curse\": 6.99, 'Relook': 3.99, 'MUSYNX': 0.99, 'Threema': 2.99, 'Refills Calendar - Scheduler - Note': 9.99, 'Literacy Leveler': 4.99, 'TV App': 0.99, 'SAMURAI SHODOWN II': 2.99, 'Master For Minecraft Pocket Edition - Ultimate Guide For PE': 1.99, 'Zenge': 0.99, 'Lifeline: Halfway to Infinity': 2.99, 'Summer Games 3D': 0.99, 'Wild Kratts World Adventure': 3.99, 'iStatVball 2 iPad Edition': 19.99, 'Feed the Head': 1.99, 'Aralon: Forge and Flame': 4.99, 'Monkey Word School Adventure': 1.99, 'Snowboard Party 2': 1.99, 'Skateboard Party 2': 1.99, 'Remove Master: Duplicate Photos & Contacts Cleaner': 3.99, 'Weather Gods': 2.99, 'My Town : Hospital': 2.99, 'Toca Dance': 2.99, 'Clue Solver - for Clue or Cluedo board games': 0.99, 'PE Mods - Custom Keyboard for Minecraft Pocket Edition': 2.99, 'Zodiac: Orcanon Odyssey': 4.99, 'Imbroglio': 3.99, 'Background Player Pro for Cloud Platforms': 2.99, 'Stickman Volleyball': 0.99, 'Away ~ Meditation & mindfulness to sleep, relax, focus, breathe': 2.99, 'Dark Parables: Queen of Sands - A Mystery Hidden Object Game (Full)': 6.99, 'The Hero Project: Redemption Season': 4.99, 'Shopkins Run!': 3.99, 'Sun Surveyor - Sun & Moon Visualization Tool': 9.99, 'Blocko.': 1.99, 'Amaziograph': 0.99, 'Find–the–Line': 2.99, 'LetterGlow - Graphic Design & Photo Editing': 2.99, 'Fix My Car: Garage Wars - Furious Street Mechanic!': 1.99, 'Elephant Simulator': 0.99, '2XL Snocross': 1.99, 'PAUSE - Relaxation at your fingertip': 1.99, 'Pythonista 3': 9.99, 'WWEmoji': 1.99, \"What's My Mutt?\": 0.99, 'Isabelle Dance Studio': 0.99, 'Icewind Dale: Enhanced Edition': 9.99, 'Adventure To Fate : Quest To The Future JRPG': 3.99, 'The Earth by Tinybop': 2.99, 'The Secret of Raven Rock': 0.99, 'Budget- Expense Tracker,Bill Reminder,Debt Manager': 0.99, 'ABC Ninja - The Alphabet Slicing Game for Kids': 0.99, 'Sorcery! 3': 4.99, 'Tiny Memories - Photo Editor for Baby Pics': 4.99, 'SpongeBob Bubble Party': 0.99, 'Time tracker and Invoice - TimeTrack': 2.99, 'Galactic Keep': 3.99, 'Sabres of Infinity': 2.99, 'Team Umizoomi: Math Racer HD': 4.99, 'This by Tinrocket': 1.99, 'Spectrum - Colorize Black and White Photos': 4.99, 'Formula Cartoon All-Stars – Crazy Cart Racing with Your Favorite Cartoon Network Characters': 2.99, 'Cycloramic for iPhone 6/6S (Not the 6+/6S+)': 1.99, 'Banner Saga 2': 9.99, 'Sleepy Hollow: Mystery Legends HD (Full)': 4.99, 'Noizio': 1.99, 'The Build Battle : Mini Game With Worldwide Multiplayer': 0.99, 'Lifeline: Crisis Line': 1.99, 'PhotoPills': 9.99, 'Mini Watch Games 14-in-1': 1.99, 'Baby Beat - Fetal Heartbeat Monitor': 4.99, 'Twilight Struggle': 9.99, 'Cartoon Network Superstar Soccer: Goal!!! – Multiplayer Sports Game Starring Your Favorite Characters': 2.99, 'Construction Simulator PRO 2017': 4.99, 'DuckTales: Remastered': 4.99, 'EasyCost - Expense Tracker and Money organizer': 0.99, 'Change My Location': 0.99, 'Tamagotchi Classic - The Original Tamagotchi Game': 0.99, 'TTPlayer - The Cinema In My Pocket': 2.99, 'Captio - Email yourself with 1 tap': 1.99, 'Awesome Voice Recorder Pro - Mp3 Audio Recording': 4.99, 'GAROU: MARK OF THE WOLVES': 3.99, 'Swap Sword': 2.99, 'The Westport Independent': 4.99, 'Snow Day Calculator': 0.99, 'Pocket Stables': 4.99, 'TeachMe: 3rd Grade': 1.99, 'BookScanner App': 1.99, 'VEHICLES & WEAPONS MODS for Minecraft PC Edition - Pocket Guide': 1.99, 'Litchi for DJI Mavic/Phantom/Inspire': 22.99, 'Monash University Low FODMAP Diet': 7.99, 'Stack the States® 2': 2.99, 'Black - Live Wallpapers': 1.99, 'Odd Bot Out': 3.99, 'Warhammer 40,000: Regicide': 0.99, \"Papa's Cupcakeria To Go!\": 1.99, 'Rusty Lake: Roots': 2.99, 'SPACE by THIX': 2.99, 'Wild Kratts Creature Power': 1.99, 'Procraster - Overcome Procrastination': 1.99, 'The Occupant': 0.99, 'Spider: Rite of the Shrouded Moon': 4.99, 'The Lost Treasure': 2.99, 'Dog Sled Saga': 3.99, 'Live Wallpapers Pro by Themify - Dynamic Animated Themes and Backgrounds': 2.99, 'The Bug Butcher': 3.99, 'edjing Pro DJ Music Mixer: turntable to remix MP3': 8.99, 'Galileo Offline Maps Pro': 3.99, 'Living Legends: Bound by Wishes - A Hidden Object Mystery (Full)': 6.99, 'Lost Frontier': 2.99, 'Pixel Dungeon': 2.99, 'ThemeBoss - Live Wallpapers': 1.99, 'Pewdiebot': 0.99, 'Ref Guide for Essential Oils': 6.99, 'Cut the Rope': 1.99, 'Alphabet Aquarium School Adventure Vol 1: Teachme Letters - Animated Puzzle Games for Preschool and Kindergarten Explorers by 22learn': 1.99, 'WinZip Full Version - The leading zip unzip and cloud file management tool': 4.99, 'Catholic New American Bible Revised Edition': 2.99, 'PDF Pro 2 - The ultimate PDF app': 4.99, 'Dungeons of Chaos UNITY EDITION': 3.99, 'ChatMate for WhatsApp': 2.99, 'JIFFMOJI': 1.99, 'Dreii': 3.99, 'Adventures of Poco Eco - Lost Sounds: Experience Music and Animation Art in an Indie Game': 3.99, 'Shin Megami Tensei (ENG)': 7.99, 'Battlefleet Gothic: Leviathan': 9.99, 'LightX': 1.99, 'Notice for smartwatch': 4.99, 'Dead Venture': 0.99, 'Sushi Go!': 4.99, 'MyFLO Period Tracker by FLO Living LLC': 1.99, 'Factory Balls': 0.99, 'Ugly Meter PRO™': 4.99, 'The Tiny Bang Story': 1.99, 'Athletics: Winter Sports (Full Version)': 0.99, 'PAW Patrol Pups to the Rescue HD': 1.99, 'My Town : Dance School': 2.99, 'The World II Hunting BOSS': 0.99, 'The Everything Machine by Tinybop': 2.99, 'Boating Weather': 1.99, 'sugar, sugar': 0.99, \"Artie's Magic Pencil\": 2.99, 'LEGO® Star Wars™:  Microfighters': 0.99, 'BusyCal - Calendar, Reminders & To Dos': 4.99, 'WSwitch for Belkin WeMo': 1.99, 'Special Air Wing - Flight Simulator': 2.99, 'My Town : School': 2.99, 'Upward Basketball Coach': 0.99, 'Divide By Sheep': 2.99, 'Election 2016 Map': 0.99, 'Hatoful Boyfriend': 4.99, 'PeakFinder Earth': 4.99, 'Prison Life RPG': 3.99, 'Tasty Planet: Back for Seconds HD': 4.99, 'Galileo Organ': 9.99, 'Rush Rally 2': 0.99, 'V for Wikipedia': 4.99, 'Maps for Minecraft PE (Mine Maps for Pocket Edition)': 1.99, 'Mystery Case Files: Key To Ravenhearst - A Mystery Hidden Object Game (Full)': 6.99, 'Adventures of Mana': 13.99, 'Flippy - Star in famous clips!': 0.99, 'Farming PRO 2016': 4.99, 'iUniform ASU - Builds Your Army Service Uniform': 3.99, 'That Dragon, Cancer': 4.99, 'Game Studio Tycoon – Become A Game Developer!': 1.99, 'Activity++': 2.99, 'Bubble Guppies: Animal School Day': 2.99, 'ACDSee Pro': 6.99, 'CloudApp Mobile': 1.99, 'Five Card Quest - Tactical RPG Battles': 2.99, 'Shopkins Magazine - once you shop…you can’t stop!': 0.99, 'NightCap Camera': 1.99, 'PAW Patrol Rescue Run': 3.99, 'Hemingboard: Synonyms, Rhymes, Puns in Your Keyboard': 2.99, 'Translator !!': 9.99, 'Tormentum - a Point & Click Adventure': 4.99, 'Dark Parables: Goldilocks and Fallen Star (Full)': 6.99, 'Mystery of the Ancients: Mud Water Creek (Full)': 6.99, \"Jazza's Arty Games\": 2.99, 'BO3 Ultimate Utility™ for Call of Duty Black Ops 3': 4.99, 'My Town : Stores': 2.99, \"Ellen's Emoji Exploji\": 1.99, 'Tayasui Blocks': 1.99, 'Skyscrapers by Tinybop': 2.99, 'Tomb Journey (Ancient ruins fantasy adventure)': 0.99, 'IronMobile - Ironman Athlete Tracker': 0.99, 'Site Audit Pro': 16.99, 'PlayerXtreme Media Player PRO - Movies & streaming': 4.99, 'Dr. Panda Veggie Garden': 2.99, 'Flipped Out – The Powerpuff Girls Match 3 Puzzle / Fighting Action Game': 2.99, 'SPL-T': 2.99, 'My Town : Hotel': 2.99, 'Best Hunting Times': 2.99, 'Maze: Subject 360 HD - A Mystery Hidden Object Game (Full)': 6.99, 'Automatic Call Recorder™ Pro Calls Made with app': 4.99, 'djay Pro for iPhone': 4.99, 'My Town : Daycare': 2.99, 'Wildlife Simulator: Bear': 1.99, 'Silk 2 – Interactive Generative Art': 2.99, 'Toddler Counting 123': 0.99, 'Not Karlton Banks Emojis by Eboticons': 1.99, 'Cursive Writing Wizard - Kids Learn to Write Letters & Words': 4.99, 'Pastel Keyboard Themes Extension - 100+ Cute Color': 0.99, 'The Legend of Spookley the Square Pumpkin': 2.99, 'BLUK': 1.99, 'The Enchanted Books': 2.99, 'Colorcube': 0.99, 'Metro 2033: Wars': 5.99, 'Ys Chronicles 1': 4.99, 'WorkMeOut - Jaber Al-Rasheed': 2.99, \"BuriedTown - World's First Doomsday Survival Themed Game\": 0.99, 'Pocket Aquarium: Craziest Aquarium': 1.99, 'Who Deleted Me? for Facebook': 0.99, 'DragonBox Elements - Geometry Proofs': 4.99, \"Papa's Pizzeria To Go!\": 0.99, 'Finding Nemo Storybook Deluxe': 2.99, 'iLive Pix - Spice Up Your Screen.': 1.99, 'Doom & Destiny Advanced': 2.99, 'Fake Location': 0.99, 'Return to Grisly Manor': 0.99, 'Campaign Manager - A Presidential Election Simulation Game': 2.99, 'Weaphones Antiques: Firearms Simulator': 1.99, 'Wars of the Roses - Rosenkönig': 0.99, 'Flight Unlimited 2K16 - Flight Simulator': 9.99, 'Hot Trigger': 0.99, 'Dark Romance: The Swan Sonata HD - A Mystery Hidden Object Game (Full)': 6.99, 'Uptown & Co. - Vintage Filters & insignias.': 1.99, 'Subliminal Realms: The Masterpiece HD - A Hidden Object Mystery (Full)': 6.99, 'iBunkoHD': 6.99, 'AirTycoon 4': 2.99, 'Zen Brush 2': 2.99, 'Adrian James 6 Pack Abs Workout': 2.99, 'Snail Bob 2 Deluxe': 2.99, 'Teenage Mutant Ninja Turtles: Portal Power': 3.99, 'TruckSimulation 16': 0.99, 'GameDay Pro Football Radio - Live Games, Scores, Highlights, News, Stats, and Schedules': 1.99, 'Inspiration Maps VPP': 9.99, 'Modern Essentials': 6.99, 'Sight Words Ninja - Slicing Game to Learn to Read': 1.99, 'ibis Paint - speed painting': 4.99, 'One Button Travel': 2.99, 'The Lost Heir 2: Forging a Kingdom': 2.99, 'Tales From Deep Space': 3.99, 'Game Studio Tycoon 2: Next Gen Developer': 3.99, 'Doo - Get Things Done': 3.99, 'Whink - Note taking, Annotate & Record Lectures': 4.99, 'ARP ODYSSEi': 29.99, 'Redemption Cemetery: The Island of the Lost - A Mystery Hidden Object Adventure (Full)': 6.99, 'Dark Tales: Edgar Allan Poe’s The Mystery of Marie Roget HD - A Hidden Object Mystery (Full)': 6.99, 'Incredipede': 3.99, 'Lightbot : Programming Puzzles': 2.99, 'Army Fitness APFT Calculator': 0.99, 'SkySafari 5 Plus': 14.99, 'ShadeMoji by The Shade Room': 0.99, 'Video Compressor': 1.99, \"Daniel Tiger's Grr-ific Feelings\": 2.99, 'Coaster VR, Extreme Endless 3D Stereograph': 0.99, 'InsSave - Download & Save Photos & Videos From Instagram With Ease!': 0.99, 'WeicoPro 4': 0.99, 'Head of State': 2.99, 'oh my giraffe': 1.99, 'Paul Pixel - The Awakening': 1.99, 'Score Darts': 3.99, 'Precision Ukulele Tuner - with Chords & Metronome': 1.99, 'Sproggiwood': 4.99, 'Mystery Tales: Her Own Eyes HD - A Hidden Object Mystery (Full)': 6.99, \"ASA's Sailing Challenge\": 3.99, 'Shadowrocket': 2.99, 'Great App for Who is Your Daddy version': 0.99, 'ArtPose': 2.99, 'PokeMaps for Pokemon GO (Original)': 2.99, 'Eisenhorn: XENOS': 5.99, 'NextGen Car Game Racing': 0.99, 'Dreamdays Countdown IV: count down to days matter': 0.99, 'FineScanner Pro - PDF Document Scanner App + OCR': 59.99, 'Formulas - Photo Lab Effects and Custom Frames': 1.99, 'Private School Days': 4.99, 'Super Powerboy': 1.99, 'StaffWars': 0.99, 'Isoland': 0.99, 'A Tiny Game of Pong': 1.99, 'Vector 2 Premium': 1.99, 'Cheer Updates': 1.99, 'PhelpsMoji by Michael Phelps': 0.99, 'Cardiograph': 1.99, 'Shot Tracer': 6.99, 'Add-Ons Studio for Minecraft': 2.99, 'Ask Drift0r (for Call of Duty: Black Ops 3)': 1.99, 'Filters for iPhone and iPad': 1.99, 'Simple Machines by Tinybop': 2.99, 'Gifstory - GIF Camera, Editor and Converter of Photo, Live Photo, and Video to GIF': 0.99, 'NEO TURF MASTERS': 2.99, 'Fake GPS Location Spoofer': 2.99, 'Bombsquad - Defuse the Bomb': 4.99, 'Runestone Keeper': 2.99, 'My Town : Wedding Day': 2.99, \"Delicious - Emily's Tea Garden\": 9.99, 'Real Metronome Pro': 1.99, 'Gmojiz': 1.99, 'Elmo Loves 123s': 4.99, 'Legend of the Skyfish': 3.99, 'Apollo Justice Ace Attorney': 0.99, 'Heads Up! Kids': 0.99, 'Equipd Bible': 2.99, \"Vikings: an Archer's Journey\": 2.99, 'Sago Mini Fairy Tales': 2.99, 'Skat': 3.99, 'TimeStamp Photo with GPS Address Location': 1.99, 'Textastic Code Editor 6': 9.99, 'Zyon_RhythmGame': 0.99, 'Finding Dory: Just Keep Swimming': 3.99, 'WonderCat Adventures': 2.99, 'Where is Santa - Santa Tracker': 0.99, 'The Enchanted Cave 2': 2.99, 'Choice of the Pirate': 4.99, \"Explore Daniel Tiger's Neighborhood\": 2.99, \"It's Tyrannosaurus Rex - Smithsonian Institution\": 1.99, 'Gemini - A Journey of Two Stars': 0.99, 'PokeVision Live Radar Alert & Notifications for Pokemon Go Gear': 1.99, '3D Anatomy': 3.99, 'Mystery Trackers: Winterpoint Tragedy - A Hidden Object Adventure (Full)': 6.99, 'Doc McStuffins: Mobile Clinic Rescue': 2.99, 'Magic Tower Touch': 0.99, 'Aftercut : Background Eraser & Easy Photo Editor': 1.99, 'Changes - Face Tracker': 2.99, 'Fear For Sale: The 13 Keys HD - A Scary Hidden Object Mystery (Full)': 6.99, 'Either': 0.99, 'Dangerous Games: Illusionist HD - A Magical Hidden Object Mystery (Full)': 6.99, 'Servers the Hunger Games Edition for Minecraft Pocket (PvP Multiplayer Servers for PE)': 1.99, 'Partly Sunny - Weather Forecasts': 2.99, 'Foundations Memory Work Tutorials, Cycle 2': 15.99, 'myHAC - Home Access Center': 2.99, 'Midnight Calling: Anabel - A Mystery Hidden Object Game (Full)': 6.99, 'The Agency of Anomalies: Mind Invasion HD - A Hidden Object Adventure (Full)': 6.99, 'Submerged: Miku and the Sunken City': 4.99, 'Bachify': 1.99, 'My Town : Grandparents': 2.99, 'Fix My Car: Custom Mods': 1.99, 'Hunger Games Servers for Minecraft PE (Online)': 1.99, 'Grim Tales: The Heir - A Mystery Hidden Object Game (Full)': 6.99, 'Out There Chronicles - Ep. 1': 1.99, 'Geekbench 4': 0.99, 'Mystery Tales: Alaskan Wild HD - A Mystery Hidden Object Adventure (Full)': 6.99, 'Stellar Wanderer': 4.99, 'Blackwell 1: Legacy': 2.99, 'Grim Tales: The Final Suspect - A Hidden Object Mystery (Full)': 6.99, 'Dark Dimensions: Shadow Pirouette HD - A Scary Hidden Object Game (Full)': 6.99, 'Invisible, Inc.': 4.99, 'Surface: Alone in the Mist - A Hidden Object Mystery (Full)': 6.99, 'Cosmic-Watch': 4.99, 'Disc Golf Game': 3.99, 'ArtPose Female Edition': 2.99, 'Peppa Pig: Holiday': 2.99, 'Heuristic Shakespeare - The Tempest': 5.99, 'Myths of the World: Black Rose HD - A Hidden Object Adventure (Full)': 6.99, 'Cheats for FNAF World - Unlock every ending and beat the game with ease!': 2.99, 'MagicBars - HomeScreen Wallpaper With Creativity': 1.99, 'The Secret Order: Beyond Time HD - A Hidden Object Adventure (Full)': 6.99, 'Dokuro': 1.99, 'A Short Tale': 3.99, 'Flow Speed Control ● Professional Edition': 1.99, 'illi': 2.99, 'Fear For Sale: Phantom Tide HD - A Scary Hidden Object Mystery (Full)': 6.99, 'Haunted Hotel: The X (Full)': 6.99, 'Sable Maze: Twelve Fears HD - A Mystery Hidden Object Game (Full)': 6.99, 'Interact Contacts - Do more with your Contacts!': 1.99, 'Archangel Raphael Guidance - Doreen Virtue': 4.99, \"Dr. Seuss's ABC - Read & Learn - Dr. Seuss\": 1.99, 'Draw It : Mini Game With Worldwide Multiplayer': 0.99, 'Mystery Case Files: Ravenhearst Unlocked - A Hidden Object Adventure (Full)': 6.99, 'Surface: Return to Another World - A Hidden Object Adventure (Full)': 6.99, \"Immortal Love: Letter From The Past Collector's Edition - A Magical Hidden Object Game (Full)\": 6.99, 'Emily Wants To Play': 2.99, 'BCM Surfing Game - World Surf Tour': 2.99, 'Melody Jams': 2.99, 'Evo Explores': 1.99, 'Aeris Pulse Weather': 0.99, \"Beyond: Light Advent Collector's Edition (Full)\": 6.99, 'Guns of Infinity': 4.99, 'MadOut Open City': 1.99, 'Asva The Monkey HD': 0.99, 'Paperback: The Game': 3.99, 'Agatha Christie - The ABC Murders (FULL)': 6.99, 'Mods for Minecraft PC Edition - Mod Installer Pocket Guide': 1.99, 'My Friend Scooby-Doo!': 2.99, 'Star Walk for Kids: Learning Astronomy and Space': 2.99, 'AUM - Audio Mixer': 18.99, 'I Keep Having This Dream': 1.99, 'Dark Romance: Kingdom of Death HD - A Hidden Object Adventure (Full)': 6.99, \"PetMojis' by The Dog Agency\": 0.99, 'Forbidden Desert': 6.99, 'Fitness - Gym and Home Workout,my Exercise Journal': 2.99, 'Bus Simulator PRO 2017': 3.99, 'Danse Macabre: Deadly Deception - A Mystery Hidden Object Game (Full)': 6.99, 'Rugby Nations 16': 4.99, 'Super City: Special Edition': 4.99, 'The Lion Guard': 3.99, 'Dark Dimensions: Homecoming HD - A Hidden Object Mystery (Full)': 6.99, 'planetarian - Dream of Little Star -': 3.99, 'Gymoji': 0.99, 'PE Servers - Custom Keyboard for Minecraft Pocket Edition': 2.99, 'Putty 3D': 4.99, 'Duck Life: Retro Pack': 1.99, 'TEDICT - Learn English with TED Video': 2.99, 'Haunted Hotel: Eternity - A Mystery Hidden Object Game (Full)': 6.99, 'Microgue': 1.99, 'Vernier Video Physics': 4.99, 'Dark Realm: Princess of Ice HD - A Mystery Hidden Object Game (Full)': 6.99, 'Pugmoji sticker keyboard by The BatPug': 1.99, 'Lea Born for Adventure': 1.99, 'Mystic Diary: Haunted Island HD (Full)': 4.99, 'Labyrinths of the World: Changing the Past HD - A Mystery Hidden Object Game (Full)': 6.99, 'Abzorb': 2.99, 'The Infinite Arcade by Tinybop': 2.99, \"Papa's Taco Mia HD\": 2.99, 'Nevertales: Legends - A Hidden Object Adventure (Full)': 6.99, 'Dr. Panda Space': 2.99, 'Teach Your Monster to Read - Phonics and Reading': 4.99, 'House of 1000 Doors: Evil Inside HD - A Hidden Object Adventure (Full)': 6.99, 'Sofia the First Color and Play': 4.99, 'Bridge Constructor Stunts': 1.99, 'Dream Machine : The Game': 1.99, 'ClickTogether': 0.99, 'Samurai of Hyuga Book 2': 5.99, 'My Very Hungry Caterpillar': 3.99, 'Human Anatomy Atlas 2017 - Complete 3D Human Body': 24.99, '8-Bit RPG Creator': 2.99, 'DinoTrek VR Experience': 0.99, 'Quell Zen+': 2.99, 'Train Drive ATS 2': 6.99, 'Mystery Trackers: Nightsville Horror HD - A Hidden Object Adventure (Full)': 6.99, 'Parents Calling Easter Bunny': 1.99, 'Hunting USA': 1.99, 'Super Why! Phonics Fair': 3.99, 'Royal Detective: Legend of The Golem - A Hidden Object Adventure (Full)': 6.99, \"Small Town Terrors: Galdor's Bluff HD - A Magical Hidden Object Mystery (Full)\": 6.99, 'The Curio Society: Eclipse over Mesina HD - A Hidden Object Mystery (Full)': 6.99, 'Azerrz Sounds': 0.99, 'KNFB Reader': 99.99, 'Signily Keyboard - Sign Language Emoji and GIFs!': 0.99, 'Phantasmat: The Dread of Oakville - A Mystery Hidden Object Game (Full)': 6.99, 'Chimeras: The Signs of Prophecy - A Hidden Object Adventure (Full)': 6.99, 'Space War HD': 0.99, 'Cut the Rope HD': 3.99, 'Teenage Mutant Ninja Turtles: Battle Match Game': 1.99, 'Flowstate': 4.99, 'Sago Mini Babies': 2.99, 'Grim Tales: Threads of Destiny - A Hidden Object Mystery (Full)': 6.99, 'Vectradius': 0.99, 'Timetracks - Slit-Scan Camera': 0.99, 'Wildfulness - Unwind in nature and calm your mind': 2.99, 'Goth Emoji': 0.99, 'Doc McStuffins Pet Vet': 1.99, 'DayGram - One line a day Diary (Note/Journal)': 0.99, \"Witches' Legacy: Slumbering Darkness HD - A Hidden Object Mystery (Full)\": 6.99, 'Kill the Plumber World': 2.99, 'iFleeing': 0.99, 'Crazy Craft Mod Guide for Minecraft Pc :Complete and Ultimate for Players': 1.99, 'Grim Facade: Hidden Sins - A Hidden Object Mystery (Full)': 6.99, 'Power Ping Pong': 4.99, 'Sorted - Quickly Organise Your Day': 7.99, 'Haunted Legends: The Secret of Life - A Mystery Hidden Object Game (Full)': 6.99, 'Timepage for iPad – Calendar by Moleskine': 6.99, 'Fear for Sale: The House on Black River (Full)': 6.99, 'Wars Of Warlords : Mini Game With Worldwide Multiplayer': 0.99, 'Hero Siege: Pocket Edition': 9.99, 'Retro City Rampage DX': 4.99, 'Thirty Days & Seven Seas – Pirate Battle Board Game Starring Clarence, Jeff and Sumo': 2.99, 'European Mystery: Flowers of Death HD (Full)': 6.99, 'Carbon Warfare': 2.99, 'TimeTraks': 0.99, 'Myths of the World: The Heart of Desolation - A Hidden Object Adventure (Full)': 6.99, 'Disney Junior Magic Phone with Sofia the First and Mickey Mouse': 2.99, 'Photomontage : PhotoLayers for iPhone': 0.99, 'Hero Generations': 4.99, 'Block Sky War (Luck of the Draw) : Mini Game With Worldwide Multiplayer': 0.99, 'Watch Games': 0.99, 'Mystery Trackers: Paxton Creek Avengers - A Mystery Hidden Object Game (Full)': 6.99, 'Dictator 2: Evolution': 1.99, 'BMO Snaps - Adventure Time Photo Game': 2.99, 'Amaranthine Voyage: The Obsidian Book - A Hidden Object Adventure (Full)': 6.99, 'Bus Simulator PRO 2016': 2.99, 'LumaFX - infinite video effects': 2.99, 'PuppetShow: The Face of Humanity (Full)': 6.99, 'Flewn': 2.99, 'Train Kit': 2.99, 'Beyondium': 1.99, 'Little Fox Animal Doctor - be a vet': 1.99, 'Personal Progress Binder': 4.99, 'End Space VR for Cardboard': 0.99, 'Shadow Wolf Mysteries: Tracks of Terror - A Hidden Object Adventure (Full)': 6.99, 'Fear for Sale: Endless Voyage HD - A Mystery Hidden Object Game (Full)': 6.99, 'Dead Reckoning: Brassfield Manor - A Mystery Hidden Object Game  (Full)': 6.99, 'Nanuleu': 2.99, 'Sago Mini Toolbox': 2.99, 'Game Cheats - Super-Mario Universe 2 Luigi Galaxy Starship Edition': 4.99, 'TNNS': 1.99, 'Anime Studio Story': 4.99, 'Haunted Legends: The Dark Wishes - A Hidden Object Mystery (Full)': 6.99, 'Hidden Expedition: The Fountain of Youth (Full)': 6.99, 'Myths of the World: The Whispering Marsh - A Mystery Hidden Object Game (Full)': 6.99, 'Visionn - Real Time Artistic Photo & Video Effects': 1.99, 'Pixel Cup Soccer': 0.99, 'Effects Studio': 1.99, 'The interactive Legend of Sleepy Hollow: iIrving': 2.99, 'The Secret Elevator': 0.99, 'Stellarium Mobile Sky Map': 2.99, 'OPERATION DRACULA': 2.99, 'InsPad - Instagram for iPad': 4.99, 'TunesFlow - Music Player with Equalizer': 3.99, 'The Secret Order: The Buried Kingdom HD (Full)': 6.99, \"Matt Duchene's Hockey Classic\": 3.99, 'Paintkeep - Turn Photo into Painting': 2.99, 'Furniture Mod PE': 1.99, 'Deliciously Ella': 3.99, 'VERSUS: The Elite Trials': 3.99, 'Littlebook - for Facebook on Watch': 2.99, 'Funny Face Pro - 2000+ Stickers Pics Photos Editor': 1.99, 'Phantasmat: Behind the Mask (Full)': 6.99, 'Albert & Otto': 1.99, 'Dr. Panda School': 2.99, \"Cookie Monster's Challenge\": 2.99, 'Cadenza: Havana Nights (Full)': 6.99, 'Cliff Diving Champ': 0.99, 'ContactsXL 2016': 0.99, 'Raildale - Railroad & Railway Building Game': 2.99, \"YANKAI'S TRIANGLE\": 1.99, 'Football Manager Touch 2017': 19.99, 'Dark Tales: Edgar Allan Poe’s The Tell-tale Heart - A Hidden Object Mystery (Full)': 6.99, 'Tamotions by Tami Roman': 0.99, 'My Town : Preschool': 2.99, 'Fix My Truck: 4x4 Offroad Truck Mechanic Simulator': 1.99, 'RunGunJumpGun': 2.99, 'My Town : Fashion Show': 2.99, 'Shadow Blade: Reload': 4.99, 'Level: A Simple Puzzle Game': 0.99, 'Hurricane Impact by HurricaneTrack.com': 2.99, 'Sorcery! 4': 4.99, 'Sight Words Games & Flash Cards for Reading and Spelling Success at School (Learn to Read Preschool, Kindergarten and Grade 1 Kids)': 2.99, 'The Forgotten Room': 1.99, 'Party Hard Go': 6.99, 'Kahuna': 0.99, 'Phonics Fun on Farm Educational Learn to Read App': 2.99, 'PAW Patrol Pups Take Flight HD': 4.99, 'Ticket Drops': 1.99, 'Dead Reckoning: The Crescent Case - A Mystery Hidden Object Game (Full)': 6.99, 'Space Grunts': 3.99, 'HorseMoji: Equestrian Emoji': 1.99, 'Hidden Expedition: Dawn of Prosperity - A Mystery Hidden Object Game (Full)': 6.99, 'The Curio Society: New Order HD (Full) - Adventure': 6.99, 'Snug for Instagram - Preview your photos': 0.99, 'CHINGOJI': 0.99, 'Game Studio Tycoon 3 – Gaming Business Simulation': 4.99, 'Syberia 2 (FULL)': 4.99, 'ROMANCING SAGA 2': 17.99, 'Off the Record: Liberty Stone - A Mystery Hidden Object Game (Full)': 6.99, 'Danse Macabre: Lethal Letters - A Mystery Hidden Object Game (Full)': 6.99, 'Whispering Willows': 4.99, 'Fran Bow Chapter 1': 1.99, 'Final Cut: Fame Fatale - A Hidden Object Adventure (Full)': 6.99, 'Blaze and the Monster Machines - Racing Game': 3.99, 'Sudoku Pro Edition': 2.99, \"Secrets of the Dark: Eclipse Mountain Collector's Edition HD (Full)\": 6.99, 'Fireboy & Watergirl 2 - The Forest Temple': 0.99, 'bloxorz': 0.99, 'Circa Infinity': 1.99, 'Streaks Workout': 2.99, 'My Town : Beauty Spa Saloon': 2.99, 'Rescue the Enchanter': 3.99, 'Secrets of the Dark: Mystery of the Ancestral Estate HD - A Mystery Hidden Object Game (Full)': 6.99, 'Marline - Weather, Tides & Moon': 0.99, 'Lanota': 1.99, 'Dr. Panda Firefighters': 2.99, 'Football Manager Mobile 2017': 8.99, 'H*nest Meditation': 1.99, 'iFiles 2 - File Manager, Cloud Storage, PDF Reader': 4.99, \"Puppet Pals HD Director's Pass\": 3.99, 'Boston GameDay Radio for Live New England Sports, News, and Music – Patriots and Celtics Edition': 1.99, 'BMX Streets': 2.99, 'Hue Halloween for Philips Hue': 1.99, 'WRIO Keyboard': 1.99, 'Labyrinths of the World: Forbidden Muse HD - A Mystery Hidden Object Game (Full)': 6.99, 'Eklips': 1.99, \"Annabel Karmel's Baby & Toddler Recipe App\": 4.99, 'Survival: Wicked Forest': 0.99, 'Scotmoji - Scottish emoji-stickers!': 0.99, 'Thumbly Keyboard': 1.99, 'Virtual Gastric Band Hypnosis - Lose Weight Fast!': 6.99, 'Moto x3m': 0.99, 'Redemption Cemetery: Clock of Fate - A Mystery Hidden Object Game (Full)': 6.99, 'JOEMOJI Keyboard': 0.99, 'HabitSeed': 0.99, 'Heroes of Normandie': 14.99, 'Sago Mini Robot Party': 2.99, 'Moana: Rhythm Run': 6.99, 'Photon Safe Web Browser with Flash Player for Kids': 4.99, 'Treasure Buster': 0.99, 'KORG iDS-10': 19.99, 'Modern Atlas Travel Guides & City Maps — nearby places in Wikipedia & Wikivoyage': 0.99, 'Santa Spy Cam! I Caught Santa!': 0.99, \"Witches' Legacy: The Dark Throne HD (Full)\": 6.99, 'iScore5-APHG': 4.99, 'Minesweeper - Widget Edition': 0.99, 'Arise: Beat Procrastination & dominate todo lists!': 2.99, 'Haunted Hotel: Phoenix - A Mystery Hidden Object Game (Full)': 6.99, 'Danse Macabre: Thin Ice - A Mystery Hidden Object Game (Full)': 6.99, 'Heavy Metal Emoji Keyboard': 0.99, 'Create Musical Vids - Dubsmash & Musical.ly Edition - Record yourself saying the best sounds': 1.99, 'Heroes of Loot 2': 3.99, 'InstaVideo Pro - Add background music to videos': 1.99, 'Drakomon GO - 3D Monster Battle Game': 1.99, 'Train Driver Journey 8 - Winter in the Alps': 0.99, 'Gym Log+ — Workout and Fitness Tracker': 4.99, 'Hunting Simulator': 2.99, 'Serato Remote Mini': 4.99, 'Vampire Legends: Untold Story of Elizabeth (Full)': 6.99, 'AR Missile - Automatic Target Tracking': 0.99, 'Final Cut: Fade To Black - A Mystery Hidden Object Game (Full)': 6.99, 'Primordia': 4.99, 'Bubble Mags': 0.99, \"Dr. Panda's Carnival\": 2.99, 'How the Grinch Stole Christmas! - Read & Play': 3.99, 'File New - Photo Editor': 0.99, \"Daniel Tiger's Stop & Go Potty\": 2.99, 'Bulb Boy': 2.99, 'Anatomy & Physiology: Body Structures and Function': 34.99, 'My Town : Cinema': 2.99, 'Rubek': 1.99, 'Amaranthine Voyage: The Orb of Purity (Full)': 6.99, 'Ultrapic': 1.99, 'Burly Men at Sea': 4.99, 'Disney Build It: Frozen': 3.99, 'KORG iWAVESTATION': 29.99, 'LikeSo': 0.99, 'Ice Fishing Derby Premium': 2.99, 'Telepaint': 2.99, 'Transformers Rescue Bots: Save Griffin Rock': 3.99, 'Whispered Secrets: Into the Beyond - A Hidden Object Adventure (Full)': 6.99, 'Atomic Super Lander': 2.99, 'Omnistat - System Status & Activity Monitor': 1.99, 'PulpMX 2.0': 1.99, 'The Monsters by Tinybop': 2.99, 'Moji Me™': 0.99, 'Fear for Sale: City of the Past HD - A Hidden Object Mystery (Full)': 6.99, 'Dr. Panda Candy Factory': 2.99, 'Blackwell 5: Epiphany': 3.99, 'Go Rally': 4.99, 'Focus - RAW Manual Camera with Smart Focus Peaking': 1.99, 'Pepi House': 2.99, 'OffRoad Drive Desert': 1.99, 'Mia and me - Free the Unicorns!': 2.99, 'Yoga Break': 2.99, 'Sea of Lies: Tide of Treachery - A Hidden Object Mystery (Full)': 6.99, 'Note Rush: Learn Music Sight Reading + Piano Notes': 3.99, 'Fitmoji by Shaun T': 1.99, 'Sleep Attack TD': 2.99, 'Punished Talents: Stolen Awards HD - A Mystery Hidden Object Game (Full)': 6.99, 'BurbuMoji': 0.99, 'Black Elements – Use our cool Wallpapers to change the elements on your Home Screen and Lock Screen to another color!': 1.99, 'Ummo': 1.99, 'PAW Patrol Draw & Play HD': 3.99, 'Siralim 2 (RPG / Roguelike)': 4.99, 'Concrete Jungle': 4.99, \"Gigglebug's Face Race\": 2.99, 'Forged in Battle: Man at Arms': 1.99, 'Spirits of Mystery: Chains of Promise - A Hidden Object Adventure (Full)': 6.99, 'Alice in Wonderland Puzzle Golf Adventures': 0.99, 'The Cat in the Hat - Read & Learn - Dr. Seuss': 3.99, 'ytools-flashlight,ruler,spirit level,protractor and sound level meter': 0.99, 'Timelines - Time Tracking': 7.99, 'NOAA Hurricane Center HD': 1.99, 'Ominous Objects: Phantom Reflection HD - A Hidden Object Adventure (Full)': 6.99, 'Echoes of the Past: Wolf Healer HD (Full)': 6.99, 'Egz – The Origin of the Universe': 3.99, 'ISLANDS: Non-Places': 2.99, \"Bob's Burgers Pinball\": 1.99, 'Easy Music - Give kids an ear for music': 3.99, 'Rota Calendar - Work Shift Manager': 1.99, 'Peppa Pig: Sports Day': 2.99, 'Calculator HD - the missing calculator on your iPad': 1.99, 'EWallpaper': 3.99, 'Sofia the First: The Secret Library': 3.99, 'TankTrouble - Mobile Mayhem': 1.99, 'KDMOJI': 1.99, 'DMBX 2 - Mountain Bike and BMX': 1.99, 'Astrå': 0.99, 'Montessori Letter Sounds - Phonics in English, Spanish, French, German & Italian': 3.99, 'PDF Export - Photos to PDF and Converter': 2.99, 'RecordOrders': 1.99, 'Pocket Arcade Story': 4.99, 'The Game - Play ... as long as you can!': 2.99, 'Romulus Euro': 2.99, 'Dierks Bentley Lyric Keyboard + Emojis': 1.99, 'Phantasmat: The Endless Night HD - A Mystery Hidden Object Game (Full)': 6.99, 'LAMP Words For Life': 299.99, 'Inquire by Tamper': 0.99, 'The perfect Egg timer': 0.99, '5-in-1 Emoji Widget Games - GameMoji': 0.99, 'Vetmoji': 1.99, 'DM2 - The Drum Machine': 4.99, \"Get 'Em\": 0.99, 'Emoji Bae - Custom Emojis': 1.99, 'CATTCH': 1.99, 'Carp Fishing Simulator': 4.99, 'Blitz Breaker': 2.99, 'Carbo - Handwriting in the Digital Age': 7.99, 'French Belote': 2.99, 'FATAL FURY SPECIAL': 3.99, 'Odysseus: Long Way Home HD (Full)': 4.99, \"Demon's Rise 2: Lords of Chaos\": 7.99, 'Call Recorder for iPhone - Record Phone Calls': 9.99, 'Shadow Wolf Mysteries: Curse of Wolfhill (Full)': 6.99, 'Loop & Dot': 0.99, 'BeCasso – Watercolor & Oil Paintings, Comic Effect': 1.99, 'Golf Ball Locator': 3.99, 'Parallyzed: Surreal Platform Runner': 2.99, 'Fireman Sam - Fire & Rescue': 1.99, 'Overcome Porn: 40 Day Challenge': 2.99, 'The Swords': 1.99, 'Odd Squad: Blob Chase': 1.99, 'The Easter Bunny Tracker': 1.99, 'Sable Maze: Soul Catcher HD - A Mystery Hidden Object Game (Full)': 6.99, \"Pug's Quest\": 2.99, 'Tongo Music - for kids and families': 1.99, 'Football Chairman Pro': 3.99, 'minimize': 2.99, 'SnapType Pro': 4.99, 'SKYHILL': 2.99, 'Sago Mini Trucks and Diggers': 2.99, 'Mail Master Pro by NetEase': 1.99, 'Touch Camera - Fast Recording and Burst': 1.99, 'Colt Express': 2.99, 'SOUND Canvas': 19.99, 'Paper Monsters Recut': 0.99, 'Dig Deep!': 1.99, 'Tank Battle: 1945': 1.99, 'Cloud Chasers - A Journey of Hope': 3.99, 'Me by Tinybop': 2.99, 'Saga of the North Wind': 5.99, 'Skateboard Party 3 ft. Greg Lutzka': 1.99, 'Sesame Street Alphabet Kitchen': 2.99, 'NO THING - Surreal Arcade Trip': 1.99, 'Off the Record: The Final Interview (Full)': 6.99, 'We Maps': 6.99, 'Amount Plus - Unit And Currency Converter': 2.99, 'Replica : A Little Temporary Safety': 1.99, 'Mannequin Challenge Maker': 0.99, 'The JMU Bus App': 2.99, 'Station Manager': 4.99, 'Agricola All Creatures Big and Small': 4.99, 'Moasure - the smart tape measure': 2.99, 'Kurumaki Calendar -month scroll calendar-': 1.99, 'Dinotrux: Trux It Up!': 1.99, 'Talisman: Horus Heresy': 1.99, 'Ominous Objects: Trail of Time HD (Full)': 6.99, 'Exify - Tools for Photos': 1.99, 'Ys Chronicles II': 4.99, 'Street Fighter V Official Frame Data App': 1.99, 'Laundry Day - Care Symbol Reader': 0.99, 'Sleep Meister - Sleep Cycle Alarm': 0.99, 'WiFox': 1.99, 'Weather by Tinybop': 2.99, \"Composer's Sketchpad\": 3.99, 'FUT Wager': 1.99, 'Dark Dimensions: City of Ash HD - A Mystery Hidden Object Game (Full)': 6.99, 'French Tarot': 4.99, 'MalkinMoji by Evgeni Malkin': 0.99, 'Moorish Kingdom': 2.99, 'infltr - Infinite Filters': 1.99, 'Building Parallel Circuits': 0.99, 'Avertinoo': 4.99, 'Disaster Prediction App': 2.99, 'Pointless Quiz': 1.99, 'Secrets of the Dark: The Flower of Shadow (Full)': 6.99, 'Steelers Live GameDay Nation Radio - Pittsburgh Football & Sports App Edition': 1.99, 'Proton Pulse for Google Cardboard': 2.99, 'Analog Paris': 0.99, 'Cryptomator - Cloud Storage Encryption': 4.99, \"Dumb Ways JR Boffo's Breakfast\": 1.99, 'NOAA Hurricane Center': 1.99, 'Aurora - Puzzle Adventure': 1.99, 'LivePapers - Live Wallpapers from your photos': 1.99, 'Seattle GameDay Sports Radio – Seahawks and Mariners Edition': 1.99, 'Sago Mini Boats': 2.99, 'Mr Jack Pocket': 2.99, 'Glass Road': 3.99, 'Dr. Panda Hoopa City 2': 3.99, 'My Town : Beauty Contest': 2.99, 'Blackwell 4: Deception': 3.99, 'Peppa Pig: Theme Park': 2.99, 'REmojis Keyboard': 0.99, 'iStellar': 3.99, 'Sago Mini Superhero': 2.99, 'Sparkasse+': 0.99, 'Smashing The Battle': 4.99, 'Dr. Panda Racers': 2.99, 'kubic': 1.99, \"Crap! I'm Broke: Out of Pocket\": 1.99, \"Jamie Oliver's Ultimate Recipes\": 6.99, 'Articulation Test Center Pro': 59.99, 'Slip Away Mystify': 2.99, 'Little Farmers - Tractors and Harvesters for Kids': 1.99, 'Northern Lights Photo Taker': 0.99, 'Dead Shell: Roguelike RPG': 2.99, 'Pitmoji - Pit Bull Emoji & Stickers': 2.99, 'Empyrean': 5.99, 'Soccer 17': 2.99, 'Vulture Island': 2.99, 'Tour de France 2016 - the official game': 3.99, 'PS Deals+ - Games Price Alerts for PS4, PS3, Vita': 2.99, 'Smart Baby Shapes: Learning games for toddler kids': 2.99, 'ANY GIVEN EMOJI': 1.99, 'Speedafari – Speed Up Safari on Slow Connections': 1.99, 'Ninja Boy Adventures - Bomberman edition': 1.99, 'Italian Emoji -  Italian Emojis, Stickers and Gifs': 1.99, 'Journey Below': 2.99, 'Dr. Panda Farm': 2.99, 'Romulus APUSH Review': 3.99, 'Peppa Pig: Golden Boots': 2.99, 'HealthFace': 1.99, 'Read4Kids - Kids learn to read in 20 easy lessons': 2.99, 'Superkick Party': 1.99, 'Future War：Reborn- Zombie Survival Tatics TPS': 0.99, 'A high resolution music player - NePLAYER': 14.99, 'Special Version - Explain Everything™ Whiteboard': 15.99, 'The Lost Shield': 1.99, 'Craftmoji - the cute craft sticker App': 0.99, 'Block Builder for Minecraft': 0.99, 'Pang Adventures': 3.99, 'Hollywood Game Night': 0.99, 'Lost Journey - Nomination of Best China IndiePlay Game': 0.99, 'GraphModeling': 0.99, 'Space by Tinybop': 2.99, 'Feelca B&W': 0.99, 'Curious George Train Adventures': 0.99, 'DragonBox Numbers': 7.99, 'The Abandoned': 1.99, 'Mini Synthesizer': 4.99, 'Fix My Car: Classic Muscle Mods Mechanic - Junkyard Blitz!': 1.99, 'Hardcore Dirt Bike 2': 1.99, 'Island Delta': 2.99, 'Catholic Emoji': 1.99, 'Shell Shock 1.5': 0.99, 'Lotto Out! - Mexican Loteria': 0.99, 'mySTATE - State College': 0.99, 'Camping With Grandpa': 2.99, 'X-Tactics': 3.99, 'Roll Turtle': 0.99, 'Beams.': 0.99, 'CreamCam+ auto selfie enhancer': 1.99, '2-bit Cowboy Rides Again': 1.99, 'Jump Numbers': 2.99, 'ThemeWave': 3.99, 'NashMoji ™ by Nash Grier': 0.99, 'FastEver 2 - Quick memo app for Evernote': 3.99, 'PhET Simulations': 0.99, 'Blitz Survival Games - Multiplayer Pixel Master Mini Games': 0.99, 'Stick Texting – The College Series': 1.99, 'GoldieBlox: Adventures in Coding - The Rocket Cupcake Co.': 2.99, 'She Works HIS Way': 2.99, 'Momoka: An Interplanetary Adventure': 6.99, \"BabyMaker: Funny Baby Face out of Parents' Pictures - Make a Photo Collage!\": 0.99, 'Civil War: Bloody April': 1.99, 'Mountain Biker': 1.99, 'Dog Mendonca': 4.99, 'iLocks - New Lock Screen Wallpapers for iPhone': 1.99, 'Dead In Bermuda': 4.99, 'T-Rex Simulator': 0.99, 'Lacrosse Arena': 1.99, 'Building Serial Circuits': 0.99, 'AnatomyMapp': 9.99, 'LOUD on Planet X': 2.99, 'Ellipsis - Touch. Explore. Survive.': 4.99, 'Snoopy Emoji': 1.99, 'Hide it Hillary!': 0.99, 'Last City': 0.99, 'Rainmaker - The Beautiful Flood': 1.99, 'Journey of 1000 Stars': 1.99, 'Electoral 2016 - Create Presidential Election Maps': 1.99, 'Benzomoji': 0.99, 'Agent Gumball - Roguelike Spy Game': 2.99, 'Wild Kratts Baby Buddies': 1.99, 'Sesame Street Makes Music': 2.99, 'Simoji by Simone Biles': 0.99, 'PAW Patrol Pups to the Rescue': 1.99, 'French Words for Kids - Learn Letter Sounds': 3.99, '( OFFTIME ) light – Track how much you use your phone & Digital Detox and unplug to focus': 2.99, 'AngerForce - Strikers': 3.99, 'Red Dwarf XI : The Game': 1.99, 'Runaway Toad': 2.99, 'feather for Twitter': 2.99, 'Tennis Club Story': 4.99, 'Balvinmoji': 0.99, 'My PriceQuote': 6.99, 'Pango Build City': 2.99, 'Transformers Rescue Bots: Dino Island': 2.99, 'Puzzle Strike': 3.99, 'Mini Synthesizer for iPhone': 2.99, 'Sago Mini Planes': 2.99, 'Arcadecraft': 0.99, 'Poop Break': 0.99, 'OVLA - Awesome & Creative Typography Design, Graphic Design, Photo Editing': 0.99, 'Date & Time Photo Stamp': 0.99, 'Blaze and the Monster Machines Dinosaur Rescue HD': 4.99, 'Sleep application': 0.99, 'Kindergarten Sight Words : High Frequency Words to Increase English Reading Fluency': 2.99, 'Bar Oasis 2 Aftertaste 01': 3.99, 'Snot & Fluff - A Space Adventure': 2.99, 'OdellMoji by Odell Beckham Jr.': 1.99, 'Face Shape Meter - find out face shape from photo': 1.99, 'Carbs & Cals - Diet & Diabetes': 4.99, 'Timeline Builder: Create Custom Timelines': 1.99, 'Le Havre: The Inland Port': 4.99, 'Bookling - Track Your Reading Habits': 0.99, 'Goosebumps Night of Scares.': 2.99, 'Been Together': 0.99, 'Teenage Mutant Ninja Turtles: Half-Shell Heroes': 3.99, 'Shimmer and Shine: Enchanted Carpet Ride Game HD': 4.99, 'ContactsXL 2017': 1.99, 'Myths of the World: Black Rose - A Hidden Object Adventure (Full)': 2.99, 'Paper Train: Traffic': 0.99, 'Goo Saga': 1.99, 'Drive Simulator 2016': 1.99, 'Final Cut: The True Escapade HD - A Hidden Object Mystery Game (Full)': 6.99, 'Dino Tales Jr – storytelling for young minds': 2.99, 'Trans4motor - Universal Engine Simulator': 2.99, 'The Manga Works': 4.99, 'Puzzlepops!': 1.99, 'Ice Princess Mermaid Salon: Girls Makeover Games': 1.99, 'Get Drunk Not Fat': 0.99, 'Cannonfire Concerto': 3.99, 'Mystery of Fortune 2': 0.99, 'Let Go and Let God - Doreen Virtue': 4.99, 'Yogemoji - The Yoga Emoji Keyboard': 0.99, 'Wrestlemoji': 0.99, 'Analog Tokyo': 0.99, 'Tank Battle: Blitzkrieg': 1.99, 'Baum': 1.99, 'Open Sorcery': 2.99, 'BBC Colouring: Doctor Who': 1.99, 'MobileFamilyTree 8': 17.99, 'Red 7 - play Digital Red7 Card Game with Friends': 2.99, 'VanDammemoji by Jean-Claude Van Damme': 0.99, 'Gabbymoji': 1.99, 'Pocket Glasses PRO - text magnifier app': 3.99, 'Cognition Game': 2.99, 'Scary Doll': 3.99, 'Sheenoji - The Charlie Sheen Keyboard': 0.99, 'Photon X Private Browser and Flash Player for iPad': 0.99, 'Into Light': 0.99, \"Witches' Legacy: Hunter and the Hunted HD - Hidden Objects, Adventure & Magic (Full)\": 6.99, \"Arthur's Adventures-Road of Glory:Pocket Edition\": 0.99, 'Riff Racer: Race Your Music': 0.99, 'Touch Notation': 11.99, 'DreamWorks Friends - get ready for the day!': 1.99, 'Monster Mingle': 2.99, 'AirParrot Remote': 7.99, 'FoodSpect - Restaurant Inspections': 0.99, 'Alchemic Maze': 2.99, 'Demon Hunter: Chronicles from Beyond (Full)': 4.99, 'Shield Designer for Minecraft': 0.99, 'Mersenne Melodic Percussion Synthesizer': 5.99, 'AI • Scry: a remote viewing application powered by an alien psyche.': 0.99, 'Survival Island 2: Dinosaur Hunter': 2.99, 'Unicorn Glitterluck - Rainbow Adventure for kids': 1.99, 'A New Life': 0.99, 'A.BIG.T -- A Smart VPN': 9.99, 'Peppa Pig: Seasons - Autumn and Winter': 2.99, 'GeometriCam - abstract geometric design in real-time': 2.99, 'Flipominos': 2.99, 'Mr. Potato Head: School Rush': 3.99, 'WitchSpring2': 3.99, \"Small Town Terrors: Galdor's Bluff - A Magical Hidden Object Mystery (Full)\": 2.99, 'Relay – Multiple Location Maps': 1.99, 'STEINS;GATE': 24.99, 'Magic Trick #6': 6.99, 'Minds On Physics the App - Part 1': 0.99, 'Mud Bogger ( 3D Monster Truck Driving & Racing Games )': 0.99, 'Donut vs Donut': 0.99, 'Fox Tales - Story Book for Kids': 1.99, 'Rudolph the Red-Nosed Reindeer - Read & Play': 3.99, 'Superhero Girl Salon: Kids Makeup and Dressup Game': 1.99, 'Batman Unlimited: Gotham City’s Most Wanted': 3.99, 'Fleeing the Complex': 0.99, 'Eric Carle’s Brown Bear Animal Parade': 1.99, 'MyFantasyLeague Manager 2016 by RotoWire': 2.99, 'AdivínaT - Adivina las palabras': 0.99, 'Flud.': 0.99, 'Spring Cleaning 2': 0.99, 'Dark Tales: Edgar Allan Poe’s The Mystery of Marie Roget - A Hidden Object Mystery (Full)': 2.99, 'Gridiron 2016 College Football Scores & Schedules': 1.99, 'KQ MiniSynth': 5.99, 'Todo Number Matrix: Brain teasers, logic puzzles, and mathematical reasoning for kids': 0.99, 'Dr. Panda Bath Time': 2.99, 'Forecaster: detailed NOAA forecasts': 1.99, 'Dinosaur Games: Puzzle for Kids': 2.99, 'FreeSpeech - Build Language and Learn Grammar': 9.99, 'PAW Patrol Pups Take Flight': 2.99, 'USPS StampApp for iPad': 9.99, 'Bret Michaels Emojis + Lyric Keyboard': 1.99, 'The End of the World by Sean Wenham': 0.99, 'Sago Mini Puppy Preschool': 2.99, 'My Little Pony: Trick or Treat': 2.99, 'Web Browser Recorder Pro': 1.99, 'Snapshot Cam - Draw on Pictures & Add Text to Photos': 2.99, 'DragonBox Big Numbers': 7.99, 'Recontact: Istanbul': 0.99, 'HairTech-Head Sheets': 2.99, 'Lucky Block Mod for Minecraft PC Edition - Pocket Guide': 1.99, \"Peg + Cat's Tree Problem\": 2.99, 'Cell Surgeon - A Unique 3D Match 4 Strategy Game!': 0.99, 'Azuki Wave': 1.99, 'Staccal 2 - Calendars and Reminder': 0.99, 'VR Viewer': 0.99, 'IllumiMoji': 0.99, 'The Very Hungry Caterpillar - Creative Play': 2.99, 'Alizay, pirate girl': 2.99, 'SKATEmoji - Keyboard': 1.99, 'Boycott Trump Biz': 0.99, 'Flood of Light': 1.99, 'Knotmania': 2.99, 'Civil War: 1865': 1.99, 'Octonauts': 3.99, 'Thinkrolls Kings & Queens - Logic and Physics Game': 3.99, 'GeoBots VR': 0.99, 'ANSELFIE - emojis by Ansel': 2.99, 'Snowball!!': 1.99, 'Trick Pix - Magic & Prank Camera': 1.99, 'Busy Water': 3.99, 'Phantasmat: The Endless Night - A Mystery Hidden Object Game (Full)': 2.99, 'City Cars Adventures by BUBL': 2.99, 'myHome - Home Automation': 13.99, 'The Complete Fairytale Play Theater': 4.99, 'Moto Madness - 3d Motor Bike Stunt Racing Game': 0.99, 'Unstoppable: Highway Truck Racing Game': 2.99, 'One Fish Two Fish Red Fish Blue Fish - Read & Learn - Dr. Seuss': 3.99, 'SoundBow': 1.99, 'CR7Selfie': 1.99, 'Mods Explorer – for PocketMine MP': 0.99, 'Super Spy Girl Salon: Spa, Makeup and Dressup Game': 1.99, \"Stealers Steal: A thief's quest for gold\": 0.99, 'Cleanz - Clean up Your Photo Library': 1.99, 'GameDay College Football Radio - Live Games, Scores, News, Highlights, Videos, Schedule, and Rankings': 1.99, 'Attack Heroes': 0.99, \"Oh, the Places You'll Go! - Read & Play - Dr. Seuss\": 3.99, 'Vandermojis by Lisa Vanderpump': 1.99, \"Grandpa's Toy Shop\": 2.99, 'Assault on Arnhem': 4.99, 'Demi Lovato Stickers': 0.99, 'Addictive Pro': 19.99, 'Clipstro - auto strobe motion video creator': 3.99, 'Hear My Baby - Baby Heartbeat Monitor App': 3.99, 'PJ Masks: Super City Run': 2.99, 'Baby Cries Translator': 2.99, 'Team Drift Cats': 0.99, 'Toby: The Secret Mine': 4.99, 'Police Lights 3 - Fire Truck, Police and Paramedic Sirens': 0.99, 'Dark Souls III Map Companion': 2.99, 'DADA Trains': 2.99, \"Stephen Hawking's Pocket Universe\": 4.99, 'Defend Pizzeria Craft Shop': 1.99, 'Kendall KMoji': 0.99, 'Lingji tarot-nice and funny in line with tarot cards': 0.99, 'Atomic Hangman Jr': 1.99, 'Crusader Kings: Chronicles': 4.99, 'Bob the Builder™: Build City': 2.99, 'Math Practice - Integers': 0.99, 'Plead the Fifth - The Game': 2.99, 'Sun - weather forecast powered by Dark Sky': 1.99, 'CombineRobot': 0.99, 'Timenote': 0.99, 'Hey Duggee: The Big Badge App': 2.99, 'Ice Queen Prom Salon: Princess Makeover Girls Game': 1.99, 'M Cam - Manual controls & custom exposure camera': 1.99, 'Boulder Dash® 30th Anniversary™ Premium': 4.99, 'Runcast - Weather for Runners': 0.99, 'MackMoji by Christy Mack': 1.99, 'Read with Doc: Letters and Sounds': 3.99, 'Free-Motion Quilting Idea App': 2.99, 'Dark Dimensions: Homecoming - A Hidden Object Mystery (Full)': 2.99, 'Tokyo Wizard': 2.99, 'WeDJ for iPad': 4.99, 'Road watcher: dash camera, car video recorder.': 0.99, 'Shopkins: Top Trumps': 2.99, 'Pyware 3D Viewer': 2.99, 'Stick & MojiMe New': 0.99, 'Tube Heroes Racers': 1.99, 'The Collider 2': 1.99, 'The Lorax - Read & Play - Dr. Seuss': 3.99, 'WikiCamps Australia': 4.99, 'unWorded': 3.99, 'Read with Doc: Word Building': 2.99, '雨时': 0.99, 'Streets – Street View Browser': 1.99, 'Sinless: Remastered': 1.99, 'Ohajiki Web Browser': 2.99, 'Talking Santa - Video santa claus calls you': 2.99, 'KING OF KARTS: Single- & Multiplayer Battles.': 2.99, 'New Star Soccer G-Story': 0.99, '3D stereogram : Human': 0.99, 'bergfex/Ski PRO': 2.99, 'Tiki Taka World Soccer': 2.99, 'Mixed Macho Arts': 0.99, 'City Run London': 0.99, 'Reckless Racing HD': 0.99, 'First Year Demons': 1.99, 'Learn to Speak Spanish Fast With MosaLingua': 4.99, 'Mystery Trackers: Nightsville Horror - A Hidden Object Adventure (Full)': 2.99, 'Mister Maker: Let’s Make It! – Design, Draw, Paint, Make and Play': 2.99, 'Cosmolander - Missions in the Solar System': 2.99, 'Peppa Pig: Party Time': 0.99, 'iLive Pro - Live Wallpapers for iPhone 7': 0.99, 'Unmatch': 2.99, 'Bob Mod': 1.99, 'Lamper VR: Firefly Rescue': 0.99, 'Santa Calls You': 0.99, 'Amaranthine Voyage: The Shadow of Torment HD - A Magical Hidden Object Adventure (Full)': 6.99, 'BlockyTime - Track your time no need to Start/Stop': 1.99, 'Anime Girl Pose 3D': 1.99, 'SwishMoji By JR Smith': 1.99, 'Dr. Decks for \"Clash Royale\"': 0.99, 'Pea – The Premature Ejaculation App': 3.99, 'Magic Princess - Girls Makeup & Dressup Salon Game': 1.99, 'Fear For Sale: Nightmare Cinema HD - A Mystery Hidden Object Game (Full)': 6.99, 'UBiO': 4.99, 'Spanish Word Wizard : Spanish Talking Movable Alphabet with Spell Check + Spelling Tests': 2.99, 'MOJI TALK by DJ Khaled': 1.99, 'Black Hole Joyrider': 0.99, 'Bow Hunt Simulator': 1.99, 'SHERMOJI - Official Richard Sherman Emoji Keyboard': 0.99, 'Theremin Synth - Loop, Record & Download': 2.99, 'Mileage Log | Fahrtenbuch': 5.99, \"Sally's Law\": 0.99, 'Analog Wedding': 0.99, 'PPTAN': 0.99, 'Tractor Crew: Operation Cleanup': 1.99, 'Smooth Operator!': 0.99, 'ContactsBook -AddressBook Organizer': 0.99, 'WatchNotes - Display notes on watch face': 1.99, 'Cricket Captain 2016': 3.99, \"Puppet Pals Pocket Director's Pass\": 1.99, 'Akuarella': 1.99, 'Pokedex for Pokemon Go': 0.99, 'Shimmer and Shine:  Enchanted Carpet Ride Game': 2.99, 'Foodo World': 2.99, 'Little Briar Rose': 2.99, 'One Touch Camera Recording & Capture in HD': 1.99, 'Super SteamPuff': 0.99, 'Analog London': 0.99, 'Dumber League': 0.99, 'The Island:Brave Heart': 0.99, \"Don't Die, Mr. Robot!\": 0.99, 'Halloween Makeover: Spa, Makeup & Dressup Salon': 1.99, 'VR RollerCoaster for Cardboard': 2.99, 'Pan Book 7: Han Awakening': 5.99, 'The Very Hungry Caterpillar™ – Shapes & Colors': 2.99, 'CalculationBook Pro': 2.99, 'Jurassic VR for Google Cardboard': 1.99, 'Learn English quickly with MosaLingua': 4.99, 'Keyboard PE - Custom keyboard for Modded Pocketmine Servers of Minecraft PE': 1.99, 'Drillbook Next Reader': 2.99, 'First Grade Learning Games (School Edition)': 3.99, \"Tiny Pirates - Kids' Activity App\": 2.99, 'Weather & Radar Pro Ad-Free': 2.99, \"Civil War: Wilson's Creek\": 1.99, 'At the Zoo With Grandma and Grandpa': 2.99, 'Messenger for WhatsApp - Pro App': 1.99, 'Beach Volleyball 2016': 0.99, 'Fitness Sync for Fitbit to Apple Health': 2.99, 'Food Additives Checker (E Numbers)': 1.99, 'Fake Message - Make a fake lock screen': 0.99, 'Analog Budapest': 0.99, 'Figure Skater - Girls Makeup & Dressup Salon Game': 1.99, 'Keystone Biology Practice Test': 0.99, 'SecurityCam for iPhone': 0.99, 'Smart Baby ABC Games: Toddler Kids Learning Apps': 2.99, 'Note Always - a notebook designed for Apple Pencil': 14.99, 'Mystery Tales: The Twilight World HD - A Hidden Object Adventure (Full)': 6.99, 'Funny Veggies! Educational games for children and babies: logic, counting, colors, sums. Development for preschoolers, activities for kids (2, 3, 4, 5 year: baby, boy and girl)!': 3.99, 'Soccer Sumos - Multiplayer party game!': 0.99, 'Money Origami - Learn How to Fold Money': 1.99, 'Santas Watching': 0.99, 'Civil War: 1861': 1.99, 'Monkey Preschool Animals': 2.99, 'Auto Palmistry Premium': 2.99, 'Fire and Fury: English Civil War': 1.99, 'twinkle': 2.99, \"Please, Don't Touch Anything 3D\": 5.99, 'Moomijis Moomin Stickers': 0.99, 'Custom Cam': 1.99, 'Zasa : An AI Story': 0.99, 'Gymnastics Girl Jump American Athlete sports PRO': 2.99, 'HauntedPic': 0.99, 'Smart Baby Sorter HD - Early Learning Shapes and Colors / Matching and Educational Games for Preschool Kids': 2.99, 'Automo Camera': 0.99, 'Pronoun Fill-In Super Fun Deck': 5.99, 'Money - Track your money easily.': 0.99, 'Peanuts StoryGIF – Cute GIF & Story Maker': 0.99, 'DOUBUTSU URANAI®-Animal Fortune-': 0.99, '20/20 Diet For Your Life': 2.99, 'Horton Hears a Who! - Read & Play - Dr. Seuss': 3.99, 'Clipstro Golf - Swing trajectory visualization': 3.99, 'Amaranthine Voyage: The Shadow of Torment - A Magical Hidden Object Adventure (Full)': 2.99, 'Fold+': 1.99, 'Huetopia': 0.99, 'Craft The World - Episodes Edition': 0.99, 'EmoWatch': 0.99, 'Сluster Traffic: Parkour Trucks Pro': 0.99, 'Comblosion': 1.99, 'Blade of Elemental': 0.99, 'Patchmania KIDS - A Puzzle About Bunny Revenge!': 3.99, 'Piiic 2': 0.99, 'Blaze and the Monster Machines Dinosaur Rescue': 2.99, 'Fire Fu': 1.99, 'Lost Fishy Ultimate Challenge': 0.99, 'FunBridge Quiz 3': 8.99, 'A Busy Day for Elmo: Sesame Street Video Calls': 0.99, 'We’re Going on a Bear Hunt': 2.99, 'Smart Baby Shapes FOOD: Fun Jigsaw Puzzles and Learning Games for toddlers & little kids': 2.99, 'Official Life in the UK Test – 3rd Edition': 4.99, 'Killer Clown Scare Prank': 0.99, \"Dumb Ways JR Madcap's Plane\": 1.99, 'Fantasy Princess - Girls Makeup & Dress Up Games': 1.99, 'The Snowman & The Snowdog Game': 1.99, 'Wavemoji': 1.99, 'Apestorm: Full Bananas': 1.99, 'Photon X Flash Web Browser & Player for iPhone - Full Screen Video plus Games': 2.99, 'RETSNOM': 0.99, 'Nebraska Huskers for iPad 2015': 9.99, 'Flappy Marine': 0.99, 'Spoofr — GPS & Location Simulator': 1.99, 'Santa was in my House! Catch Santa Camera': 0.99, 'Ruler and Compass Geometry': 0.99, 'Eric & Bruce BBQ Party': 2.99, \"Cars & Vehicles Puzzle Game for toddlers HD - Children's Smart Educational Transport puzzles for kids 2+\": 2.99, 'The Orchard by HABA - colors & shapes for children': 1.99, 'Yiannimize Racing': 0.99, 'Lightsaber Camera': 0.99, 'Mystery Tales: The Twilight World - A Hidden Object Adventure (Full)': 2.99, 'Dikie & Dukie: Learn to Read in Spanish HD': 2.99, \"Pettson's Inventions 3\": 2.99, 'Montessori Nature': 2.99, 'ContactsBook for iPad': 1.99, \"Bullet'nTunes\": 1.99, 'Open House London 2016': 3.99, 'Deer Calls & Deer Sounds for Deer Hunting - BLUETOOTH COMPATIBLE': 2.99, 'Todrick': 0.99, 'Should Shoot': 2.99, 'teamLabBody-3D Motion Human Anatomy-': 24.99, 'Glasmoji - Glasgow emoji-stickers': 0.99, \"Fragment's Note\": 3.99, 'Zemoji Zombie Emoji - Halloween iMessage Stickers': 0.99, 'DSLR Lens Kit ,RAW files and Dual-lens supported': 1.99, 'EMOJIZI BOOBA': 1.99, 'Hit the Button Math': 2.99, 'Clouds & Sheep 2 Premium': 3.99, 'Dictionnaire Le Robert Mobile : 4 en 1': 7.99, 'Kaiser 64': 0.99, 'Fear For Sale: Nightmare Cinema - A Mystery Hidden Object Game (Full)': 2.99, 'Timeshare+': 1.99, 'GUNTAI': 3.99, 'Pan Book 3: Key to the Capitol': 5.99, 'Sight Recover 3D': 0.99, 'parkOmator – for Apple Watch meter expiration timer, notifications & GPS navigator to car location': 0.99, 'Cloud Play Pro - Music Player & Streamer for Dropbox, Google Drive, OneDrive, Box and iPod Library': 0.99, 'Pan Book 4: Capitol Rising': 5.99, 'Ducky Fuzz': 0.99, 'NOT ALONE - Story of a bird': 2.99, 'Powerful Silent Timer – Vibration Alarm for Library, Train etc.': 0.99, 'Theory Test for Car Drivers - Driving Test Success': 2.99, 'Pop Jump': 0.99, 'PokéCatcher - Cheat for Pokémon GO': 0.99, 'Tinkerblocks – code, create, play': 1.99, 'Advent Magnificat Companion 2016': 1.99, 'Confusions de lettres': 2.99, 'Forevolution': 3.99, 'Base Invaders - For Big Narstie': 1.99, 'iOAK': 1.99, 'ZuumSpeed Customizable Speedometer + HUD': 0.99, 'Face on Face': 0.99, 'System Status : memory, CPU, network, battery data': 1.99, 'GROW：JOURNEY TO THE LIGHT': 0.99, 'Labo Halloween Car(4+)': 1.99, 'Tricks for iPhone (Pro)': 1.99, \"Let's do pretend Ice-cream shop! - Work Experience-Based Brain Training App\": 1.99, 'GENIUS Movie Idioms1000': 9.99, '21 Days Metabolic Diet': 2.99, 'Blitzrechnen 1. Klasse - Mathe lernen in der Grundschule mit Klett nach dem offiziellen Lehrplan': 3.99, 'Photograph+': 0.99, 'Robbiemoji by Robbie Williams': 1.99, 'Pan Book 5: The Shadow Stone': 5.99, 'Final Guitar - absolute guitar app': 0.99, 'Asymmetric': 1.99, 'A Florist': 0.99, 'Shapes & Colors Learning Kids Games for girls 2 +': 2.99, 'Simplissime: The easiest cooking app in the world': 2.99, 'Goodnight Little Sandman - Bedtime Ritual': 3.99, 'Dinos Jump - Dinosaur action game for kids': 2.99, \"Women's Health 100 Tage Training ohne Geräte\": 0.99, 'MoonCatcher': 0.99, 'MobileData - Mobile data usage with Today Widget': 0.99, 'Kanazawa Shogi 2': 5.99, 'A high end tuner for all instruments!@Tuner': 2.99, \"Fragment's Note -After Stories-\": 2.99, 'MotiConnect Pro': 1.99, 'StageCameraPro - Manners video and photo': 1.99, 'Daisy Chain': 0.99, 'Light+ AnalogCam': 0.99, 'La radio des enfants : Trop Fort !': 2.99, 'Green Game TimeSwapper': 2.99, 'Bibi & Tina: Pferdeabenteuer': 2.99, 'S ou SS': 2.99, 'Love Msg': 0.99, 'Starry sky Camera': 1.99, 'LabQuest Viewer': 4.99, 'Colored Dots -  by Ukids': 0.99, 'Bangers Unlimited 2': 3.99, 'Theory Test 4-in-1 Bundle - Driving Test Success': 4.99, 'Infinity Duels': 0.99, 'Xyngular Back Office': 1.99, 'Cannon Flight': 0.99, 'UK Snow Radar': 1.99, \"Fragment's Note2 Side:雪月\": 2.99, 'Set up the airplane parts! - Work Experience-Based Brain Training App': 1.99, 'Fiete Math - for 1st grade and preschool': 0.99, 'T Air for DVD': 24.99, 'Inversions': 2.99, 'Méditations avec Christophe André': 4.99, \"Mr.Luma's Super Flight\": 0.99, \"Fragment's Note2 Side:雫\": 2.99, \"What's that sound? - Educational game for children\": 0.99, 'FilmStory Pro - For All Your Video Editing Needs': 3.99, 'Pan Book 6: The Alliance of Tribes': 5.99, 'eBook: War and Peace': 3.99, 'Pupoji - Cute Dog Emoji Keyboard Puppy Face Emojis': 0.99, 'Masks - MSQRD Edition': 0.99, 'Clash Playbook: Plan Attacks for Clash of Clans': 0.99, 'BringGo Western Europe': 0.99, 'BRICEMOJI Brice de Nice': 0.99, 'The Rocky Horror Picture Show Emojis': 1.99, 'OneCam': 1.99, 'Theory Test and Hazard Perception Pro': 3.99, 'iLoan Calc (Loan calculator)': 3.99, 'Hazard Perception Mega Pack - Driving Test Success': 2.99, 'LGV Theory Test and Hazard Perception': 9.99, 'Golfmoji - Golf Emojis and Stickers': 0.99, 'Devil Tower 2': 0.99, 'Mancmoji - Manchester emoji-stickers!': 0.99, 'Scousemoji - Liverpool emoji-stickers': 0.99, 'PrestoBand Guitar and Piano': 6.99, 'Oje, ich wachse!': 1.99, 'NZ vs Loons': 1.99, 'Good homes style-pro': 0.99, 'GeniusMovieWords': 9.99, 'Jourist Weltübersetzer': 7.99, 'Lumps of Clay': 0.99, 'SySight': 0.99, 'MORGAW® Saddle Adjust': 0.99, 'GREEiN': 0.99, 'Saloons Unleashed': 0.99, 'Mystic R': 0.99, 'Werewolf Special Package': 3.99, 'Le bonheur de lire dès 3 ans: learn to read French': 3.99, 'STUGGOJI': 0.99, 'Sight Word Games': 2.99, 'The Official DVSA Highway Code': 3.99, 'Nackt gut aussehen': 4.99, 'I see! Math1': 4.99, 'The Dance of the Little Water Drops': 2.99, 'CITB MAP HS&E test 2016': 5.99, 'The Official DVSA Theory Test Kit for Car Drivers': 4.99, 'Kazehakase fu-ring bank - Tokoname & Nanbu': 1.99, 'Bowitter for iPhone': 0.99, 'Refreshinator - Auto Refresh tool for Ticket sites': 1.99, 'CITB op/spec HS&E test 2016': 5.99, 'Table Speed': 2.99, 'Télécommande pour SFR TV': 0.99, 'Mon compte pour Free Mobile - Conso & Messagerie': 1.99, 'Der Feueralarm': 0.99, \"Women's Health: 1500 Kalorien Tag\": 1.99, 'Clash of Crime Mad City Full': 0.99, 'EggPunch 2 - adventure puzzle game': 0.99, 'Hooty Hoo: Bingo Math': 1.99, 'myINK sketch': 2.99, 'Periodic Table Chemistry': 6.99, 'iFleeing!': 0.99, 'VR MUSEUM': 4.99, 'Verbrechen - echte Polizeifälle aus Deiner Umgebung': 1.99, 'MonPetitGazon': 1.99, 'Mundo Lanugo en Navidad – Juegos Navideños': 1.99, 'BLW Slow Cook Recipes': 3.99, 'Blitzrechnen 2. Klasse - Mathe lernen in der Grundschule mit Klett nach dem offiziellen Lehrplan': 3.99, 'BrainConnect': 0.99, 'Handball EM 2016 Polen': 0.99, 'Learn to Speak Italian Fast With MosaLingua': 4.99, 'Babaji': 0.99, 'Calc for Loan': 3.99, 'Metal Emoji': 0.99, 'Brain IQ Test Adventure': 0.99, 'ABRSM Aural Trainer Grades 1-5': 7.99, 'HOOP J for Basketball Scores': 6.99, 'Bestshot: Take Clear Photos Automatically & Easily': 0.99, 'Be-be-bears!': 2.99, 'Hey Duggee: We Love Animals': 2.99}\n",
      "\n",
      "\n",
      "\n",
      "2952 Paid app(s) found\n"
     ]
    }
   ],
   "source": [
    "print(apple_paid_apps)\n",
    "print('\\n\\n')\n",
    "print(len(apple_paid_apps), 'Paid app(s) found')"
   ]
  },
  {
   "cell_type": "markdown",
   "metadata": {},
   "source": [
    "Google has name in `0` price in `7` column"
   ]
  },
  {
   "cell_type": "code",
   "execution_count": 42,
   "metadata": {},
   "outputs": [],
   "source": [
    "google_paid_apps = check_paid_apps(google_english_nodupes, 0, 7)"
   ]
  },
  {
   "cell_type": "code",
   "execution_count": 43,
   "metadata": {},
   "outputs": [
    {
     "name": "stdout",
     "output_type": "stream",
     "text": [
      "{'TurboScan: scan documents and receipts in PDF': 4.99, 'Tiny Scanner Pro: PDF Doc Scan': 4.99, 'Puffin Browser Pro': 3.99, 'Truth or Dare Pro': 1.49, 'Private Dating, Hide App- Blue for PrivacyHider': 2.99, 'Ad Blocker for SayHi': 3.99, 'AMBW Dating App: Asian Men Black Women Interracial': 7.99, 'Moco+ - Chat, Meet People': 3.99, 'Sago Mini Hat Maker': 3.99, 'Fuzzy Numbers: Pre-K Number Foundation': 5.99, 'Toca Life: Hospital': 3.99, 'My Talking Pet': 4.99, 'Meme Generator': 2.99, 'My CookBook Pro (Ad Free)': 3.49, 'Paprika Recipe Manager': 4.99, 'Pocket Yoga': 2.99, 'Meditation Studio': 3.99, 'Relax Melodies P: Sleep Sounds': 2.99, 'Clue': 1.99, 'The Room: Old Sins': 4.99, 'The Escapists': 4.99, 'Farming Simulator 18': 4.99, 'RollerCoaster Tycoon® Classic': 5.99, 'Call of Duty:Black Ops Zombies': 6.99, 'Star Wars ™: DIRTY': 9.99, 'Monument Valley 2': 4.99, 'Toca Mystery House': 3.99, 'My Little Princess : Stores': 2.99, 'Sago Mini Big City': 3.99, 'Pinkalicious Party': 2.99, 'Toca Builders': 3.99, 'Toca Life: City': 3.99, 'LEGO® Friends': 4.99, 'My Little Work – Garage': 3.99, 'Alizay, pirate girl': 2.99, 'Children Educational Game Full': 7.49, 'Hactar Go': 2.99, 'All-in-One Mahjong 3': 0.99, 'World Racers family board game': 0.99, 'SweetLand — Family Board Game': 0.99, 'Steam: Rails to Riches': 4.99, 'Whoowasit? - Best kids game!': 2.99, 'Lanterns: The Harvest Festival': 4.99, 'Tsuro - The Game of the Path': 2.99, 'THE aMAZEing Labyrinth': 4.99, 'Chess and Mate': 4.99, 'Avokiddo Emotions': 2.99, 'Nighty Night Circus': 2.99, 'Sago Mini Babies': 3.99, 'Minecraft': 6.99, 'Card Wars - Adventure Time': 2.99, 'Monash Uni Low FODMAP Diet': 9.0, 'iBP Blood Pressure': 0.99, 'Pedi STAT': 5.49, 'ASCCP Mobile': 9.99, 'Journal Club: Medicine': 6.99, 'Paramedic Protocol Provider': 10.0, 'MommyMeds': 3.99, 'Medical ID - In Case of Emergency (ICE)': 5.99, 'Essential Anatomy 3': 11.99, 'Vargo Anesthesia Mega App': 79.99, 'EMT Review Plus': 11.99, 'Muscle Trigger Point Anatomy': 2.99, '2017 EMRA Antibiotic Guide': 16.99, 'ASRA Coags': 3.99, 'IBM Micromedex Drug Info': 2.99, 'Diabetes & Diet Tracker': 9.99, 'VeinSeek': 3.99, 'Block Buddy': 14.99, 'Super Hearing Secret Voices Recorder PRO': 2.99, 'EMT Study - NREMT Test Prep': 3.99, 'Calcium Pro': 2.99, 'Arrhythmias and Dysrhythmias': 1.0, 'EMT PASS': 29.99, 'Pocket Lab Values': 2.99, 'Medical terms (OFFLINE)': 2.99, 'ERres- Emergency Medicine': 4.99, 'FHR 5-Tier 2.0': 2.99, 'AnatomyMapp': 14.99, 'OptoDrum': 5.99, 'Migraine, Headache Diary HeadApp Pro': 3.49, 'Blood Pressure Companion': 0.99, 'Visual Anatomy 2': 2.49, 'Muscle Premium - Human Anatomy, Kinesiology, Bones': 24.99, 'CCHT PREP': 10.99, 'Paramedic Meds': 1.99, 'Advanced Comprehension Therapy': 24.99, 'OmniMedix Medical Calculator': 4.99, 'Breathing Zone': 3.99, 'Lab Values + Medical Reference': 2.99, 'Recognise Foot': 7.49, 'Anti Mosquito simulation': 1.5, 'Pain Tracker & Diary': 2.99, 'Menstrual Calendar Premium': 3.99, 'Whist - Tinnitus Relief': 1.99, 'Critical Care Paramedic Review': 9.99, 'With Helper Pro Pill Reminder': 3.99, 'Manage My Pain Pro': 3.99, 'End Anxiety Pro - Stress, Panic Attack Help': 3.99, 'Acupuncture Assistant': 7.99, 'Number Therapy': 14.99, 'InfantRisk Center HCP': 9.99, 'EMT Tutor NREMT-B Study Guide': 3.99, 'Hospitalist Handbook': 19.99, 'PTA Content Master': 29.99, 'Navi Radiography Pro': 15.99, 'Nursing Care Plan NANDA Tables': 0.99, 'A Manual of Acupuncture': 33.99, 'palmPEDi: Pediatric Tape': 0.99, 'Language Therapy: Aphasia': 74.99, 'LTC AS Legal': 39.99, 'Visualmed': 2.99, 'ABG Master': 0.99, 'OrthoFlow': 5.99, 'Be the Expert in Phlebotomy - Professional Nursing': 0.99, 'Facetune - For Free': 5.99, 'Lapse It • Time Lapse • Pro': 2.99, 'Camera FV-5': 3.95, 'Golfshot Plus: Golf GPS': 29.99, 'Beautiful Widgets Pro': 2.49, 'HD Widgets': 0.99, 'Kairo XP (for HD Widgets)': 0.99, 'BIG Launcher': 9.99, 'Smart Launcher Pro 3': 4.49, 'aCalendar+ Calendar & Tasks': 5.99, 'Weather Live Pro': 4.49, 'ADS-B Driver': 1.99, 'B-17 Flying Fortress WWII LWP': 1.49, 'Smart Launcher theme b. gold': 1.99, 'Next Launcher 3D Theme Hit-B': 1.7, 'B-52 Spirits of Glory Deluxe': 0.99, 'B-Grade Renegade': 1.99, 'CURSUM B': 0.99, 'C4droid - C/C++ compiler & IDE': 2.99, 'C Locker Pro': 2.99, 'Neon Glow C - Icon Pack': 0.99, 'Hitman Sniper': 0.99, 'Koi Live Wallpaper': 0.99, 'Mind Games Pro': 2.99, 'Maps & GPS Navigation OsmAnd+': 8.99, 'F-Stop Gallery Pro': 4.99, 'Speech Therapy: F': 2.99, 'F-Sim Space Shuttle': 4.99, 'Weather Live': 5.99, 'Norwegian For Kids & Babies F': 39.99, 'F-1 watchface by Delta': 2.49, 'F Length Sim (no Ads)': 2.0, 'Arto: f.infrared photo': 1.49, 'G Cloud Apps Backup Key * root': 4.99, 'Next Launcher 3D Theme Hit-G': 1.7, 'G-Playlists': 1.49, 'Ramfer - CNC Lathe G-code Tool': 2.99, 'G-Force Driving Assistant': 3.88, 'Go': 0.99, 'G-NetTrack Pro': 14.99, 'G Theme 2 for LG V30, LG G6': 1.49, 'A41 WatchFace for Android Wear Smart Watch': 0.99, 'G-NetReport Pro': 25.99, 'Dialer theme G Black Gold': 1.49, 'G-NetWiFi Pro': 5.99, 'H*nest Meditation': 1.99, 'Deaf - Hearing chat device H': 3.99, 'most expensive app (H)': 399.99, 'The World Ends With You': 17.99, 'Ulysse Speedometer Pro': 1.99, 'D+H Reaction Wall': 0.99, 'Cut the Rope GOLD': 0.99, 'J Alvarej Moji': 1.99, 'K-@ Mail Pro - Email App': 4.99, 'K.MOJI': 1.99, 'Math Games for Pre-K - Grade 4': 1.99, 'Anna.K Tarot': 3.99, 'm>notes notepad': 2.99, \"💎 I'm rich\": 399.99, \"I'm Rich - Trump Edition\": 400.0, 'N Launcher Pro - Nougat 7.0': 2.99, \"Traps n' Gemstones\": 4.99, \"Guns'n'Glory Zombies Premium\": 2.99, \"Guns'n'Glory Premium\": 2.99, \"Ghosts'n Goblins MOBILE\": 0.99, 'Dark Infusion Substratum Theme for Android N & O': 2.49, \"Guns'n'Glory Heroes Premium\": 2.99, \"Lock 'n' Roll Pro - Ad Free\": 0.99, 'Age of Conquest: N. America': 3.99, \"Guns'n'Glory WW2 Premium\": 2.99, \"Jump'N'Shoot Attack\": 2.49, \"Ghouls'n Ghosts MOBILE\": 1.99, \"Oddworld: New 'n' Tasty\": 4.99, 'Planet O - Icon Pack': 0.99, 'Stand O’Food® (Full)': 1.99, 'Detect-O-Gromit (D.O.G 2)': 2.49, 'Obbligo o Verità? PRO': 0.99, \"O'Route Orienteering\": 3.02, 'Prime Key for Nougat Launcher& O Launcher &KitKat': 6.99, 'Android P | Xperia™ Theme 4800+ icons': 1.99, 'Android P Home KLWP': 1.49, 'P-Home for KLWP': 0.99, '[substratum] Vacuum: P': 1.49, '[Sub/EMUI] P Pro - EMUI 8.1/8.0/5.X Theme': 0.99, 'Pacify Exceed (Android P) - Theme for Xperia™': 1.49, 'Theme Android P Design for LG V30': 1.49, 'Pistachio Launcher for Android P 9.0': 1.49, 'Theme Android P for LG G7 & V35': 1.49, 'Volume Slider Like Android P Volume Control': 0.99, 'Pacify (Android P theme) - Theme for Xperia™': 0.99, 'Popsicle Launcher for Android P 9.0 launcher': 1.49, 'Theme Android P Black design for LG V30': 1.49, 'Theme Android P Black for LG G7 & V35': 1.49, 'Pureness Pacify (Android P) - Theme for Xperia™': 1.49, 'Android P Style Icon Pack': 0.99, 'Pixel Oreo/P Dark White AMOLED UI - Icon Pack': 1.49, 'pretty Easy privacy p≡p': 0.99, 'P Icon Pack': 0.99, 'Q Alerts: QAnon Drop Notifications, Research +++': 0.99, 'Q Avatar Pro': 1.49, 'Q-slope': 1.76, 'R Instructor': 4.84, 'R-TYPE II': 1.99, 'R-TYPE': 1.99, 'Day R Premium': 4.99, 'Elemental Knights R Platinum': 4.77, 'Neon-R (Red)': 0.99, 'S Launcher Pro for Galaxy': 4.99, 'PitchBlack S - Samsung Substratum Theme “For Oreo”': 1.99, 'Shopping List S PRO': 2.49, \"I Can't Wake Up!\": 2.99, \"Don't Starve: Pocket Edition\": 4.99, \"Please, Don't Touch Anything\": 4.99, \"Please Don't Touch Anything 3D\": 5.99, \"Don't Panic with Andrew J.\": 2.99, \"Don't Starve: Shipwrecked\": 4.99, \"Ludo - Don't get angry\": 1.61, 'Jurassic Life: T Rex Simulator': 0.99, 'Kicker U': 3.99, 'Alarmy (Sleep If U Can) - Pro': 2.49, 'FINAL FANTASY V': 7.99, 'FORD V SERIES CALC - NO LIMIT': 9.99, 'Mike V: Skateboard Party PRO': 3.99, 'Mental Hospital V': 0.99, 'DRAGON QUEST V': 14.99, 'W Pro - Weather Forecast & Animated Weather Maps': 1.99, 'W-History Standalone': 0.99, 'weather HD': 1.99, 'X Launcher Pro: PhoneX Theme, OS11 Control Center': 1.99, 'X Launcher Pro - IOS Style Theme & Control Center': 1.99, 'X Launcher Prime: With OS Style Theme & No Ads': 1.99, 'Light X - Icon Pack': 0.99, 'X-Plane to GPS': 0.99, 'iLauncher OS 12 Pro - Phone X': 2.99, 'X Back - Icon Pack': 0.99, 'Decibel X PRO - Sound Meter dBA, Noise Detector': 3.99, 'X Construction': 1.49, 'X Home Bar - Home Bar Gesture Pro': 1.99, 'Z Origins - (Z The Game)': 2.99, 'Space Z 🌏 🚀Icon Pack Theme': 1.49, 'Zombie Avengers:(Dreamsky)Stickman War Z': 0.99, 'ZArchiver Donate': 2.5, 'Cardio Z': 5.99, 'Z PIVOT': 19.99, 'Daily Ab Workout': 1.99, 'Math games for kids : times tables training': 1.59, \"Assassin's Creed Identity\": 1.99, 'Pocket AC': 9.99, 'Flud (Ad free)': 1.49, 'tTorrent - ad free': 1.99, 'cronometer (ad free)': 2.99, 'MyRadar NOAA Weather Radar Ad Free': 2.99, 'FVD Ad-Free': 1.99, 'Weather & Radar Pro - Ad-Free': 2.99, 'ONScripter Plus (Ad Free)': 3.99, 'Vpn Hosts (ad blocker & no root & support ipv6 )': 2.99, 'WhatsFake Pro (Ad free)': 0.99, 'Ad Removal: thereisonlywe': 6.49, 'Ad Remove Plugin for App2SD': 1.29, 'RAM Cleanup Ad-Free Option': 2.99, 'My baby firework (Remove ad)': 0.99, 'Easy Hotspot Ad Free': 0.99, 'Mupen64Plus AE (N64 Emulator)': 0.99, 'NewTek NDI': 19.99, 'Gunship III Vietnam People AF': 4.99, 'AF-STROKE': 5.0, 'AG Contacts, Premium edition': 4.99, 'AG Subway Simulator Mobile': 0.99, \"Michael's AG Sound Board\": 0.99, 'AH Alarm Panel': 4.99, 'The Artificial Intelligence Project (A.I. Chat)': 1.99, 'AI Draw | Art Filter for Selfie': 2.99, 'Message AI - Write Better Messages': 2.99, 'Age of AI: War Strategy': 2.49, 'AJ Jump: Animal Jam Kangaroos!': 1.99, \"Hey AJ! It's Saturday!\": 3.99, \"Hey AJ! It's Bedtime!\": 4.99, 'Watch Face Swiss AJ-6': 0.99, 'AJ Gray Icon Pack': 0.99, 'AJ Gray Dark Icon Pack': 0.99, 'AJ Blue Icon Pack': 0.99, 'AJ Turquoise Dark Icon Pack': 0.99, 'AJ Orange Icon Pack': 0.99, 'Ak Parti Yardım Toplama': 13.99, \"Al'Quran Bahasa Indonesia PRO\": 4.49, 'I am rich': 399.99, 'I am Rich Plus': 399.99, 'I am rich VIP': 299.99, 'I Am Rich Premium': 399.99, 'I am extremely Rich': 379.99, 'I am Rich!': 399.99, 'I am rich(premium)': 399.99, 'I am Rich Person': 37.99, 'I am Rich Premium Plus': 18.99, 'I Am Rich Pro': 399.99, 'I am rich (Most expensive app)': 399.99, 'I Am Rich': 389.99, 'I am Bread': 4.99, 'I am Rich': 399.99, 'I am Millionaire - Richest guy in the town': 2.49, 'I AM RICH PRO PLUS': 399.99, 'The Hunt for the Lost Treasure': 2.99, 'Attack the Light': 2.99, 'Gravidez ao Vivo': 2.99, 'AP Government Review': 2.99, 'ap,wifi testing,iperf,ping,android,Bluetooth,tcp': 2.99, '500 AP World History Questions': 9.99, 'AP Themes for Kustom/KLWP': 1.49, 'iScore5 AP Psych': 4.99, 'Glanceable Ap Watch Face': 0.99, 'meStudying: AP English Lit': 4.99, 'AP Series Solution Pro': 1.99, 'AP Art History Flashcards': 29.99, 'True Skate': 1.99, 'AQ Math Facts': 2.99, 'Nightenfell: Shared AR': 0.99, 'Sleep as Android Unlock': 5.99, 'Lullaby Add-on for Sleep as Android': 1.99, \"Five Nights at Freddy's 2\": 2.99, \"Five Nights at Freddy's\": 2.99, \"Five Nights at Freddy's: SL\": 2.99, \"Five Nights at Freddy's 4\": 2.99, \"Five Nights at Freddy's 3\": 2.99, 'BringGo AU & NZ': 0.99, 'AV Tools Pro': 2.49, 'Ai-Ball AV Recorder': 2.99, 'AW Toolbox': 19.9, 'Analog Clock AW-7 PRO': 1.99, 'Analog and Digital Clock AW-7PRO': 1.99, 'Ultimate Watch 2 watch face': 0.99, 'Pujie Black Watch Face for Android Wear OS': 1.99, 'F05WatchFace for Android Wear': 0.99, 'INTERACTIVE CALCULUS PRO': 0.99, 'AX Watch for WatchMaker': 0.99, '¡Ay Caramba!': 1.99, 'Ay Yıldız - Xperia Live Theme': 0.99, 'YAKALA AY': 0.99, 'Lunar Calendar': 4.99, 'Greater London A-Z 2016': 8.49, 'Ba Financial Calculator plus': 3.99, 'Financial Calculator BA Chien.': 3.99, 'BA Pro Financial Calculator': 1.99, 'Ra Ga Ba': 1.49, 'Alif Ba Ta Bullseye': 1.99, 'Learn Quran with Elif Ba': 1.49, 'PROFESSOR SEE-BA LINGUAGENS E SUAS TECNOLOGIAS': 2.99, 'Ain Arabic Kids Alif Ba ta': 2.99, 'Hunt Buddy BC': 2.99, 'iHunter BC': 4.49, 'iFish BC': 3.99, 'Ice Crush 10.000 B.C.': 0.99, 'BC MVA Fines': 1.75, 'Baby Connect (activity log)': 4.99, 'Car Driving Theory Test BC': 1.49, 'Truck Driving Test Class 3 BC': 1.49, 'Business Calendar Pro': 4.99, 'BackCountry Navigator TOPO GPS PRO': 11.99, 'Be Stronger': 1.99, 'Wolf of the BF:Commando MOBILE': 0.99, 'My Virtual Boyfriend': 0.99, 'Droid PRoCon BF3': 0.99, 'BeFunky Photo Editor Pro': 1.99, 'BG Monitor Diabetes Pro': 5.99, 'Board Game Stats: Play tracking for tabletop games': 2.99, 'Es-Bg Offline Voice Translator': 1.49, \"Baldur's Gate: Enhanced Edition\": 9.99, 'Shadow Fight 2 Special Edition': 4.99, 'Backgammon NJ for Android': 7.99, 'LEGO ® Batman: Beyond Gotham': 4.99, \"Baldur's Gate II\": 9.99, 'BusyBox Pro': 2.49, 'Battleheart Legacy': 4.99, 'Bi-Tank Ads Free': 0.99, 'BI Barcode Scanner': 0.99, 'BJ Bridge Pro 2018': 4.49, 'Blackjack Verite Drills': 14.0, 'Phonics Puzzles': 2.99, 'Power Widget': 1.99, 'SLANGY-Perfect BK World Theme': 4.85, 'Bk Bee Sales Manager': 0.99, 'Chess of Blades (BL/Yaoi Game) (No VA)': 14.99, 'BL 1-Click Camera': 3.99, 'BL File Explorer': 1.99, 'BL IP-Camera': 3.99, 'BL Holo Theme': 2.0, 'MEGA MAN MOBILE': 1.99, 'BL PowerPoint Remote': 3.99, 'Basket Manager 2018 Pro': 2.99, 'BatControl Pro': 3.99, 'Basket Manager 2016 Pro': 0.99, 'Basket Manager 2017 Pro': 0.99, 'Sam.BN Pro': 0.99, 'New York Mysteries (Full)': 6.99, 'The Legacy (Full)': 6.99, 'Skip-Bo™': 2.99, 'Beck & Bo: Toddler First Words': 2.99, \"Bo's Bedtime Story\": 2.49, 'Sic Bo': 1.99, 'Dr.Dice - Sic bo analyzer': 46.99, \"Bo's Matching Game\": 0.99, \"Bo's Dinnertime Story\": 2.49, 'Socle Commun BO du 23-04-2015': 0.99, \"Bo's School Day\": 2.99, 'Monitor My BP': 5.99, 'bpresso PRO': 5.49, 'BP Fitness Lead Scanner': 109.99, 'Infinity Dungeon VIP': 0.99, 'QR Code Pro': 4.49, 'TV Guide BR Gold': 1.49, 'cronometra-br': 154.99, 'BSPlayer': 5.99, 'BS Match Maker Premium': 0.99, \"BS Detector - Diss 'n' Gauges\": 1.49, '17th Edition Cable Sizer': 3.08, 'Little Magnet BT Pro': 0.99, 'Battery Notifier Pro BT': 2.59, 'BT Speed': 4.8, 'USB BT Wi-Fi Color Terminal Modem': 8.99, 'SkyTest BU/GU Lite': 17.99, 'My Budget Book': 2.99, 'BW-Go': 3.49, 'Watch Face BW Inter': 0.99, 'BlackCam Pro - B&W Camera': 1.49, 'Color Changer Pro [root]': 0.99, 'Hitman GO': 0.99, 'Bixby Button Remapper - bxActions Pro / Coffee': 2.99, 'Bitcoin BX Thailand PRO': 4.99, 'Lollipop Launcher Plus': 4.99, 'Trinomial Factoring Wizard': 0.99, 'BZ Reminder PRO': 3.99, 'California Cop Assist CA Cop': 4.99, 'CA Speakers': 0.99, 'CB Frequencies': 0.99, 'Antenna Tool Premium': 0.99, 'Frequencies': 0.99, 'My Movies Pro - Movie & TV Collection Library': 7.99, 'CE Map - Interactive Conan Exiles Map': 0.99, 'PAC-MAN CE DX': 4.99, 'Theatre of the Absurd CE(Full)': 2.99, 'TI-84 CE Graphing Calculator Manual TI 84': 4.99, 'AC CE BJT Actorial': 2.0, 'Depths of Betrayal CE (Full)': 2.99, 'CE Genius Nurses Edition': 3.99, 'Führerschein Klasse CE, LKW 2018': 2.49, 'CF-Bench Pro': 1.49, 'Next Launcher 3D Bold-CF Theme': 0.99, 'Squeezy CF': 2.99, 'Ultimate Public Campgrounds (Over 37,100 in US&CA)': 3.99, 'Weather Data CH': 2.99, 'Dots puzzle': 0.99, 'Dive-Store.ch': 1.99, 'FAV KWGT': 0.99, 'Reading Race 1b: sh, ch words': 3.99, 'Speech Therapy: CH': 1.99, 'ch-mm Dict': 1.96, 'boattheory.ch Full 2018': 19.4, 'Threema': 2.99, 'Battery HD Pro': 3.99, 'DRAGON QUEST IV': 14.99, 'Automagic * Automation': 3.9, 'FlashLight HD LED Pro': 2.99, 'Pixxy KWGT': 0.99, 'Paris ci la Sortie du Métro': 2.99, 'CI 174 Gray Icon Pack': 0.99, 'All-night drugstore CI & Price': 0.99, 'CI Attendance': 0.99, 'Grand Theft Auto: San Andreas': 6.99, 'F*ck This Game': 0.99, '211:CK': 0.99, 'USMLE Step 2 CK Flashcards': 19.99, 'FREE CHATS C.L.': 0.99, 'CM Launcher 3D Pro💎': 4.99, 'Swift Dark CM / CM13 Theme': 1.99, 'CM FILE MANAGER Pro': 2.99, 'OMEGA Black UI Theme - CM 12+': 0.99, 'Teen Titans GO Figure!': 3.99, 'CN Superstar Soccer: Goal!!!': 2.99, 'Teeny Titans - Teen Titans Go!': 3.99, 'Ski Safari: Adventure Time': 0.99, 'Rockstars of Ooo': 1.99, 'Flipped Out! - Powerpuff Girls': 2.99, 'Adventure Time Game Wizard': 4.99, 'Best Park in the Universe': 2.99, 'Formula Cartoon All Stars': 2.99, 'Tetrobot and Co.': 2.99, 'Wuwu & Co.': 2.99, 'SharedCare™ Co-parenting': 4.59, 'Chinese Chess 3D Online (Xiangqi, 象棋, co tuong)': 0.99, 'UFO-CQ': 0.99, '10 WPM Amateur ham radio CW Morse code trainer': 1.49, '25WPM Amateur ham radio Koch CW Morse code trainer': 1.49, 'DCUO|CR Calculator Pro': 0.99, 'Servidor Privado CR y CoC - Royale Servers PRO': 1.99, 'Jetting for Honda CR dirt bike': 3.49, 'Jeppesen CR Flight Computer': 9.99, 'CamScanner (License)': 1.99, 'Asiimov Skin - CS GO Icon Pack': 2.49, 'CS go bomb simulator': 0.99, 'Emergency Brain CT': 0.99, 'CT-REMOTE': 4.49, 'Abdominal CT Sectional Walker': 9.99, 'Interactive CT and MRI Anatomy': 15.46, 'CT and XR Dose Calculator': 0.99, 'Chest CT Sectional Walker': 9.99, 'Radiological Anatomy For FRCR1': 6.99, 'Navigator PRO - GPS Navigation with Offline Maps': 2.49, 'Super Resume Builder Pro, CV': 4.99, 'CV-RECORD Pro': 0.99, '2 Amateur ham radio CW Morse code practice keys TX': 1.49, 'CW Beacon for Ham Radio': 1.49, 'Morse Decoder for Ham Radio': 4.99, 'CW Studio ®': 0.99, '20WPM Amateur ham radio Koch CW Morse code trainer': 1.49, 'Morse Trainer for Ham Radio': 2.99, 'Morse Machine for Ham Radio': 0.99, 'Pocket RxTx Pro': 3.99, 'Morse Player': 1.99, 'CW Ringtone (Morse Code generator)': 2.49, '30WPM Amateur ham radio Koch CW Morse code trainer': 1.49, 'Learn CW': 2.49, 'Koch Morse Trainer Pro': 2.49, 'TI-Nspire CX Calculator Manual': 4.99, 'Absolute RC Heli Simulator': 4.99, 'go41cx': 10.0, 'Cytus II': 1.99, 'CZ-70 (CZ-50) pistol explained': 5.99, 'CZ-52 pistol explained': 5.99, 'CZ-27 pistol explained': 5.99, 'Online TV CZ/SK PRO': 0.99, 'CZ-45 pistol explained': 5.49, 'CZ-Cyberon Voice Commander': 5.99, 'Pistolet CZ-70 CZ-50 expliqué': 5.99, 'CZ-38 (vz 38) pistol explained': 5.99, 'Reksio cz. 1': 0.99, 'Tools & Mi Band': 3.49, 'The House of Da Vinci': 4.99, 'King of Math': 2.99, 'Peppa Pig: Party Time': 2.99, 'ACCDB MDB DB Manager Pro - Editor for MS Access': 8.99, 'Scale Models DB': 2.99, '10,000 Quotes DB (Premium)': 0.99, 'ReDNAKET DB Normalization Tool': 0.99, 'LC-DB': 3.49, 'db Meter - sound level meter with data logging': 1.49, 'LEGO Batman: DC Super Heroes': 4.99, 'D.C. Driving/Walking Tours': 4.99, 'DC Metro Transit': 2.99, 'AC DC Power Monitor': 3.04, 'Myth Defense 2: DF Platinum': 3.99, 'Guide to Nikon Df': 29.99, 'Técnico Legislativo Câmara Legislativa DF': 2.99, 'Cargo de Praça PM DF': 2.99, 'Droidbug BusyBox Advance PRO': 3.99, 'Diseño de columnas NTC - RSEE 2017': 0.99, 'Penny Finder': 2.99, 'DG Surveyor': 8.99, 'Penny Puss': 4.99, 'ZombieVital DG': 12.99, 'The DG Buddy': 2.49, 'Cameringo+ Filters Camera': 2.99, 'Fodbold DK Pro': 2.99, 'DK Primrose for KLWP': 0.99, 'Advanced Download Manager Pro': 2.99, 'DL Image Manager': 0.99, 'Dungeons and Dragons DM Tools': 1.99, 'DM Die Roller 9000': 0.99, 'Interactive NPC DM Tool': 0.99, 'Basketball Dynasty Manager 16': 1.99, 'MultiPicture Live Wallpaper dn': 1.99, 'Cossack Dictionary (DN)': 2.99, 'Writing Wizard Premium - Handwriting': 4.49, 'MC.Fitting': 8.49, 'Day Night Live Wallpaper (All)': 2.49, 'DRAGON QUEST VIII': 19.99, 'DRAGON QUEST III': 9.99, 'LightMeter (noAds)': 1.99, 'DRAGON QUEST': 2.99, 'DRAGON QUEST II': 4.99, 'DRAGON QUEST VI': 14.99, 'CHRONO TRIGGER (Upgrade Ver.)': 9.99, 'FINAL FANTASY DIMENSIONS': 13.99, 'myGrow': 4.29, 'Dr. Panda Farm': 2.99, 'DR.MEEP': 2.99, 'Dr. Panda Art Class': 2.99, \"Dr. Panda's Swimming Pool\": 1.99, \"Dr. Panda & Toto's Treehouse\": 3.99, 'Dr. Splorchy Presents Space Heroes': 4.99, 'Dr. McDougall Mobile Cookbook': 4.99, \"Dr. Seuss's ABC\": 3.99, 'Dr. Panda Hospital': 2.99, 'Dr. Panda Restaurant 2': 2.99, 'Dr. Panda Supermarket': 2.99, 'DraStic DS Emulator': 4.99, 'DS Helpdesk Plus': 12.99, 'Ability DS UNO': 2.6, 'Deep Sleep Battery Saver Pro': 3.28, 'PhotoFrame for Synology DS': 4.99, 'Real Sheet ∞: Pathfinder + DT': 2.99, 'Bloons TD 5': 2.99, 'Riptide GP: Renegade': 2.99, 'The Secret Daily Teachings': 4.99, 'Dirt Trackin Sprint Cars': 3.99, 'Weather Forecast Pro': 3.99, 'Officiel du SCRABBLE LAROUSSE': 4.6, 'iCam - Webcam Video Streaming': 4.99, 'DW Contacts widget': 0.99, 'RETRO Shocked DW-6000': 1.49, 'Retro City Rampage DX': 2.99, 'PORTABLE SOCCER DX': 1.0, 'ZOOKEEPER DX TouchEdition': 0.99, 'KeePass DX Pro': 5.99, 'Chronolink DX': 0.99, 'Active Soccer 2 DX': 2.99, 'Bubble Shooter DX AdFree': 2.99, \"Santa's Monster Shootout DX\": 1.99, 'DX Glow - Clock Widget': 0.99, 'iCluster - The DX-Cluster database': 0.99, 'Dress Up RagazzA13 DX': 0.99, 'Unstoppaball DX': 1.49, 'Differential Dx': 3.99, 'Sokoban Land DX': 2.99, 'Train Sim Pro': 1.49, 'DZ Puzzle': 0.99, 'amm dz': 5.99, 'Dz kayas': 28.99, 'Lost Journey (Dreamsky)': 0.99, 'NBA JAM by EA SPORTS™': 4.99, 'League of Stickman 2018- Ninja Arena PVP(Dreamsky)': 0.99, 'Stickman Legends: Shadow Wars': 0.99, 'Schlaumeier': 0.99, 'Electrician Calculator Pro': 14.99, 'EC music dictionary': 1.99, 'EF Lens Simulator': 9.99, 'Carrier Landings Pro': 12.99, 'E.G. Chess': 0.99, 'EG Classroom Decimals™': 2.99, 'EG | Explore Folegandros': 3.99, 'Inventory & Barcode scanner & WIFI scanner': 1.49, 'Vital Tones EI Pro': 9.99, 'Silence Premium Do Not Disturb': 2.95, 'Learn Music Notes': 1.99, 'Farming Simulator 16': 2.99, 'WIZARD Card Game': 1.99, 'WiFi Tether Router': 2.9, 'El Chavo': 0.99, 'Monastery of El Escorial': 1.99, 'Trazado de tuberia El Tubero': 1.97, 'The Game of Life': 2.99, 'Human Anatomy Atlas 2018: Complete 3D Human Body': 24.99, 'EM Launcher Pro': 3.99, \"Poker Equity Calculator Pro for No Limit Hold'em\": 0.99, 'LocaToWeb - Live GPS tracking': 2.49, 'ai.type keyboard Plus + Emoji': 4.49, 'The EO Bar': 6.99, 'EO Guide': 4.99, 'Masha and the Bear- House Cleaning Games for Girls': 1.99, 'Masha and the Bear - Hair Salon and MakeUp Games': 2.49, \"Where's My Water?\": 1.99, 'O Céu e o Inferno': 0.99, 'Out There Chronicles - Ep. 1': 2.99, 'Out There Chronicles - Ep. 2': 2.99, 'EP McGuffey Primer': 1.99, 'EP Calipers': 0.99, 'Superbrothers Sword & Sworcery': 3.99, 'EP Coding': 0.99, 'The Great Wobo Escape Ep.1': 1.99, 'EP Cook Book': 200.0, 'Sonic 4™ Episode I': 2.99, 'Lean EQ': 89.99, 'ES File Explorer/Manager PRO': 2.99, 'Learn Italian with MosaLingua': 4.99, 'YouCamp EU': 2.56, 'EU Flags Live Wallpaper': 0.99, 'Eu sou Rico': 30.99, 'EU RCD Guide': 3.61, 'Eu Sou Rico': 394.99, 'IF YOU TO EU PEGO': 1.26, 'Campervan.Guide Pro': 5.99, 'Tasker': 2.99, 'European War 6: 1804': 0.99, 'XCOM®: Enemy Within': 9.99, 'Deus Ex GO': 0.99, 'ADWLauncher 1 EX': 2.49, 'XE Currency Pro': 1.99, 'Device Info Ex Live Wallpaper': 0.99, 'Advanced EX for HYUNDAI': 4.99, 'Remote EX for NISSAN': 1.49, 'Advanced EX for MITSUBISHI': 4.99, 'Advanced EX for KIA': 4.99, 'Advanced EX for NISSAN': 4.99, 'Advanced EX for FIAT': 4.99, 'Advanced EX for RENAULT': 4.99, 'EX File Explorer File Manage Pro': 1.99, 'An Elite Warrior Ex': 0.99, 'GO Contacts EX Black & Grey': 0.99, 'ExDialer PRO Key': 3.99, 'Volume Control Ex': 1.49, 'Organizer': 2.99, 'Galaxian(FC)': 1.99, 'FiSwitch': 1.99, 'Smart Wi-Fi Hotspot PRO': 2.99, 'Portable Wi-Fi hotspot Premium': 0.99, 'Police Field Interview FI Card': 7.99, 'Talkie Pro - Wi-Fi Calling, Chats, File Sharing': 2.99, 'WiFi Monitor Pro - analyzer of Wi-Fi networks': 2.99, 'SCI-FI UI': 1.99, 'Wi-Fi Rabbit Unlock Key': 1.0, 'FJ Toolkit': 1.49, 'Kernel Manager for Franco Kernel ✨': 3.49, 'Ray Financial Calculator Pro': 2.99, 'FL SW Fishing Regulations': 1.99, 'Florida Tides & Weather': 6.99, 'FL Racing Manager 2015 Pro': 0.99, 'FL Racing Manager 2018 Pro': 1.99, 'Football Manager Mobile 2018': 8.99, 'FN pistol Model 1906 explained': 5.49, 'FN pistol model 1903 explained': 6.49, 'The FN \"Baby\" pistol explained': 5.99, 'FN FAL rifle explained': 6.49, 'The FN HP pistol explained': 6.49, 'FN model 1900 pistol explained': 6.49, 'Pistolet FN GP35 expliqué': 5.99, 'Pistolet FN 1906 expliqué': 5.49, 'Circle Colors Pack-FN Theme': 0.99, 'Solitaire+': 2.99, 'Fruit Ninja Classic': 0.99, 'FO Bixby': 0.99, 'Mu.F.O.': 0.99, 'FP VoiceBot': 0.99, 'Fast Tract Diet': 7.99, 'Trine 2: Complete Story': 16.99, 'sugar, sugar': 1.2, 'Word Search Tab 1 FR': 1.04}\n",
      "\n",
      "\n",
      "\n",
      "749 Paid app(s) found\n"
     ]
    }
   ],
   "source": [
    "print(google_paid_apps)\n",
    "print('\\n\\n')\n",
    "print(len(google_paid_apps), 'Paid app(s) found')"
   ]
  },
  {
   "cell_type": "markdown",
   "metadata": {},
   "source": [
    "**Start removing paid apps**"
   ]
  },
  {
   "cell_type": "code",
   "execution_count": 44,
   "metadata": {
    "scrolled": false
   },
   "outputs": [],
   "source": [
    "apple_free_appdata = delete_paid_apps(apple_english_nodupes, 1, 4)"
   ]
  },
  {
   "cell_type": "code",
   "execution_count": 45,
   "metadata": {},
   "outputs": [
    {
     "name": "stdout",
     "output_type": "stream",
     "text": [
      "Original Apple data length: 6156\n",
      "Identified paid were: 2952\n",
      "New Apple data length: 3204\n"
     ]
    }
   ],
   "source": [
    "print('Original Apple data length:', len(apple_english_nodupes))\n",
    "print('Identified paid were:', len(apple_paid_apps))\n",
    "print('New Apple data length:', len(apple_free_appdata))"
   ]
  },
  {
   "cell_type": "code",
   "execution_count": 46,
   "metadata": {},
   "outputs": [
    {
     "name": "stdout",
     "output_type": "stream",
     "text": [
      "['id', 'track_name', 'size_bytes', 'currency', 'price', 'rating_count_tot', 'rating_count_ver', 'user_rating', 'user_rating_ver', 'ver', 'cont_rating', 'prime_genre', 'sup_devices.num', 'ipadSc_urls.num', 'lang.num', 'vpp_lic']\n",
      "\n",
      "\n",
      "['284882215', 'Facebook', '389879808', 'USD', '0.0', '2974676', '212', '3.5', '3.5', '95.0', '4+', 'Social Networking', '37', '1', '29', '1']\n",
      "\n",
      "\n",
      "['389801252', 'Instagram', '113954816', 'USD', '0.0', '2161558', '1289', '4.5', '4.0', '10.23', '12+', 'Photo & Video', '37', '0', '29', '1']\n",
      "\n",
      "\n",
      "Number of rows: 3204\n",
      "Number of columns: 16\n"
     ]
    }
   ],
   "source": [
    "explore_data(apple_free_appdata, 0, 3, True)"
   ]
  },
  {
   "cell_type": "code",
   "execution_count": 47,
   "metadata": {},
   "outputs": [],
   "source": [
    "google_free_appdata = delete_paid_apps(google_english_nodupes, 0, 7)"
   ]
  },
  {
   "cell_type": "code",
   "execution_count": 48,
   "metadata": {},
   "outputs": [
    {
     "name": "stdout",
     "output_type": "stream",
     "text": [
      "Original Google data length: 9598\n",
      "Identified paid were: 749\n",
      "New Google data length: 8849\n"
     ]
    }
   ],
   "source": [
    "print('Original Google data length:', len(google_english_nodupes))\n",
    "print('Identified paid were:', len(google_paid_apps))\n",
    "print('New Google data length:', len(google_free_appdata))"
   ]
  },
  {
   "cell_type": "code",
   "execution_count": 49,
   "metadata": {},
   "outputs": [
    {
     "name": "stdout",
     "output_type": "stream",
     "text": [
      "['App', 'Category', 'Rating', 'Reviews', 'Size', 'Installs', 'Type', 'Price', 'Content Rating', 'Genres', 'Last Updated', 'Current Ver', 'Android Ver']\n",
      "\n",
      "\n",
      "['Photo Editor & Candy Camera & Grid & ScrapBook', 'ART_AND_DESIGN', '4.1', '159', '19M', '10,000+', 'Free', '0', 'Everyone', 'Art & Design', 'January 7, 2018', '1.0.0', '4.0.3 and up']\n",
      "\n",
      "\n",
      "['U Launcher Lite – FREE Live Cool Themes, Hide Apps', 'ART_AND_DESIGN', '4.7', '87510', '8.7M', '5,000,000+', 'Free', '0', 'Everyone', 'Art & Design', 'August 1, 2018', '1.2.4', '4.0.3 and up']\n",
      "\n",
      "\n",
      "Number of rows: 8849\n",
      "Number of columns: 13\n"
     ]
    }
   ],
   "source": [
    "explore_data(google_free_appdata, 0, 3, True)"
   ]
  },
  {
   "cell_type": "markdown",
   "metadata": {},
   "source": [
    "### 03 -> Analysis start"
   ]
  },
  {
   "cell_type": "markdown",
   "metadata": {},
   "source": [
    "As we mentioned in the introduction, our goal is to determine the kinds of apps that are likely to attract more users because the number of people using our apps affect our revenue.\n",
    "\n",
    "To minimize risks and overhead, our validation strategy for an app idea has three steps:\n",
    "\n",
    "1. Build a minimal Android version of the app, and add it to Google Play.\n",
    "2. If the app has a good response from users, we develop it further.\n",
    "3. If the app is profitable after six months, we build an iOS version of the app and add it to the App Store.\n",
    "\n",
    "Because our end goal is to add the app on both Google Play and the App Store, we need to find app profiles that are successful in both markets. For instance, a profile that works well for both markets might be a productivity app that makes use of gamification.\n",
    "\n",
    "Let's begin the analysis by determining the most common genres for each market. For this, we'll need to build frequency tables for a few columns in our datasets."
   ]
  },
  {
   "cell_type": "markdown",
   "metadata": {},
   "source": [
    "a) **Analysis of most common genres in each market**\n",
    "\n",
    "\n",
    "|Store|column_name|Index|\n",
    "|------|------|------|\n",
    "|Apple|prime_genre|`11`|\n",
    "|Google|Category|`1`|"
   ]
  },
  {
   "cell_type": "markdown",
   "metadata": {},
   "source": [
    "**Analyze the frequency table you generated for the prime_genre column of the App Store dataset.**"
   ]
  },
  {
   "cell_type": "markdown",
   "metadata": {},
   "source": [
    "1. **What is the most common genre? What is the next most common?**\n",
    "2. What other patterns do you see?\n",
    "3. What is the general impression — are most of the apps designed for practical purposes (education, shopping, utilities, productivity, lifestyle) or more for entertainment (games, photo and video, social networking, sports, music)?\n",
    "4. Can you recommend an app profile for the App Store market based on this frequency table alone? If there's a large number of apps for a particular genre, does that also imply that apps of that genre generally have a large number of users?"
   ]
  },
  {
   "cell_type": "code",
   "execution_count": 50,
   "metadata": {
    "scrolled": true
   },
   "outputs": [
    {
     "name": "stdout",
     "output_type": "stream",
     "text": [
      "(58.26, 'Games')\n",
      "(7.84, 'Entertainment')\n",
      "(5.0, 'Photo & Video')\n",
      "(3.68, 'Education')\n",
      "(3.31, 'Social Networking')\n"
     ]
    }
   ],
   "source": [
    "apple_analysis1 = gen_fq_table(apple_free_appdata, 11)\n",
    "print(apple_analysis1[0])\n",
    "print(apple_analysis1[1])\n",
    "print(apple_analysis1[2])\n",
    "print(apple_analysis1[3])\n",
    "print(apple_analysis1[4])"
   ]
  },
  {
   "cell_type": "markdown",
   "metadata": {},
   "source": [
    "1. What is the most common genre? What is the next most common?\n",
    "2. **What other patterns do you see?**\n",
    "3. What is the general impression — are most of the apps designed for practical purposes (education, shopping, utilities, productivity, lifestyle) or more for entertainment (games, photo and video, social networking, sports, music)?\n",
    "4. Can you recommend an app profile for the App Store market based on this frequency table alone? If there's a large number of apps for a particular genre, does that also imply that apps of that genre generally have a large number of users?"
   ]
  },
  {
   "cell_type": "code",
   "execution_count": null,
   "metadata": {},
   "outputs": [],
   "source": []
  },
  {
   "cell_type": "markdown",
   "metadata": {},
   "source": [
    "**Analyze the frequency table you generated for the Category and Genres column of the Google Play dataset.**"
   ]
  },
  {
   "cell_type": "markdown",
   "metadata": {},
   "source": [
    "1. **What are the most common genres?**\n",
    "2. What other patterns do you see?\n",
    "3. Compare the patterns you see for the Google Play market with those you saw for the App Store market.\n",
    "4. Can you recommend an app profile based on what you found so far? Do the frequency tables you generated reveal the most frequent app genres or what genres have the most users?"
   ]
  },
  {
   "cell_type": "code",
   "execution_count": null,
   "metadata": {},
   "outputs": [],
   "source": []
  }
 ],
 "metadata": {
  "kernelspec": {
   "display_name": "Python 3",
   "language": "python",
   "name": "python3"
  },
  "language_info": {
   "codemirror_mode": {
    "name": "ipython",
    "version": 3
   },
   "file_extension": ".py",
   "mimetype": "text/x-python",
   "name": "python",
   "nbconvert_exporter": "python",
   "pygments_lexer": "ipython3",
   "version": "3.8.2"
  }
 },
 "nbformat": 4,
 "nbformat_minor": 2
}
